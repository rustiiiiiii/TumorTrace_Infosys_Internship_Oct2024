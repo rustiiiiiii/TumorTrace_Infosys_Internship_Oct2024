{
 "cells": [
  {
   "cell_type": "code",
   "execution_count": null,
   "metadata": {},
   "outputs": [
    {
     "name": "stderr",
     "output_type": "stream",
     "text": [
      "c:\\Users\\shrey\\anaconda3\\Lib\\site-packages\\torchvision\\models\\_utils.py:208: UserWarning: The parameter 'pretrained' is deprecated since 0.13 and may be removed in the future, please use 'weights' instead.\n",
      "  warnings.warn(\n",
      "c:\\Users\\shrey\\anaconda3\\Lib\\site-packages\\torchvision\\models\\_utils.py:223: UserWarning: Arguments other than a weight enum or `None` for 'weights' are deprecated since 0.13 and may be removed in the future. The current behavior is equivalent to passing `weights=None`.\n",
      "  warnings.warn(msg)\n",
      "C:\\Users\\shrey\\AppData\\Local\\Temp\\ipykernel_2344\\792896580.py:11: FutureWarning: You are using `torch.load` with `weights_only=False` (the current default value), which uses the default pickle module implicitly. It is possible to construct malicious pickle data which will execute arbitrary code during unpickling (See https://github.com/pytorch/pytorch/blob/main/SECURITY.md#untrusted-models for more details). In a future release, the default value for `weights_only` will be flipped to `True`. This limits the functions that could be executed during unpickling. Arbitrary objects will no longer be allowed to be loaded via this mode unless they are explicitly allowlisted by the user via `torch.serialization.add_safe_globals`. We recommend you start setting `weights_only=True` for any use case where you don't have full control of the loaded file. Please open an issue on GitHub for any issues related to this experimental feature.\n",
      "  resnet18.load_state_dict(torch.load(r\"c:\\Users\\shrey\\Desktop\\resnet18_1.pth\", map_location=torch.device('cpu')))\n"
     ]
    },
    {
     "name": "stdout",
     "output_type": "stream",
     "text": [
      "* Running on local URL:  http://127.0.0.1:7860\n",
      "\n",
      "To create a public link, set `share=True` in `launch()`.\n"
     ]
    },
    {
     "data": {
      "text/html": [
       "<div><iframe src=\"http://127.0.0.1:7860/\" width=\"100%\" height=\"500\" allow=\"autoplay; camera; microphone; clipboard-read; clipboard-write;\" frameborder=\"0\" allowfullscreen></iframe></div>"
      ],
      "text/plain": [
       "<IPython.core.display.HTML object>"
      ]
     },
     "metadata": {},
     "output_type": "display_data"
    },
    {
     "data": {
      "text/plain": []
     },
     "execution_count": 2,
     "metadata": {},
     "output_type": "execute_result"
    }
   ],
   "source": [
    "import torch\n",
    "from torchvision import models\n",
    "import gradio as gr\n",
    "import torchvision.transforms as transforms\n",
    "from PIL import Image\n",
    "import torch.nn as nn\n",
    "\n",
    "# Load the model\n",
    "resnet18 = models.resnet18(pretrained=False)\n",
    "resnet18.fc = nn.Linear(resnet18.fc.in_features, 2)  # Modify the last layer\n",
    "resnet18.load_state_dict(torch.load(r\"resnet18_1.pth\", map_location=torch.device('cpu')))\n",
    "resnet18.eval()\n",
    "\n",
    "# Preprocessing: Transform for the input image\n",
    "transform = transforms.Compose([\n",
    "    transforms.Resize((224, 224)),  # Resize to model input size\n",
    "    transforms.ToTensor(),\n",
    "    transforms.Normalize(mean=[0.485, 0.456, 0.406], std=[0.229, 0.224, 0.225])  # Normalization\n",
    "])\n",
    "\n",
    "def predict(image):\n",
    "    # Preprocess the image\n",
    "    image = Image.fromarray(image)\n",
    "    image = transform(image).unsqueeze(0)  # Add batch dimension\n",
    "\n",
    "    with torch.no_grad():\n",
    "        outputs = resnet18(image)\n",
    "        _, predicted = torch.max(outputs, 1)  # Get the class with max probability\n",
    "        label = \"Malignant\" if predicted.item() == 1 else \"Benign\"\n",
    "\n",
    "    return label\n",
    "\n",
    "# CSS Styles\n",
    "css = \"\"\"\n",
    "body {\n",
    "    background: linear-gradient(-45deg, #e3f2fd, #bbdefb, #90caf9, #64b5f6);\n",
    "    background-size: 400% 400%;\n",
    "    animation: gradientBG 15s ease infinite;\n",
    "    font-family: 'Arial', sans-serif;\n",
    "    margin: 0;\n",
    "    padding: 0;\n",
    "}\n",
    "\n",
    "@keyframes gradientBG {\n",
    "    0% {background-position: 0% 50%;}\n",
    "    50% {background-position: 100% 50%;}\n",
    "    100% {background-position: 0% 50%;}\n",
    "}\n",
    "\n",
    "h1 {\n",
    "    color: #0d47a1;\n",
    "    text-align: center;\n",
    "    font-size: 3em;\n",
    "    margin-top: 20px;\n",
    "}\n",
    "\n",
    "h2 {\n",
    "    color: #1565c0;\n",
    "    text-align: center;\n",
    "    font-size: 1.5em;\n",
    "    margin-bottom: 50px;\n",
    "}\n",
    "\n",
    ".gradio-container {\n",
    "    max-width: 800px;\n",
    "    margin: auto;\n",
    "    padding: 20px;\n",
    "    background-color: rgba(255, 255, 255, 0.8);\n",
    "    border-radius: 10px;\n",
    "}\n",
    "\n",
    ".gr-button {\n",
    "    background-color: #1976d2;\n",
    "    color: white;\n",
    "    border: none;\n",
    "    font-size: 1em;\n",
    "    padding: 10px 20px;\n",
    "    margin-top: 20px;\n",
    "}\n",
    "\n",
    ".gr-button:hover {\n",
    "    background-color: #1565c0;\n",
    "}\n",
    "\n",
    ".gr-input, .gr-output {\n",
    "    margin-top: 20px;\n",
    "}\n",
    "\n",
    "\"\"\"\n",
    "\n",
    "with gr.Blocks(css=css) as demo:\n",
    "    gr.Markdown(\"<h1>TumorTrace: MRI-Based AI for Breast Cancer Detection</h1>\")\n",
    "    gr.Markdown(\"<h2>Upload an MRI scan to classify it as Benign or Malignant</h2>\")\n",
    "    with gr.Row():\n",
    "        with gr.Column():\n",
    "            image_input = gr.Image(type=\"numpy\", label=\"Input Image\")\n",
    "            classify_button = gr.Button(\"Classify\")\n",
    "        with gr.Column():\n",
    "            output_label = gr.Textbox(label=\"Classification Result\")\n",
    "    classify_button.click(fn=predict, inputs=image_input, outputs=output_label)\n",
    "\n",
    "demo.launch()"
   ]
  }
 ],
 "metadata": {
  "kernelspec": {
   "display_name": "base",
   "language": "python",
   "name": "python3"
  },
  "language_info": {
   "codemirror_mode": {
    "name": "ipython",
    "version": 3
   },
   "file_extension": ".py",
   "mimetype": "text/x-python",
   "name": "python",
   "nbconvert_exporter": "python",
   "pygments_lexer": "ipython3",
   "version": "3.12.4"
  }
 },
 "nbformat": 4,
 "nbformat_minor": 2
}
