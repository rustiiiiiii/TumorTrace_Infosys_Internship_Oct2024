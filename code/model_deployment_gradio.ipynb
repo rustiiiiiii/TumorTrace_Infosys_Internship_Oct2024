{
  "nbformat": 4,
  "nbformat_minor": 0,
  "metadata": {
    "colab": {
      "private_outputs": true,
      "provenance": []
    },
    "kernelspec": {
      "name": "python3",
      "display_name": "Python 3"
    },
    "language_info": {
      "name": "python"
    }
  },
  "cells": [
    {
      "cell_type": "code",
      "source": [
        "pip install gradio\n"
      ],
      "metadata": {
        "id": "vY51badjfXs-"
      },
      "execution_count": null,
      "outputs": []
    },
    {
      "cell_type": "code",
      "source": [
        "import gradio as gr\n",
        "import torch\n",
        "import torchvision.transforms as transforms\n",
        "from PIL import Image\n",
        "from torchvision.models import resnet18\n",
        "import torch.nn as nn\n",
        "\n",
        "# Define the custom ResNet18 model\n",
        "class Resnet18(nn.Module):\n",
        "    def __init__(self, num_classes=2):\n",
        "        super(Resnet18, self).__init__()\n",
        "        model_resnet18 = resnet18(pretrained=True)\n",
        "        self.conv1 = model_resnet18.conv1\n",
        "        self.bn1 = model_resnet18.bn1\n",
        "        self.relu = model_resnet18.relu\n",
        "        self.maxpool = model_resnet18.maxpool\n",
        "        self.layer1 = model_resnet18.layer1\n",
        "        self.layer2 = model_resnet18.layer2\n",
        "        self.layer3 = model_resnet18.layer3\n",
        "        self.layer4 = model_resnet18.layer4\n",
        "        self.avgpool = model_resnet18.avgpool\n",
        "        self.features = model_resnet18.fc.in_features\n",
        "        self.fc = nn.Linear(self.features, num_classes)\n",
        "\n",
        "    def forward(self, x):\n",
        "        x = self.conv1(x)\n",
        "        x = self.bn1(x)\n",
        "        x = self.relu(x)\n",
        "        x = self.maxpool(x)\n",
        "        x = self.layer1(x)\n",
        "        x = self.layer2(x)\n",
        "        x = self.layer3(x)\n",
        "        x = self.layer4(x)\n",
        "        x = self.avgpool(x)\n",
        "        x = x.view(x.size(0), -1)\n",
        "        x = self.fc(x)\n",
        "        return x\n",
        "\n",
        "# Load the saved model\n",
        "model = Resnet18(num_classes=2)\n",
        "#model.load_state_dict(torch.load(\"/content/resnet18_final_epoch (6).pth\"))  # Replace with your model path\n",
        "model.load_state_dict(torch.load(\"/content/resnet18_final_epoch (6).pth\", map_location=torch.device('cpu')))\n",
        "\n",
        "model.eval()  # Set model to evaluation mode\n",
        "\n",
        "# Define the classes\n",
        "class_names = [\"Benign\", \"Malignant\"]\n",
        "\n",
        "# Define preprocessing for input images\n",
        "preprocess = transforms.Compose([\n",
        "    transforms.Resize((224, 224)),\n",
        "    transforms.ToTensor(),\n",
        "    transforms.Normalize(mean=[0.485, 0.456, 0.406], std=[0.229, 0.224, 0.225]),\n",
        "])\n",
        "\n",
        "# Define the prediction function\n",
        "def predict(image):\n",
        "    # Convert image to tensor\n",
        "    image = preprocess(image).unsqueeze(0)  # Add batch dimension\n",
        "\n",
        "    # Run the model\n",
        "    with torch.no_grad():\n",
        "        output = model(image)\n",
        "        probabilities = torch.nn.functional.softmax(output[0], dim=0)\n",
        "\n",
        "    # Get the predicted class\n",
        "    predicted_class = probabilities.argmax().item()\n",
        "    confidence = probabilities[predicted_class].item()\n",
        "\n",
        "    return {class_names[0]: float(probabilities[0]), class_names[1]: float(probabilities[1])}\n",
        "\n",
        "# Define the Gradio interface\n",
        "interface = gr.Interface(\n",
        "    fn=predict,\n",
        "    inputs=gr.Image(type=\"pil\"),\n",
        "    outputs=gr.Label(num_top_classes=2),\n",
        "    title=\"Binary Classification with Custom ResNet18\",\n",
        "    description=\"Upload an image to classify it as 'Benign' or 'Malignant' using a pretrained ResNet18 model.\",\n",
        ")\n",
        "\n",
        "# Launch the interface\n",
        "if __name__ == \"__main__\":\n",
        "    interface.launch()\n"
      ],
      "metadata": {
        "id": "scyx3tI1ofrU"
      },
      "execution_count": null,
      "outputs": []
    }
  ]
}