{
 "cells": [
  {
   "cell_type": "code",
   "execution_count": 1,
   "metadata": {
    "editable": false,
    "execution": {
     "iopub.execute_input": "2024-11-22T07:58:51.610228Z",
     "iopub.status.busy": "2024-11-22T07:58:51.609410Z",
     "iopub.status.idle": "2024-11-22T07:58:55.703805Z",
     "shell.execute_reply": "2024-11-22T07:58:55.703036Z",
     "shell.execute_reply.started": "2024-11-22T07:58:51.610172Z"
    },
    "id": "QVYZ__oNHiti",
    "trusted": true
   },
   "outputs": [],
   "source": [
    "import torch\n",
    "\n",
    "import torchvision\n",
    "\n",
    "from torchvision import datasets, transforms\n"
   ]
  },
  {
   "cell_type": "code",
   "execution_count": 2,
   "metadata": {
    "editable": false,
    "execution": {
     "iopub.execute_input": "2024-11-22T07:59:21.707317Z",
     "iopub.status.busy": "2024-11-22T07:59:21.706220Z",
     "iopub.status.idle": "2024-11-22T08:01:56.565288Z",
     "shell.execute_reply": "2024-11-22T08:01:56.563862Z",
     "shell.execute_reply.started": "2024-11-22T07:59:21.707285Z"
    },
    "trusted": true
   },
   "outputs": [
    {
     "name": "stdout",
     "output_type": "stream",
     "text": [
      "Requirement already satisfied: torch in /opt/conda/lib/python3.10/site-packages (2.4.0)\n",
      "Collecting torch\n",
      "  Downloading torch-2.5.1-cp310-cp310-manylinux1_x86_64.whl.metadata (28 kB)\n",
      "Requirement already satisfied: filelock in /opt/conda/lib/python3.10/site-packages (from torch) (3.15.1)\n",
      "Requirement already satisfied: typing-extensions>=4.8.0 in /opt/conda/lib/python3.10/site-packages (from torch) (4.12.2)\n",
      "Requirement already satisfied: networkx in /opt/conda/lib/python3.10/site-packages (from torch) (3.3)\n",
      "Requirement already satisfied: jinja2 in /opt/conda/lib/python3.10/site-packages (from torch) (3.1.4)\n",
      "Requirement already satisfied: fsspec in /opt/conda/lib/python3.10/site-packages (from torch) (2024.6.1)\n",
      "Collecting nvidia-cuda-nvrtc-cu12==12.4.127 (from torch)\n",
      "  Downloading nvidia_cuda_nvrtc_cu12-12.4.127-py3-none-manylinux2014_x86_64.whl.metadata (1.5 kB)\n",
      "Collecting nvidia-cuda-runtime-cu12==12.4.127 (from torch)\n",
      "  Downloading nvidia_cuda_runtime_cu12-12.4.127-py3-none-manylinux2014_x86_64.whl.metadata (1.5 kB)\n",
      "Collecting nvidia-cuda-cupti-cu12==12.4.127 (from torch)\n",
      "  Downloading nvidia_cuda_cupti_cu12-12.4.127-py3-none-manylinux2014_x86_64.whl.metadata (1.6 kB)\n",
      "Collecting nvidia-cudnn-cu12==9.1.0.70 (from torch)\n",
      "  Downloading nvidia_cudnn_cu12-9.1.0.70-py3-none-manylinux2014_x86_64.whl.metadata (1.6 kB)\n",
      "Collecting nvidia-cublas-cu12==12.4.5.8 (from torch)\n",
      "  Downloading nvidia_cublas_cu12-12.4.5.8-py3-none-manylinux2014_x86_64.whl.metadata (1.5 kB)\n",
      "Collecting nvidia-cufft-cu12==11.2.1.3 (from torch)\n",
      "  Downloading nvidia_cufft_cu12-11.2.1.3-py3-none-manylinux2014_x86_64.whl.metadata (1.5 kB)\n",
      "Collecting nvidia-curand-cu12==10.3.5.147 (from torch)\n",
      "  Downloading nvidia_curand_cu12-10.3.5.147-py3-none-manylinux2014_x86_64.whl.metadata (1.5 kB)\n",
      "Collecting nvidia-cusolver-cu12==11.6.1.9 (from torch)\n",
      "  Downloading nvidia_cusolver_cu12-11.6.1.9-py3-none-manylinux2014_x86_64.whl.metadata (1.6 kB)\n",
      "Collecting nvidia-cusparse-cu12==12.3.1.170 (from torch)\n",
      "  Downloading nvidia_cusparse_cu12-12.3.1.170-py3-none-manylinux2014_x86_64.whl.metadata (1.6 kB)\n",
      "Collecting nvidia-nccl-cu12==2.21.5 (from torch)\n",
      "  Downloading nvidia_nccl_cu12-2.21.5-py3-none-manylinux2014_x86_64.whl.metadata (1.8 kB)\n",
      "Collecting nvidia-nvtx-cu12==12.4.127 (from torch)\n",
      "  Downloading nvidia_nvtx_cu12-12.4.127-py3-none-manylinux2014_x86_64.whl.metadata (1.7 kB)\n",
      "Collecting nvidia-nvjitlink-cu12==12.4.127 (from torch)\n",
      "  Downloading nvidia_nvjitlink_cu12-12.4.127-py3-none-manylinux2014_x86_64.whl.metadata (1.5 kB)\n",
      "Collecting triton==3.1.0 (from torch)\n",
      "  Downloading triton-3.1.0-cp310-cp310-manylinux_2_17_x86_64.manylinux2014_x86_64.whl.metadata (1.3 kB)\n",
      "Collecting sympy==1.13.1 (from torch)\n",
      "  Downloading sympy-1.13.1-py3-none-any.whl.metadata (12 kB)\n",
      "Requirement already satisfied: mpmath<1.4,>=1.1.0 in /opt/conda/lib/python3.10/site-packages (from sympy==1.13.1->torch) (1.3.0)\n",
      "Requirement already satisfied: MarkupSafe>=2.0 in /opt/conda/lib/python3.10/site-packages (from jinja2->torch) (2.1.5)\n",
      "Downloading torch-2.5.1-cp310-cp310-manylinux1_x86_64.whl (906.4 MB)\n",
      "\u001b[2K   \u001b[90m━━━━━━━━━━━━━━━━━━━━━━━━━━━━━━━━━━━━━━━━\u001b[0m \u001b[32m906.4/906.4 MB\u001b[0m \u001b[31m1.7 MB/s\u001b[0m eta \u001b[36m0:00:00\u001b[0m:00:01\u001b[0m00:01\u001b[0m\n",
      "\u001b[?25hDownloading nvidia_cublas_cu12-12.4.5.8-py3-none-manylinux2014_x86_64.whl (363.4 MB)\n",
      "\u001b[2K   \u001b[90m━━━━━━━━━━━━━━━━━━━━━━━━━━━━━━━━━━━━━━━━\u001b[0m \u001b[32m363.4/363.4 MB\u001b[0m \u001b[31m1.6 MB/s\u001b[0m eta \u001b[36m0:00:00\u001b[0m:00:01\u001b[0m00:01\u001b[0m\n",
      "\u001b[?25hDownloading nvidia_cuda_cupti_cu12-12.4.127-py3-none-manylinux2014_x86_64.whl (13.8 MB)\n",
      "\u001b[2K   \u001b[90m━━━━━━━━━━━━━━━━━━━━━━━━━━━━━━━━━━━━━━━━\u001b[0m \u001b[32m13.8/13.8 MB\u001b[0m \u001b[31m98.1 MB/s\u001b[0m eta \u001b[36m0:00:00\u001b[0m:00:01\u001b[0m0:01\u001b[0m\n",
      "\u001b[?25hDownloading nvidia_cuda_nvrtc_cu12-12.4.127-py3-none-manylinux2014_x86_64.whl (24.6 MB)\n",
      "\u001b[2K   \u001b[90m━━━━━━━━━━━━━━━━━━━━━━━━━━━━━━━━━━━━━━━━\u001b[0m \u001b[32m24.6/24.6 MB\u001b[0m \u001b[31m77.4 MB/s\u001b[0m eta \u001b[36m0:00:00\u001b[0m:00:01\u001b[0m00:01\u001b[0m\n",
      "\u001b[?25hDownloading nvidia_cuda_runtime_cu12-12.4.127-py3-none-manylinux2014_x86_64.whl (883 kB)\n",
      "\u001b[2K   \u001b[90m━━━━━━━━━━━━━━━━━━━━━━━━━━━━━━━━━━━━━━━━\u001b[0m \u001b[32m883.7/883.7 kB\u001b[0m \u001b[31m44.4 MB/s\u001b[0m eta \u001b[36m0:00:00\u001b[0m\n",
      "\u001b[?25hDownloading nvidia_cudnn_cu12-9.1.0.70-py3-none-manylinux2014_x86_64.whl (664.8 MB)\n",
      "\u001b[2K   \u001b[90m━━━━━━━━━━━━━━━━━━━━━━━━━━━━━━━━━━━━━━━━\u001b[0m \u001b[32m664.8/664.8 MB\u001b[0m \u001b[31m2.0 MB/s\u001b[0m eta \u001b[36m0:00:00\u001b[0m:00:01\u001b[0m00:01\u001b[0m\n",
      "\u001b[?25hDownloading nvidia_cufft_cu12-11.2.1.3-py3-none-manylinux2014_x86_64.whl (211.5 MB)\n",
      "\u001b[2K   \u001b[90m━━━━━━━━━━━━━━━━━━━━━━━━━━━━━━━━━━━━━━━━\u001b[0m \u001b[32m211.5/211.5 MB\u001b[0m \u001b[31m6.1 MB/s\u001b[0m eta \u001b[36m0:00:00\u001b[0m:00:01\u001b[0m00:01\u001b[0m\n",
      "\u001b[?25hDownloading nvidia_curand_cu12-10.3.5.147-py3-none-manylinux2014_x86_64.whl (56.3 MB)\n",
      "\u001b[2K   \u001b[90m━━━━━━━━━━━━━━━━━━━━━━━━━━━━━━━━━━━━━━━━\u001b[0m \u001b[32m56.3/56.3 MB\u001b[0m \u001b[31m32.5 MB/s\u001b[0m eta \u001b[36m0:00:00\u001b[0m:00:01\u001b[0m00:01\u001b[0m\n",
      "\u001b[?25hDownloading nvidia_cusolver_cu12-11.6.1.9-py3-none-manylinux2014_x86_64.whl (127.9 MB)\n",
      "\u001b[2K   \u001b[90m━━━━━━━━━━━━━━━━━━━━━━━━━━━━━━━━━━━━━━━━\u001b[0m \u001b[32m127.9/127.9 MB\u001b[0m \u001b[31m14.7 MB/s\u001b[0m eta \u001b[36m0:00:00\u001b[0m00:01\u001b[0m00:01\u001b[0m\n",
      "\u001b[?25hDownloading nvidia_cusparse_cu12-12.3.1.170-py3-none-manylinux2014_x86_64.whl (207.5 MB)\n",
      "\u001b[2K   \u001b[90m━━━━━━━━━━━━━━━━━━━━━━━━━━━━━━━━━━━━━━━━\u001b[0m \u001b[32m207.5/207.5 MB\u001b[0m \u001b[31m2.8 MB/s\u001b[0m eta \u001b[36m0:00:00\u001b[0m:00:01\u001b[0m00:01\u001b[0m\n",
      "\u001b[?25hDownloading nvidia_nccl_cu12-2.21.5-py3-none-manylinux2014_x86_64.whl (188.7 MB)\n",
      "\u001b[2K   \u001b[90m━━━━━━━━━━━━━━━━━━━━━━━━━━━━━━━━━━━━━━━━\u001b[0m \u001b[32m188.7/188.7 MB\u001b[0m \u001b[31m9.0 MB/s\u001b[0m eta \u001b[36m0:00:00\u001b[0m:00:01\u001b[0m00:01\u001b[0m\n",
      "\u001b[?25hDownloading nvidia_nvjitlink_cu12-12.4.127-py3-none-manylinux2014_x86_64.whl (21.1 MB)\n",
      "\u001b[2K   \u001b[90m━━━━━━━━━━━━━━━━━━━━━━━━━━━━━━━━━━━━━━━━\u001b[0m \u001b[32m21.1/21.1 MB\u001b[0m \u001b[31m84.0 MB/s\u001b[0m eta \u001b[36m0:00:00\u001b[0m:00:01\u001b[0m00:01\u001b[0m\n",
      "\u001b[?25hDownloading nvidia_nvtx_cu12-12.4.127-py3-none-manylinux2014_x86_64.whl (99 kB)\n",
      "\u001b[2K   \u001b[90m━━━━━━━━━━━━━━━━━━━━━━━━━━━━━━━━━━━━━━━━\u001b[0m \u001b[32m99.1/99.1 kB\u001b[0m \u001b[31m7.9 MB/s\u001b[0m eta \u001b[36m0:00:00\u001b[0m\n",
      "\u001b[?25hDownloading sympy-1.13.1-py3-none-any.whl (6.2 MB)\n",
      "\u001b[2K   \u001b[90m━━━━━━━━━━━━━━━━━━━━━━━━━━━━━━━━━━━━━━━━\u001b[0m \u001b[32m6.2/6.2 MB\u001b[0m \u001b[31m101.2 MB/s\u001b[0m eta \u001b[36m0:00:00\u001b[0m00:01\u001b[0m\n",
      "\u001b[?25hDownloading triton-3.1.0-cp310-cp310-manylinux_2_17_x86_64.manylinux2014_x86_64.whl (209.5 MB)\n",
      "\u001b[2K   \u001b[90m━━━━━━━━━━━━━━━━━━━━━━━━━━━━━━━━━━━━━━━━\u001b[0m \u001b[32m209.5/209.5 MB\u001b[0m \u001b[31m8.2 MB/s\u001b[0m eta \u001b[36m0:00:00\u001b[0m:00:01\u001b[0m00:01\u001b[0m\n",
      "\u001b[?25hInstalling collected packages: triton, sympy, nvidia-nvtx-cu12, nvidia-nvjitlink-cu12, nvidia-nccl-cu12, nvidia-curand-cu12, nvidia-cufft-cu12, nvidia-cuda-runtime-cu12, nvidia-cuda-nvrtc-cu12, nvidia-cuda-cupti-cu12, nvidia-cublas-cu12, nvidia-cusparse-cu12, nvidia-cudnn-cu12, nvidia-cusolver-cu12, torch\n",
      "  Attempting uninstall: sympy\n",
      "    Found existing installation: sympy 1.13.3\n",
      "    Uninstalling sympy-1.13.3:\n",
      "      Successfully uninstalled sympy-1.13.3\n",
      "  Attempting uninstall: torch\n",
      "    Found existing installation: torch 2.4.0\n",
      "    Uninstalling torch-2.4.0:\n",
      "      Successfully uninstalled torch-2.4.0\n",
      "\u001b[31mERROR: pip's dependency resolver does not currently take into account all the packages that are installed. This behaviour is the source of the following dependency conflicts.\n",
      "fastai 2.7.17 requires torch<2.5,>=1.10, but you have torch 2.5.1 which is incompatible.\u001b[0m\u001b[31m\n",
      "\u001b[0mSuccessfully installed nvidia-cublas-cu12-12.4.5.8 nvidia-cuda-cupti-cu12-12.4.127 nvidia-cuda-nvrtc-cu12-12.4.127 nvidia-cuda-runtime-cu12-12.4.127 nvidia-cudnn-cu12-9.1.0.70 nvidia-cufft-cu12-11.2.1.3 nvidia-curand-cu12-10.3.5.147 nvidia-cusolver-cu12-11.6.1.9 nvidia-cusparse-cu12-12.3.1.170 nvidia-nccl-cu12-2.21.5 nvidia-nvjitlink-cu12-12.4.127 nvidia-nvtx-cu12-12.4.127 sympy-1.13.1 torch-2.5.1 triton-3.1.0\n",
      "Note: you may need to restart the kernel to use updated packages.\n"
     ]
    }
   ],
   "source": [
    "pip insta\n",
    "ll --upgrade torch\n"
   ]
  },
  {
   "cell_type": "code",
   "execution_count": 3,
   "metadata": {
    "editable": false,
    "execution": {
     "iopub.execute_input": "2024-11-22T08:03:23.710293Z",
     "iopub.status.busy": "2024-11-22T08:03:23.709864Z",
     "iopub.status.idle": "2024-11-22T08:03:23.715528Z",
     "shell.execute_reply": "2024-11-22T08:03:23.714721Z",
     "shell.execute_reply.started": "2024-11-22T08:03:23.710259Z"
    },
    "trusted": true
   },
   "outputs": [
    {
     "name": "stdout",
     "output_type": "stream",
     "text": [
      "2.4.0\n"
     ]
    }
   ],
   "source": [
    "import torch\n",
    "print(torch.__version__)\n"
   ]
  },
  {
   "cell_type": "code",
   "execution_count": null,
   "metadata": {
    "editable": false,
    "trusted": true
   },
   "outputs": [],
   "source": [
    "#!curl https://raw.githubusercontent.com/pytorch/xla/master/contrib/scripts/env-setup.py -o pytorch-xla-env-setup.py\n",
    "#!python pytorch-xla-env-setup.py --version nightly --apt-packages libomp5 libopenblas-dev"
   ]
  },
  {
   "cell_type": "code",
   "execution_count": null,
   "metadata": {
    "editable": false,
    "trusted": true
   },
   "outputs": [],
   "source": []
  },
  {
   "cell_type": "code",
   "execution_count": 4,
   "metadata": {
    "editable": false,
    "execution": {
     "iopub.execute_input": "2024-11-22T08:03:47.348828Z",
     "iopub.status.busy": "2024-11-22T08:03:47.348115Z",
     "iopub.status.idle": "2024-11-22T08:03:48.095438Z",
     "shell.execute_reply": "2024-11-22T08:03:48.094721Z",
     "shell.execute_reply.started": "2024-11-22T08:03:47.348794Z"
    },
    "id": "TVaXAyVrNXjl",
    "trusted": true
   },
   "outputs": [],
   "source": [
    "import pandas as pd\n",
    "\n",
    "import numpy as np\n",
    "\n",
    "import matplotlib.pyplot as plt"
   ]
  },
  {
   "cell_type": "code",
   "execution_count": 5,
   "metadata": {
    "editable": false,
    "execution": {
     "iopub.execute_input": "2024-11-22T08:03:58.712866Z",
     "iopub.status.busy": "2024-11-22T08:03:58.712062Z",
     "iopub.status.idle": "2024-11-22T08:03:58.716595Z",
     "shell.execute_reply": "2024-11-22T08:03:58.715655Z",
     "shell.execute_reply.started": "2024-11-22T08:03:58.712833Z"
    },
    "id": "BNTZhG1PN7nD",
    "trusted": true
   },
   "outputs": [],
   "source": [
    "#from google.colab import drive\n",
    "\n",
    "from PIL import Image\n",
    "\n",
    "import os"
   ]
  },
  {
   "cell_type": "code",
   "execution_count": null,
   "metadata": {
    "editable": false,
    "id": "no4jHtioR7Jr",
    "trusted": true
   },
   "outputs": [],
   "source": [
    "#drive.mount('/content/drive')"
   ]
  },
  {
   "cell_type": "code",
   "execution_count": 6,
   "metadata": {
    "editable": false,
    "execution": {
     "iopub.execute_input": "2024-11-22T08:04:46.930025Z",
     "iopub.status.busy": "2024-11-22T08:04:46.929697Z",
     "iopub.status.idle": "2024-11-22T08:04:46.933929Z",
     "shell.execute_reply": "2024-11-22T08:04:46.933026Z",
     "shell.execute_reply.started": "2024-11-22T08:04:46.930000Z"
    },
    "id": "y22zcK2AU7Qg",
    "trusted": true
   },
   "outputs": [],
   "source": [
    "dataset_path = '/kaggle/input/tumor-trace-project-dataset'\n"
   ]
  },
  {
   "cell_type": "code",
   "execution_count": 8,
   "metadata": {
    "editable": false,
    "execution": {
     "iopub.execute_input": "2024-11-22T08:05:05.209939Z",
     "iopub.status.busy": "2024-11-22T08:05:05.209562Z",
     "iopub.status.idle": "2024-11-22T08:05:05.214386Z",
     "shell.execute_reply": "2024-11-22T08:05:05.213508Z",
     "shell.execute_reply.started": "2024-11-22T08:05:05.209909Z"
    },
    "id": "RG4boOLaYPZT",
    "trusted": true
   },
   "outputs": [],
   "source": [
    "from torch.utils.data import Dataset"
   ]
  },
  {
   "cell_type": "markdown",
   "metadata": {
    "editable": false,
    "id": "sgDSf2ka_Hby"
   },
   "source": [
    "**loading custom dataset**"
   ]
  },
  {
   "cell_type": "code",
   "execution_count": 9,
   "metadata": {
    "editable": false,
    "execution": {
     "iopub.execute_input": "2024-11-22T08:05:14.517110Z",
     "iopub.status.busy": "2024-11-22T08:05:14.516766Z",
     "iopub.status.idle": "2024-11-22T08:05:14.525296Z",
     "shell.execute_reply": "2024-11-22T08:05:14.524377Z",
     "shell.execute_reply.started": "2024-11-22T08:05:14.517081Z"
    },
    "id": "z2Aht7HStq7V",
    "trusted": true
   },
   "outputs": [],
   "source": [
    "class BreastCancerDataset(Dataset):\n",
    "\n",
    "    def __init__(self, dataset_path, transform=None):\n",
    "\n",
    "        self.dataset_path = dataset_path\n",
    "\n",
    "        self.transform = transform\n",
    "\n",
    "        self.samples = self._load_samples()\n",
    "\n",
    "\n",
    "\n",
    "        # Debug: Print the number of samples loaded\n",
    "\n",
    "        print(f\"Number of samples found: {len(self.samples)}\")\n",
    "\n",
    "        if len(self.samples) == 0:\n",
    "\n",
    "            raise ValueError(f\"No valid samples found in {self.dataset_path}\")\n",
    "\n",
    "\n",
    "\n",
    "    def _load_samples(self):\n",
    "\n",
    "        # List all image files in the directory structure and assign labels\n",
    "\n",
    "        samples = []\n",
    "\n",
    "        for label in ['Benign', 'Malignant']:\n",
    "\n",
    "            label_dir = os.path.join(self.dataset_path, label)\n",
    "\n",
    "            if not os.path.exists(label_dir):\n",
    "\n",
    "                continue\n",
    "\n",
    "            for root, _, files in os.walk(label_dir):\n",
    "\n",
    "                for file in files:\n",
    "\n",
    "                    if file.lower().endswith(('.jpg', '.png', '.jpeg')):\n",
    "\n",
    "                        file_path = os.path.join(root, file)\n",
    "\n",
    "                        samples.append((file_path, 0 if label == 'Benign' else 1))  # 0 for Benign, 1 for Malignant\n",
    "\n",
    "        return samples\n",
    "\n",
    "\n",
    "\n",
    "    def __len__(self):\n",
    "\n",
    "        return len(self.samples)\n",
    "\n",
    "\n",
    "\n",
    "    def __getitem__(self, idx):\n",
    "\n",
    "        image_path, label = self.samples[idx]\n",
    "\n",
    "        image = Image.open(image_path).convert('RGB')  # Load the image\n",
    "\n",
    "        if self.transform:\n",
    "\n",
    "            image = self.transform(image)\n",
    "\n",
    "        return image, label\n",
    "\n",
    "\n"
   ]
  },
  {
   "cell_type": "code",
   "execution_count": null,
   "metadata": {
    "editable": false,
    "id": "4SGy-9NTwjai",
    "trusted": true
   },
   "outputs": [],
   "source": [
    "from torch.utils.data import Dataset, DataLoader\n",
    "\n",
    "# Define the transform\n",
    "\n",
    "transform = transforms.Compose([\n",
    "\n",
    "    transforms.Resize((224, 224)),\n",
    "\n",
    "    transforms.ToTensor(),\n",
    "\n",
    "])\n",
    "\n",
    "\n",
    "\n",
    "# Create the dataset and dataloader for each split (train, test, val)\n",
    "\n",
    "train_dataset = BreastCancerDataset('/kaggle/input/tumor-trace-dataset/train', transform=transform)\n",
    "\n",
    "train_loader = DataLoader(train_dataset, batch_size=32, shuffle=True)\n",
    "\n",
    "\n",
    "\n",
    "test_dataset = BreastCancerDataset('/kaggle/input/tumor-trace-dataset/test', transform=transform)\n",
    "\n",
    "test_loader = DataLoader(test_dataset, batch_size=32, shuffle=False)\n",
    "\n",
    "\n",
    "\n",
    "val_dataset = BreastCancerDataset('/kaggle/input/tumor-trace-dataset/val', transform=transform)\n",
    "\n",
    "val_loader = DataLoader(val_dataset, batch_size=32, shuffle=False)\n",
    "\n",
    "\n",
    "\n",
    "# Example: Iterate through the train_loader to see some batches\n",
    "\n",
    "for images, labels in train_loader:\n",
    "\n",
    "    print(images.size(), labels)  # Print the size of the batch and the labels\n",
    "\n",
    "    break  # Just show the first batch\n"
   ]
  },
  {
   "cell_type": "code",
   "execution_count": null,
   "metadata": {
    "editable": false,
    "id": "gFVGtcyCPOJ5",
    "trusted": true
   },
   "outputs": [],
   "source": []
  },
  {
   "cell_type": "code",
   "execution_count": null,
   "metadata": {
    "editable": false,
    "id": "7utcMzwPEZLb",
    "trusted": true
   },
   "outputs": [],
   "source": [
    "from skimage import color, exposure\n",
    "\n",
    "from skimage.feature import hog, corner_harris, corner_peaks # Import corner_harris and corner_peaks\n",
    "\n",
    "from skimage import color, exposure\n",
    "\n",
    "from skimage.feature import hog, corner_harris, corner_peaks # Import corner_harris and corner_peaks\n",
    "\n",
    "\n",
    "\n",
    "\n",
    "\n",
    "\n"
   ]
  },
  {
   "cell_type": "code",
   "execution_count": null,
   "metadata": {
    "editable": false,
    "id": "pSewVS79Pf3o",
    "trusted": true
   },
   "outputs": [],
   "source": [
    "Define transformations for the train, test, and validation datasets\n"
   ]
  },
  {
   "cell_type": "code",
   "execution_count": 10,
   "metadata": {
    "editable": false,
    "execution": {
     "iopub.execute_input": "2024-11-22T08:06:34.429010Z",
     "iopub.status.busy": "2024-11-22T08:06:34.428621Z",
     "iopub.status.idle": "2024-11-22T08:06:34.434530Z",
     "shell.execute_reply": "2024-11-22T08:06:34.433696Z",
     "shell.execute_reply.started": "2024-11-22T08:06:34.428980Z"
    },
    "id": "CnOoca1Jb8Eu",
    "trusted": true
   },
   "outputs": [],
   "source": [
    "# Define transformations for the train, test, and validation datasets\n",
    "\n",
    "train_transforms = transforms.Compose([\n",
    "\n",
    "    transforms.RandomHorizontalFlip(p=0.5),    # Randomly flip the image horizontally with a probability of 0.5\n",
    "\n",
    "    transforms.RandomRotation(degrees=15),     # Randomly rotate the image by 15 degrees\n",
    "\n",
    "    transforms.RandomResizedCrop(size=224, scale=(0.8, 1.0)), # Random crop and resize\n",
    "\n",
    "    transforms.ToTensor(),                     # Convert to tensor\n",
    "\n",
    "    transforms.Normalize(mean=[0.485, 0.456, 0.406], std=[0.229, 0.224, 0.225]) # Normalize with ImageNet mean and std\n",
    "\n",
    "])"
   ]
  },
  {
   "cell_type": "code",
   "execution_count": 11,
   "metadata": {
    "editable": false,
    "execution": {
     "iopub.execute_input": "2024-11-22T08:06:39.610350Z",
     "iopub.status.busy": "2024-11-22T08:06:39.609490Z",
     "iopub.status.idle": "2024-11-22T08:06:39.614882Z",
     "shell.execute_reply": "2024-11-22T08:06:39.613968Z",
     "shell.execute_reply.started": "2024-11-22T08:06:39.610315Z"
    },
    "id": "BS8rJy6acJha",
    "trusted": true
   },
   "outputs": [],
   "source": [
    "test_transforms = transforms.Compose([\n",
    "\n",
    "    transforms.Resize(224),                    # Resize the image to 256x256\n",
    "\n",
    "    transforms.CenterCrop(224),                # Center crop to 224x224\n",
    "\n",
    "    transforms.ToTensor(),                     # Convert to tensor\n",
    "\n",
    "    transforms.Normalize(mean=[0.485, 0.456, 0.406], std=[0.229, 0.224, 0.225]) # Normalize with ImageNet mean and std\n",
    "\n",
    "])"
   ]
  },
  {
   "cell_type": "code",
   "execution_count": 12,
   "metadata": {
    "editable": false,
    "execution": {
     "iopub.execute_input": "2024-11-22T08:06:45.609351Z",
     "iopub.status.busy": "2024-11-22T08:06:45.608656Z",
     "iopub.status.idle": "2024-11-22T08:06:45.613609Z",
     "shell.execute_reply": "2024-11-22T08:06:45.612788Z",
     "shell.execute_reply.started": "2024-11-22T08:06:45.609319Z"
    },
    "id": "t9wI72kccSB9",
    "trusted": true
   },
   "outputs": [],
   "source": [
    "val_transforms = transforms.Compose([\n",
    "\n",
    "    transforms.Resize(224),\n",
    "\n",
    "    transforms.CenterCrop(224),\n",
    "\n",
    "    transforms.ToTensor(),\n",
    "\n",
    "    transforms.Normalize(mean=[0.485, 0.456, 0.406], std=[0.229, 0.224, 0.225])\n",
    "\n",
    "])"
   ]
  },
  {
   "cell_type": "code",
   "execution_count": 13,
   "metadata": {
    "editable": false,
    "execution": {
     "iopub.execute_input": "2024-11-22T08:06:54.109873Z",
     "iopub.status.busy": "2024-11-22T08:06:54.109218Z",
     "iopub.status.idle": "2024-11-22T08:06:54.113605Z",
     "shell.execute_reply": "2024-11-22T08:06:54.112723Z",
     "shell.execute_reply.started": "2024-11-22T08:06:54.109840Z"
    },
    "trusted": true
   },
   "outputs": [],
   "source": [
    "from torch.utils.data import DataLoader\n"
   ]
  },
  {
   "cell_type": "code",
   "execution_count": 14,
   "metadata": {
    "editable": false,
    "execution": {
     "iopub.execute_input": "2024-11-22T08:07:58.409638Z",
     "iopub.status.busy": "2024-11-22T08:07:58.409284Z",
     "iopub.status.idle": "2024-11-22T08:08:14.093767Z",
     "shell.execute_reply": "2024-11-22T08:08:14.092838Z",
     "shell.execute_reply.started": "2024-11-22T08:07:58.409608Z"
    },
    "id": "nWl9lNvB8b2M",
    "trusted": true
   },
   "outputs": [
    {
     "name": "stdout",
     "output_type": "stream",
     "text": [
      "Number of samples found: 20434\n",
      "Number of samples found: 6851\n",
      "Number of samples found: 1989\n",
      "torch.Size([32, 3, 224, 224]) tensor([0, 0, 1, 1, 1, 1, 0, 0, 1, 1, 1, 1, 1, 1, 1, 1, 1, 0, 1, 1, 1, 0, 1, 0,\n",
      "        1, 1, 1, 0, 1, 1, 0, 1])\n"
     ]
    }
   ],
   "source": [
    "# Create the dataset and dataloader for each split (train, test, val)\n",
    "\n",
    "train_dataset = BreastCancerDataset('/kaggle/input/tumor-trace-project-dataset/train', transform = train_transforms)\n",
    "\n",
    "train_loader = DataLoader(train_dataset, batch_size=32, shuffle=True)\n",
    "\n",
    "\n",
    "\n",
    "test_dataset = BreastCancerDataset('/kaggle/input/tumor-trace-project-dataset/test', transform = test_transforms)\n",
    "\n",
    "test_loader = DataLoader(test_dataset, batch_size=32, shuffle=False)\n",
    "\n",
    "\n",
    "\n",
    "val_dataset = BreastCancerDataset('/kaggle/input/tumor-trace-project-dataset/val', transform = val_transforms)\n",
    "\n",
    "val_loader = DataLoader(val_dataset, batch_size=32, shuffle=False)\n",
    "\n",
    "\n",
    "\n",
    "# Example: Iterate through the train_loader to see some batches\n",
    "\n",
    "for images, labels in train_loader:\n",
    "\n",
    "    print(images.size(), labels)  # Print the size of the batch and the labels\n",
    "\n",
    "    break  # Just show the first batch\n"
   ]
  },
  {
   "cell_type": "code",
   "execution_count": 67,
   "metadata": {
    "editable": false,
    "execution": {
     "iopub.execute_input": "2024-11-22T12:25:05.333456Z",
     "iopub.status.busy": "2024-11-22T12:25:05.333081Z",
     "iopub.status.idle": "2024-11-22T12:25:06.944332Z",
     "shell.execute_reply": "2024-11-22T12:25:06.943418Z",
     "shell.execute_reply.started": "2024-11-22T12:25:05.333425Z"
    },
    "id": "DJCYhnGk7sUD",
    "trusted": true
   },
   "outputs": [
    {
     "name": "stderr",
     "output_type": "stream",
     "text": [
      "/opt/conda/lib/python3.10/site-packages/torchvision/models/_utils.py:208: UserWarning: The parameter 'pretrained' is deprecated since 0.13 and may be removed in the future, please use 'weights' instead.\n",
      "  warnings.warn(\n",
      "/opt/conda/lib/python3.10/site-packages/torchvision/models/_utils.py:223: UserWarning: Arguments other than a weight enum or `None` for 'weights' are deprecated since 0.13 and may be removed in the future. The current behavior is equivalent to passing `weights=VGG16_Weights.IMAGENET1K_V1`. You can also use `weights=VGG16_Weights.DEFAULT` to get the most up-to-date weights.\n",
      "  warnings.warn(msg)\n"
     ]
    },
    {
     "data": {
      "text/plain": [
       "VGG(\n",
       "  (features): Sequential(\n",
       "    (0): Conv2d(3, 64, kernel_size=(3, 3), stride=(1, 1), padding=(1, 1))\n",
       "    (1): ReLU(inplace=True)\n",
       "    (2): Conv2d(64, 64, kernel_size=(3, 3), stride=(1, 1), padding=(1, 1))\n",
       "    (3): ReLU(inplace=True)\n",
       "    (4): MaxPool2d(kernel_size=2, stride=2, padding=0, dilation=1, ceil_mode=False)\n",
       "    (5): Conv2d(64, 128, kernel_size=(3, 3), stride=(1, 1), padding=(1, 1))\n",
       "    (6): ReLU(inplace=True)\n",
       "    (7): Conv2d(128, 128, kernel_size=(3, 3), stride=(1, 1), padding=(1, 1))\n",
       "    (8): ReLU(inplace=True)\n",
       "    (9): MaxPool2d(kernel_size=2, stride=2, padding=0, dilation=1, ceil_mode=False)\n",
       "    (10): Conv2d(128, 256, kernel_size=(3, 3), stride=(1, 1), padding=(1, 1))\n",
       "    (11): ReLU(inplace=True)\n",
       "    (12): Conv2d(256, 256, kernel_size=(3, 3), stride=(1, 1), padding=(1, 1))\n",
       "    (13): ReLU(inplace=True)\n",
       "    (14): Conv2d(256, 256, kernel_size=(3, 3), stride=(1, 1), padding=(1, 1))\n",
       "    (15): ReLU(inplace=True)\n",
       "    (16): MaxPool2d(kernel_size=2, stride=2, padding=0, dilation=1, ceil_mode=False)\n",
       "    (17): Conv2d(256, 512, kernel_size=(3, 3), stride=(1, 1), padding=(1, 1))\n",
       "    (18): ReLU(inplace=True)\n",
       "    (19): Conv2d(512, 512, kernel_size=(3, 3), stride=(1, 1), padding=(1, 1))\n",
       "    (20): ReLU(inplace=True)\n",
       "    (21): Conv2d(512, 512, kernel_size=(3, 3), stride=(1, 1), padding=(1, 1))\n",
       "    (22): ReLU(inplace=True)\n",
       "    (23): MaxPool2d(kernel_size=2, stride=2, padding=0, dilation=1, ceil_mode=False)\n",
       "    (24): Conv2d(512, 512, kernel_size=(3, 3), stride=(1, 1), padding=(1, 1))\n",
       "    (25): ReLU(inplace=True)\n",
       "    (26): Conv2d(512, 512, kernel_size=(3, 3), stride=(1, 1), padding=(1, 1))\n",
       "    (27): ReLU(inplace=True)\n",
       "    (28): Conv2d(512, 512, kernel_size=(3, 3), stride=(1, 1), padding=(1, 1))\n",
       "    (29): ReLU(inplace=True)\n",
       "    (30): MaxPool2d(kernel_size=2, stride=2, padding=0, dilation=1, ceil_mode=False)\n",
       "  )\n",
       "  (avgpool): AdaptiveAvgPool2d(output_size=(7, 7))\n",
       "  (classifier): Sequential(\n",
       "    (0): Linear(in_features=25088, out_features=4096, bias=True)\n",
       "    (1): ReLU(inplace=True)\n",
       "    (2): Dropout(p=0.5, inplace=False)\n",
       "    (3): Linear(in_features=4096, out_features=4096, bias=True)\n",
       "    (4): ReLU(inplace=True)\n",
       "    (5): Dropout(p=0.5, inplace=False)\n",
       "    (6): Linear(in_features=4096, out_features=1000, bias=True)\n",
       "  )\n",
       ")"
      ]
     },
     "execution_count": 67,
     "metadata": {},
     "output_type": "execute_result"
    }
   ],
   "source": [
    "import torch\n",
    "\n",
    "import torchvision.models as models\n",
    "# Load the VGG-16 model pre-trained on ImageNet\n",
    "vgg16 = models.vgg16(pretrained=True)\n",
    "# Set the model to evaluation mode\n",
    "\n",
    "vgg16.eval()\n"
   ]
  },
  {
   "cell_type": "code",
   "execution_count": 16,
   "metadata": {
    "editable": false,
    "execution": {
     "iopub.execute_input": "2024-11-22T08:08:52.910874Z",
     "iopub.status.busy": "2024-11-22T08:08:52.910494Z",
     "iopub.status.idle": "2024-11-22T08:08:53.431392Z",
     "shell.execute_reply": "2024-11-22T08:08:53.430406Z",
     "shell.execute_reply.started": "2024-11-22T08:08:52.910843Z"
    },
    "trusted": true
   },
   "outputs": [
    {
     "name": "stderr",
     "output_type": "stream",
     "text": [
      "/opt/conda/lib/python3.10/site-packages/torchvision/models/_utils.py:223: UserWarning: Arguments other than a weight enum or `None` for 'weights' are deprecated since 0.13 and may be removed in the future. The current behavior is equivalent to passing `weights=ResNet18_Weights.IMAGENET1K_V1`. You can also use `weights=ResNet18_Weights.DEFAULT` to get the most up-to-date weights.\n",
      "  warnings.warn(msg)\n",
      "Downloading: \"https://download.pytorch.org/models/resnet18-f37072fd.pth\" to /root/.cache/torch/hub/checkpoints/resnet18-f37072fd.pth\n",
      "100%|██████████| 44.7M/44.7M [00:00<00:00, 206MB/s]"
     ]
    },
    {
     "name": "stdout",
     "output_type": "stream",
     "text": [
      "ResNet18 Model:\n",
      "ResNet(\n",
      "  (conv1): Conv2d(3, 64, kernel_size=(7, 7), stride=(2, 2), padding=(3, 3), bias=False)\n",
      "  (bn1): BatchNorm2d(64, eps=1e-05, momentum=0.1, affine=True, track_running_stats=True)\n",
      "  (relu): ReLU(inplace=True)\n",
      "  (maxpool): MaxPool2d(kernel_size=3, stride=2, padding=1, dilation=1, ceil_mode=False)\n",
      "  (layer1): Sequential(\n",
      "    (0): BasicBlock(\n",
      "      (conv1): Conv2d(64, 64, kernel_size=(3, 3), stride=(1, 1), padding=(1, 1), bias=False)\n",
      "      (bn1): BatchNorm2d(64, eps=1e-05, momentum=0.1, affine=True, track_running_stats=True)\n",
      "      (relu): ReLU(inplace=True)\n",
      "      (conv2): Conv2d(64, 64, kernel_size=(3, 3), stride=(1, 1), padding=(1, 1), bias=False)\n",
      "      (bn2): BatchNorm2d(64, eps=1e-05, momentum=0.1, affine=True, track_running_stats=True)\n",
      "    )\n",
      "    (1): BasicBlock(\n",
      "      (conv1): Conv2d(64, 64, kernel_size=(3, 3), stride=(1, 1), padding=(1, 1), bias=False)\n",
      "      (bn1): BatchNorm2d(64, eps=1e-05, momentum=0.1, affine=True, track_running_stats=True)\n",
      "      (relu): ReLU(inplace=True)\n",
      "      (conv2): Conv2d(64, 64, kernel_size=(3, 3), stride=(1, 1), padding=(1, 1), bias=False)\n",
      "      (bn2): BatchNorm2d(64, eps=1e-05, momentum=0.1, affine=True, track_running_stats=True)\n",
      "    )\n",
      "  )\n",
      "  (layer2): Sequential(\n",
      "    (0): BasicBlock(\n",
      "      (conv1): Conv2d(64, 128, kernel_size=(3, 3), stride=(2, 2), padding=(1, 1), bias=False)\n",
      "      (bn1): BatchNorm2d(128, eps=1e-05, momentum=0.1, affine=True, track_running_stats=True)\n",
      "      (relu): ReLU(inplace=True)\n",
      "      (conv2): Conv2d(128, 128, kernel_size=(3, 3), stride=(1, 1), padding=(1, 1), bias=False)\n",
      "      (bn2): BatchNorm2d(128, eps=1e-05, momentum=0.1, affine=True, track_running_stats=True)\n",
      "      (downsample): Sequential(\n",
      "        (0): Conv2d(64, 128, kernel_size=(1, 1), stride=(2, 2), bias=False)\n",
      "        (1): BatchNorm2d(128, eps=1e-05, momentum=0.1, affine=True, track_running_stats=True)\n",
      "      )\n",
      "    )\n",
      "    (1): BasicBlock(\n",
      "      (conv1): Conv2d(128, 128, kernel_size=(3, 3), stride=(1, 1), padding=(1, 1), bias=False)\n",
      "      (bn1): BatchNorm2d(128, eps=1e-05, momentum=0.1, affine=True, track_running_stats=True)\n",
      "      (relu): ReLU(inplace=True)\n",
      "      (conv2): Conv2d(128, 128, kernel_size=(3, 3), stride=(1, 1), padding=(1, 1), bias=False)\n",
      "      (bn2): BatchNorm2d(128, eps=1e-05, momentum=0.1, affine=True, track_running_stats=True)\n",
      "    )\n",
      "  )\n",
      "  (layer3): Sequential(\n",
      "    (0): BasicBlock(\n",
      "      (conv1): Conv2d(128, 256, kernel_size=(3, 3), stride=(2, 2), padding=(1, 1), bias=False)\n",
      "      (bn1): BatchNorm2d(256, eps=1e-05, momentum=0.1, affine=True, track_running_stats=True)\n",
      "      (relu): ReLU(inplace=True)\n",
      "      (conv2): Conv2d(256, 256, kernel_size=(3, 3), stride=(1, 1), padding=(1, 1), bias=False)\n",
      "      (bn2): BatchNorm2d(256, eps=1e-05, momentum=0.1, affine=True, track_running_stats=True)\n",
      "      (downsample): Sequential(\n",
      "        (0): Conv2d(128, 256, kernel_size=(1, 1), stride=(2, 2), bias=False)\n",
      "        (1): BatchNorm2d(256, eps=1e-05, momentum=0.1, affine=True, track_running_stats=True)\n",
      "      )\n",
      "    )\n",
      "    (1): BasicBlock(\n",
      "      (conv1): Conv2d(256, 256, kernel_size=(3, 3), stride=(1, 1), padding=(1, 1), bias=False)\n",
      "      (bn1): BatchNorm2d(256, eps=1e-05, momentum=0.1, affine=True, track_running_stats=True)\n",
      "      (relu): ReLU(inplace=True)\n",
      "      (conv2): Conv2d(256, 256, kernel_size=(3, 3), stride=(1, 1), padding=(1, 1), bias=False)\n",
      "      (bn2): BatchNorm2d(256, eps=1e-05, momentum=0.1, affine=True, track_running_stats=True)\n",
      "    )\n",
      "  )\n",
      "  (layer4): Sequential(\n",
      "    (0): BasicBlock(\n",
      "      (conv1): Conv2d(256, 512, kernel_size=(3, 3), stride=(2, 2), padding=(1, 1), bias=False)\n",
      "      (bn1): BatchNorm2d(512, eps=1e-05, momentum=0.1, affine=True, track_running_stats=True)\n",
      "      (relu): ReLU(inplace=True)\n",
      "      (conv2): Conv2d(512, 512, kernel_size=(3, 3), stride=(1, 1), padding=(1, 1), bias=False)\n",
      "      (bn2): BatchNorm2d(512, eps=1e-05, momentum=0.1, affine=True, track_running_stats=True)\n",
      "      (downsample): Sequential(\n",
      "        (0): Conv2d(256, 512, kernel_size=(1, 1), stride=(2, 2), bias=False)\n",
      "        (1): BatchNorm2d(512, eps=1e-05, momentum=0.1, affine=True, track_running_stats=True)\n",
      "      )\n",
      "    )\n",
      "    (1): BasicBlock(\n",
      "      (conv1): Conv2d(512, 512, kernel_size=(3, 3), stride=(1, 1), padding=(1, 1), bias=False)\n",
      "      (bn1): BatchNorm2d(512, eps=1e-05, momentum=0.1, affine=True, track_running_stats=True)\n",
      "      (relu): ReLU(inplace=True)\n",
      "      (conv2): Conv2d(512, 512, kernel_size=(3, 3), stride=(1, 1), padding=(1, 1), bias=False)\n",
      "      (bn2): BatchNorm2d(512, eps=1e-05, momentum=0.1, affine=True, track_running_stats=True)\n",
      "    )\n",
      "  )\n",
      "  (avgpool): AdaptiveAvgPool2d(output_size=(1, 1))\n",
      "  (fc): Linear(in_features=512, out_features=1000, bias=True)\n",
      ")\n"
     ]
    },
    {
     "name": "stderr",
     "output_type": "stream",
     "text": [
      "\n"
     ]
    }
   ],
   "source": [
    "import torch\n",
    "import torchvision.models as models\n",
    "\n",
    "# For ResNet18\n",
    "resnet18 = models.resnet18(pretrained=True)\n",
    "resnet18.eval()  # Set the model to evaluation mode\n",
    "print(\"ResNet18 Model:\")\n",
    "print(resnet18)\n",
    "\n"
   ]
  },
  {
   "cell_type": "code",
   "execution_count": 18,
   "metadata": {
    "editable": false,
    "execution": {
     "iopub.execute_input": "2024-11-22T08:09:03.060300Z",
     "iopub.status.busy": "2024-11-22T08:09:03.059981Z",
     "iopub.status.idle": "2024-11-22T08:09:03.630950Z",
     "shell.execute_reply": "2024-11-22T08:09:03.630103Z",
     "shell.execute_reply.started": "2024-11-22T08:09:03.060274Z"
    },
    "trusted": true
   },
   "outputs": [],
   "source": [
    "import torch\n",
    "\n",
    "import torch.nn as nn\n",
    "\n",
    "import torchvision.models as models\n",
    "\n",
    "class Resnet18(nn.Module):\n",
    "    def __init__(self, num_classes=2):\n",
    "        super(Resnet18, self).__init__()\n",
    "        model_resnet18 = models.resnet18(pretrained=True)\n",
    "        self.conv1 = model_resnet18.conv1  # convolutional function\n",
    "        self.bn1 = model_resnet18.bn1  # batch normalization\n",
    "        self.relu = model_resnet18.relu  # relu is your activation function.\n",
    "        self.maxpool = model_resnet18.maxpool  # maxpool is basically taking the biggest value per\n",
    "        \n",
    "        # sub_matrix\n",
    "        self.layer1 = model_resnet18.layer1\n",
    "        self.layer2 = model_resnet18.layer2\n",
    "        self.layer3 = model_resnet18.layer3\n",
    "        self.layer4 = model_resnet18.layer4  # these layers are used for deepening the layers in the architecture which will increase\n",
    "        \n",
    "        self.avgpool = model_resnet18.avgpool\n",
    "        self.features = model_resnet18.fc.in_features\n",
    "        self.fc = nn.Linear(self.features, num_classes)\n",
    "\n",
    "    def forward(self, x):\n",
    "        x = self.conv1(x)\n",
    "        x = self.bn1(x)\n",
    "        x = self.relu(x)\n",
    "        x = self.maxpool(x)\n",
    "        x = self.layer1(x)\n",
    "        x = self.layer2(x)\n",
    "        x = self.layer3(x)\n",
    "        x = self.layer4(x)\n",
    "        x = self.avgpool(x)\n",
    "        x = x.view(x.size(0), -1)\n",
    "        x = self.fc(x)\n",
    "        return x\n"
   ]
  },
  {
   "cell_type": "code",
   "execution_count": 19,
   "metadata": {
    "editable": false,
    "execution": {
     "iopub.execute_input": "2024-11-22T08:09:18.914189Z",
     "iopub.status.busy": "2024-11-22T08:09:18.913343Z",
     "iopub.status.idle": "2024-11-22T08:09:19.166076Z",
     "shell.execute_reply": "2024-11-22T08:09:19.165057Z",
     "shell.execute_reply.started": "2024-11-22T08:09:18.914154Z"
    },
    "trusted": true
   },
   "outputs": [
    {
     "name": "stdout",
     "output_type": "stream",
     "text": [
      "Resnet18(\n",
      "  (conv1): Conv2d(3, 64, kernel_size=(7, 7), stride=(2, 2), padding=(3, 3), bias=False)\n",
      "  (bn1): BatchNorm2d(64, eps=1e-05, momentum=0.1, affine=True, track_running_stats=True)\n",
      "  (relu): ReLU(inplace=True)\n",
      "  (maxpool): MaxPool2d(kernel_size=3, stride=2, padding=1, dilation=1, ceil_mode=False)\n",
      "  (layer1): Sequential(\n",
      "    (0): BasicBlock(\n",
      "      (conv1): Conv2d(64, 64, kernel_size=(3, 3), stride=(1, 1), padding=(1, 1), bias=False)\n",
      "      (bn1): BatchNorm2d(64, eps=1e-05, momentum=0.1, affine=True, track_running_stats=True)\n",
      "      (relu): ReLU(inplace=True)\n",
      "      (conv2): Conv2d(64, 64, kernel_size=(3, 3), stride=(1, 1), padding=(1, 1), bias=False)\n",
      "      (bn2): BatchNorm2d(64, eps=1e-05, momentum=0.1, affine=True, track_running_stats=True)\n",
      "    )\n",
      "    (1): BasicBlock(\n",
      "      (conv1): Conv2d(64, 64, kernel_size=(3, 3), stride=(1, 1), padding=(1, 1), bias=False)\n",
      "      (bn1): BatchNorm2d(64, eps=1e-05, momentum=0.1, affine=True, track_running_stats=True)\n",
      "      (relu): ReLU(inplace=True)\n",
      "      (conv2): Conv2d(64, 64, kernel_size=(3, 3), stride=(1, 1), padding=(1, 1), bias=False)\n",
      "      (bn2): BatchNorm2d(64, eps=1e-05, momentum=0.1, affine=True, track_running_stats=True)\n",
      "    )\n",
      "  )\n",
      "  (layer2): Sequential(\n",
      "    (0): BasicBlock(\n",
      "      (conv1): Conv2d(64, 128, kernel_size=(3, 3), stride=(2, 2), padding=(1, 1), bias=False)\n",
      "      (bn1): BatchNorm2d(128, eps=1e-05, momentum=0.1, affine=True, track_running_stats=True)\n",
      "      (relu): ReLU(inplace=True)\n",
      "      (conv2): Conv2d(128, 128, kernel_size=(3, 3), stride=(1, 1), padding=(1, 1), bias=False)\n",
      "      (bn2): BatchNorm2d(128, eps=1e-05, momentum=0.1, affine=True, track_running_stats=True)\n",
      "      (downsample): Sequential(\n",
      "        (0): Conv2d(64, 128, kernel_size=(1, 1), stride=(2, 2), bias=False)\n",
      "        (1): BatchNorm2d(128, eps=1e-05, momentum=0.1, affine=True, track_running_stats=True)\n",
      "      )\n",
      "    )\n",
      "    (1): BasicBlock(\n",
      "      (conv1): Conv2d(128, 128, kernel_size=(3, 3), stride=(1, 1), padding=(1, 1), bias=False)\n",
      "      (bn1): BatchNorm2d(128, eps=1e-05, momentum=0.1, affine=True, track_running_stats=True)\n",
      "      (relu): ReLU(inplace=True)\n",
      "      (conv2): Conv2d(128, 128, kernel_size=(3, 3), stride=(1, 1), padding=(1, 1), bias=False)\n",
      "      (bn2): BatchNorm2d(128, eps=1e-05, momentum=0.1, affine=True, track_running_stats=True)\n",
      "    )\n",
      "  )\n",
      "  (layer3): Sequential(\n",
      "    (0): BasicBlock(\n",
      "      (conv1): Conv2d(128, 256, kernel_size=(3, 3), stride=(2, 2), padding=(1, 1), bias=False)\n",
      "      (bn1): BatchNorm2d(256, eps=1e-05, momentum=0.1, affine=True, track_running_stats=True)\n",
      "      (relu): ReLU(inplace=True)\n",
      "      (conv2): Conv2d(256, 256, kernel_size=(3, 3), stride=(1, 1), padding=(1, 1), bias=False)\n",
      "      (bn2): BatchNorm2d(256, eps=1e-05, momentum=0.1, affine=True, track_running_stats=True)\n",
      "      (downsample): Sequential(\n",
      "        (0): Conv2d(128, 256, kernel_size=(1, 1), stride=(2, 2), bias=False)\n",
      "        (1): BatchNorm2d(256, eps=1e-05, momentum=0.1, affine=True, track_running_stats=True)\n",
      "      )\n",
      "    )\n",
      "    (1): BasicBlock(\n",
      "      (conv1): Conv2d(256, 256, kernel_size=(3, 3), stride=(1, 1), padding=(1, 1), bias=False)\n",
      "      (bn1): BatchNorm2d(256, eps=1e-05, momentum=0.1, affine=True, track_running_stats=True)\n",
      "      (relu): ReLU(inplace=True)\n",
      "      (conv2): Conv2d(256, 256, kernel_size=(3, 3), stride=(1, 1), padding=(1, 1), bias=False)\n",
      "      (bn2): BatchNorm2d(256, eps=1e-05, momentum=0.1, affine=True, track_running_stats=True)\n",
      "    )\n",
      "  )\n",
      "  (layer4): Sequential(\n",
      "    (0): BasicBlock(\n",
      "      (conv1): Conv2d(256, 512, kernel_size=(3, 3), stride=(2, 2), padding=(1, 1), bias=False)\n",
      "      (bn1): BatchNorm2d(512, eps=1e-05, momentum=0.1, affine=True, track_running_stats=True)\n",
      "      (relu): ReLU(inplace=True)\n",
      "      (conv2): Conv2d(512, 512, kernel_size=(3, 3), stride=(1, 1), padding=(1, 1), bias=False)\n",
      "      (bn2): BatchNorm2d(512, eps=1e-05, momentum=0.1, affine=True, track_running_stats=True)\n",
      "      (downsample): Sequential(\n",
      "        (0): Conv2d(256, 512, kernel_size=(1, 1), stride=(2, 2), bias=False)\n",
      "        (1): BatchNorm2d(512, eps=1e-05, momentum=0.1, affine=True, track_running_stats=True)\n",
      "      )\n",
      "    )\n",
      "    (1): BasicBlock(\n",
      "      (conv1): Conv2d(512, 512, kernel_size=(3, 3), stride=(1, 1), padding=(1, 1), bias=False)\n",
      "      (bn1): BatchNorm2d(512, eps=1e-05, momentum=0.1, affine=True, track_running_stats=True)\n",
      "      (relu): ReLU(inplace=True)\n",
      "      (conv2): Conv2d(512, 512, kernel_size=(3, 3), stride=(1, 1), padding=(1, 1), bias=False)\n",
      "      (bn2): BatchNorm2d(512, eps=1e-05, momentum=0.1, affine=True, track_running_stats=True)\n",
      "    )\n",
      "  )\n",
      "  (avgpool): AdaptiveAvgPool2d(output_size=(1, 1))\n",
      "  (fc): Linear(in_features=512, out_features=2, bias=True)\n",
      ")\n"
     ]
    }
   ],
   "source": [
    "model = Resnet18()\n",
    "\n",
    "print(model)"
   ]
  },
  {
   "cell_type": "code",
   "execution_count": 34,
   "metadata": {
    "editable": false,
    "execution": {
     "iopub.execute_input": "2024-11-21T10:35:27.158296Z",
     "iopub.status.busy": "2024-11-21T10:35:27.157967Z",
     "iopub.status.idle": "2024-11-21T10:35:27.165542Z",
     "shell.execute_reply": "2024-11-21T10:35:27.164601Z",
     "shell.execute_reply.started": "2024-11-21T10:35:27.158269Z"
    },
    "trusted": true
   },
   "outputs": [],
   "source": [
    "class Resnet50(nn.Module):\n",
    "    def __init__(self, num_classes=2):\n",
    "        super(Resnet50, self).__init__()\n",
    "        model_resnet50 = models.resnet50(pretrained=True)\n",
    "        self.conv1 = model_resnet50.conv1\n",
    "        self.bn1 = model_resnet50.bn1\n",
    "        self.relu = model_resnet50.relu\n",
    "        self.maxpool = model_resnet50.maxpool\n",
    "        self.layer1 = model_resnet50.layer1\n",
    "        self.layer2 = model_resnet50.layer2\n",
    "        self.layer3 = model_resnet50.layer3\n",
    "        self.layer4 = model_resnet50.layer4\n",
    "        self.avgpool = model_resnet50.avgpool\n",
    "        self.features = model_resnet50.fc.in_features\n",
    "        self.fc = nn.Linear(self.features, num_classes)\n",
    "\n",
    "    def forward(self, x):\n",
    "        x = self.conv1(x)\n",
    "        x = self.bn1(x)\n",
    "        x = self.relu(x)\n",
    "        x = self.maxpool(x)\n",
    "        x = self.layer1(x)\n",
    "        x = self.layer2(x)\n",
    "        x = self.layer3(x)\n",
    "        x = self.layer4(x)\n",
    "        x = self.avgpool(x)\n",
    "        x = x.view(x.size(0), -1)\n",
    "        x = self.fc(x)\n",
    "        return x\n"
   ]
  },
  {
   "cell_type": "code",
   "execution_count": 35,
   "metadata": {
    "editable": false,
    "execution": {
     "iopub.execute_input": "2024-11-21T10:36:05.717454Z",
     "iopub.status.busy": "2024-11-21T10:36:05.716822Z",
     "iopub.status.idle": "2024-11-21T10:36:06.253271Z",
     "shell.execute_reply": "2024-11-21T10:36:06.252328Z",
     "shell.execute_reply.started": "2024-11-21T10:36:05.717421Z"
    },
    "trusted": true
   },
   "outputs": [
    {
     "name": "stdout",
     "output_type": "stream",
     "text": [
      "Resnet50(\n",
      "  (conv1): Conv2d(3, 64, kernel_size=(7, 7), stride=(2, 2), padding=(3, 3), bias=False)\n",
      "  (bn1): BatchNorm2d(64, eps=1e-05, momentum=0.1, affine=True, track_running_stats=True)\n",
      "  (relu): ReLU(inplace=True)\n",
      "  (maxpool): MaxPool2d(kernel_size=3, stride=2, padding=1, dilation=1, ceil_mode=False)\n",
      "  (layer1): Sequential(\n",
      "    (0): Bottleneck(\n",
      "      (conv1): Conv2d(64, 64, kernel_size=(1, 1), stride=(1, 1), bias=False)\n",
      "      (bn1): BatchNorm2d(64, eps=1e-05, momentum=0.1, affine=True, track_running_stats=True)\n",
      "      (conv2): Conv2d(64, 64, kernel_size=(3, 3), stride=(1, 1), padding=(1, 1), bias=False)\n",
      "      (bn2): BatchNorm2d(64, eps=1e-05, momentum=0.1, affine=True, track_running_stats=True)\n",
      "      (conv3): Conv2d(64, 256, kernel_size=(1, 1), stride=(1, 1), bias=False)\n",
      "      (bn3): BatchNorm2d(256, eps=1e-05, momentum=0.1, affine=True, track_running_stats=True)\n",
      "      (relu): ReLU(inplace=True)\n",
      "      (downsample): Sequential(\n",
      "        (0): Conv2d(64, 256, kernel_size=(1, 1), stride=(1, 1), bias=False)\n",
      "        (1): BatchNorm2d(256, eps=1e-05, momentum=0.1, affine=True, track_running_stats=True)\n",
      "      )\n",
      "    )\n",
      "    (1): Bottleneck(\n",
      "      (conv1): Conv2d(256, 64, kernel_size=(1, 1), stride=(1, 1), bias=False)\n",
      "      (bn1): BatchNorm2d(64, eps=1e-05, momentum=0.1, affine=True, track_running_stats=True)\n",
      "      (conv2): Conv2d(64, 64, kernel_size=(3, 3), stride=(1, 1), padding=(1, 1), bias=False)\n",
      "      (bn2): BatchNorm2d(64, eps=1e-05, momentum=0.1, affine=True, track_running_stats=True)\n",
      "      (conv3): Conv2d(64, 256, kernel_size=(1, 1), stride=(1, 1), bias=False)\n",
      "      (bn3): BatchNorm2d(256, eps=1e-05, momentum=0.1, affine=True, track_running_stats=True)\n",
      "      (relu): ReLU(inplace=True)\n",
      "    )\n",
      "    (2): Bottleneck(\n",
      "      (conv1): Conv2d(256, 64, kernel_size=(1, 1), stride=(1, 1), bias=False)\n",
      "      (bn1): BatchNorm2d(64, eps=1e-05, momentum=0.1, affine=True, track_running_stats=True)\n",
      "      (conv2): Conv2d(64, 64, kernel_size=(3, 3), stride=(1, 1), padding=(1, 1), bias=False)\n",
      "      (bn2): BatchNorm2d(64, eps=1e-05, momentum=0.1, affine=True, track_running_stats=True)\n",
      "      (conv3): Conv2d(64, 256, kernel_size=(1, 1), stride=(1, 1), bias=False)\n",
      "      (bn3): BatchNorm2d(256, eps=1e-05, momentum=0.1, affine=True, track_running_stats=True)\n",
      "      (relu): ReLU(inplace=True)\n",
      "    )\n",
      "  )\n",
      "  (layer2): Sequential(\n",
      "    (0): Bottleneck(\n",
      "      (conv1): Conv2d(256, 128, kernel_size=(1, 1), stride=(1, 1), bias=False)\n",
      "      (bn1): BatchNorm2d(128, eps=1e-05, momentum=0.1, affine=True, track_running_stats=True)\n",
      "      (conv2): Conv2d(128, 128, kernel_size=(3, 3), stride=(2, 2), padding=(1, 1), bias=False)\n",
      "      (bn2): BatchNorm2d(128, eps=1e-05, momentum=0.1, affine=True, track_running_stats=True)\n",
      "      (conv3): Conv2d(128, 512, kernel_size=(1, 1), stride=(1, 1), bias=False)\n",
      "      (bn3): BatchNorm2d(512, eps=1e-05, momentum=0.1, affine=True, track_running_stats=True)\n",
      "      (relu): ReLU(inplace=True)\n",
      "      (downsample): Sequential(\n",
      "        (0): Conv2d(256, 512, kernel_size=(1, 1), stride=(2, 2), bias=False)\n",
      "        (1): BatchNorm2d(512, eps=1e-05, momentum=0.1, affine=True, track_running_stats=True)\n",
      "      )\n",
      "    )\n",
      "    (1): Bottleneck(\n",
      "      (conv1): Conv2d(512, 128, kernel_size=(1, 1), stride=(1, 1), bias=False)\n",
      "      (bn1): BatchNorm2d(128, eps=1e-05, momentum=0.1, affine=True, track_running_stats=True)\n",
      "      (conv2): Conv2d(128, 128, kernel_size=(3, 3), stride=(1, 1), padding=(1, 1), bias=False)\n",
      "      (bn2): BatchNorm2d(128, eps=1e-05, momentum=0.1, affine=True, track_running_stats=True)\n",
      "      (conv3): Conv2d(128, 512, kernel_size=(1, 1), stride=(1, 1), bias=False)\n",
      "      (bn3): BatchNorm2d(512, eps=1e-05, momentum=0.1, affine=True, track_running_stats=True)\n",
      "      (relu): ReLU(inplace=True)\n",
      "    )\n",
      "    (2): Bottleneck(\n",
      "      (conv1): Conv2d(512, 128, kernel_size=(1, 1), stride=(1, 1), bias=False)\n",
      "      (bn1): BatchNorm2d(128, eps=1e-05, momentum=0.1, affine=True, track_running_stats=True)\n",
      "      (conv2): Conv2d(128, 128, kernel_size=(3, 3), stride=(1, 1), padding=(1, 1), bias=False)\n",
      "      (bn2): BatchNorm2d(128, eps=1e-05, momentum=0.1, affine=True, track_running_stats=True)\n",
      "      (conv3): Conv2d(128, 512, kernel_size=(1, 1), stride=(1, 1), bias=False)\n",
      "      (bn3): BatchNorm2d(512, eps=1e-05, momentum=0.1, affine=True, track_running_stats=True)\n",
      "      (relu): ReLU(inplace=True)\n",
      "    )\n",
      "    (3): Bottleneck(\n",
      "      (conv1): Conv2d(512, 128, kernel_size=(1, 1), stride=(1, 1), bias=False)\n",
      "      (bn1): BatchNorm2d(128, eps=1e-05, momentum=0.1, affine=True, track_running_stats=True)\n",
      "      (conv2): Conv2d(128, 128, kernel_size=(3, 3), stride=(1, 1), padding=(1, 1), bias=False)\n",
      "      (bn2): BatchNorm2d(128, eps=1e-05, momentum=0.1, affine=True, track_running_stats=True)\n",
      "      (conv3): Conv2d(128, 512, kernel_size=(1, 1), stride=(1, 1), bias=False)\n",
      "      (bn3): BatchNorm2d(512, eps=1e-05, momentum=0.1, affine=True, track_running_stats=True)\n",
      "      (relu): ReLU(inplace=True)\n",
      "    )\n",
      "  )\n",
      "  (layer3): Sequential(\n",
      "    (0): Bottleneck(\n",
      "      (conv1): Conv2d(512, 256, kernel_size=(1, 1), stride=(1, 1), bias=False)\n",
      "      (bn1): BatchNorm2d(256, eps=1e-05, momentum=0.1, affine=True, track_running_stats=True)\n",
      "      (conv2): Conv2d(256, 256, kernel_size=(3, 3), stride=(2, 2), padding=(1, 1), bias=False)\n",
      "      (bn2): BatchNorm2d(256, eps=1e-05, momentum=0.1, affine=True, track_running_stats=True)\n",
      "      (conv3): Conv2d(256, 1024, kernel_size=(1, 1), stride=(1, 1), bias=False)\n",
      "      (bn3): BatchNorm2d(1024, eps=1e-05, momentum=0.1, affine=True, track_running_stats=True)\n",
      "      (relu): ReLU(inplace=True)\n",
      "      (downsample): Sequential(\n",
      "        (0): Conv2d(512, 1024, kernel_size=(1, 1), stride=(2, 2), bias=False)\n",
      "        (1): BatchNorm2d(1024, eps=1e-05, momentum=0.1, affine=True, track_running_stats=True)\n",
      "      )\n",
      "    )\n",
      "    (1): Bottleneck(\n",
      "      (conv1): Conv2d(1024, 256, kernel_size=(1, 1), stride=(1, 1), bias=False)\n",
      "      (bn1): BatchNorm2d(256, eps=1e-05, momentum=0.1, affine=True, track_running_stats=True)\n",
      "      (conv2): Conv2d(256, 256, kernel_size=(3, 3), stride=(1, 1), padding=(1, 1), bias=False)\n",
      "      (bn2): BatchNorm2d(256, eps=1e-05, momentum=0.1, affine=True, track_running_stats=True)\n",
      "      (conv3): Conv2d(256, 1024, kernel_size=(1, 1), stride=(1, 1), bias=False)\n",
      "      (bn3): BatchNorm2d(1024, eps=1e-05, momentum=0.1, affine=True, track_running_stats=True)\n",
      "      (relu): ReLU(inplace=True)\n",
      "    )\n",
      "    (2): Bottleneck(\n",
      "      (conv1): Conv2d(1024, 256, kernel_size=(1, 1), stride=(1, 1), bias=False)\n",
      "      (bn1): BatchNorm2d(256, eps=1e-05, momentum=0.1, affine=True, track_running_stats=True)\n",
      "      (conv2): Conv2d(256, 256, kernel_size=(3, 3), stride=(1, 1), padding=(1, 1), bias=False)\n",
      "      (bn2): BatchNorm2d(256, eps=1e-05, momentum=0.1, affine=True, track_running_stats=True)\n",
      "      (conv3): Conv2d(256, 1024, kernel_size=(1, 1), stride=(1, 1), bias=False)\n",
      "      (bn3): BatchNorm2d(1024, eps=1e-05, momentum=0.1, affine=True, track_running_stats=True)\n",
      "      (relu): ReLU(inplace=True)\n",
      "    )\n",
      "    (3): Bottleneck(\n",
      "      (conv1): Conv2d(1024, 256, kernel_size=(1, 1), stride=(1, 1), bias=False)\n",
      "      (bn1): BatchNorm2d(256, eps=1e-05, momentum=0.1, affine=True, track_running_stats=True)\n",
      "      (conv2): Conv2d(256, 256, kernel_size=(3, 3), stride=(1, 1), padding=(1, 1), bias=False)\n",
      "      (bn2): BatchNorm2d(256, eps=1e-05, momentum=0.1, affine=True, track_running_stats=True)\n",
      "      (conv3): Conv2d(256, 1024, kernel_size=(1, 1), stride=(1, 1), bias=False)\n",
      "      (bn3): BatchNorm2d(1024, eps=1e-05, momentum=0.1, affine=True, track_running_stats=True)\n",
      "      (relu): ReLU(inplace=True)\n",
      "    )\n",
      "    (4): Bottleneck(\n",
      "      (conv1): Conv2d(1024, 256, kernel_size=(1, 1), stride=(1, 1), bias=False)\n",
      "      (bn1): BatchNorm2d(256, eps=1e-05, momentum=0.1, affine=True, track_running_stats=True)\n",
      "      (conv2): Conv2d(256, 256, kernel_size=(3, 3), stride=(1, 1), padding=(1, 1), bias=False)\n",
      "      (bn2): BatchNorm2d(256, eps=1e-05, momentum=0.1, affine=True, track_running_stats=True)\n",
      "      (conv3): Conv2d(256, 1024, kernel_size=(1, 1), stride=(1, 1), bias=False)\n",
      "      (bn3): BatchNorm2d(1024, eps=1e-05, momentum=0.1, affine=True, track_running_stats=True)\n",
      "      (relu): ReLU(inplace=True)\n",
      "    )\n",
      "    (5): Bottleneck(\n",
      "      (conv1): Conv2d(1024, 256, kernel_size=(1, 1), stride=(1, 1), bias=False)\n",
      "      (bn1): BatchNorm2d(256, eps=1e-05, momentum=0.1, affine=True, track_running_stats=True)\n",
      "      (conv2): Conv2d(256, 256, kernel_size=(3, 3), stride=(1, 1), padding=(1, 1), bias=False)\n",
      "      (bn2): BatchNorm2d(256, eps=1e-05, momentum=0.1, affine=True, track_running_stats=True)\n",
      "      (conv3): Conv2d(256, 1024, kernel_size=(1, 1), stride=(1, 1), bias=False)\n",
      "      (bn3): BatchNorm2d(1024, eps=1e-05, momentum=0.1, affine=True, track_running_stats=True)\n",
      "      (relu): ReLU(inplace=True)\n",
      "    )\n",
      "  )\n",
      "  (layer4): Sequential(\n",
      "    (0): Bottleneck(\n",
      "      (conv1): Conv2d(1024, 512, kernel_size=(1, 1), stride=(1, 1), bias=False)\n",
      "      (bn1): BatchNorm2d(512, eps=1e-05, momentum=0.1, affine=True, track_running_stats=True)\n",
      "      (conv2): Conv2d(512, 512, kernel_size=(3, 3), stride=(2, 2), padding=(1, 1), bias=False)\n",
      "      (bn2): BatchNorm2d(512, eps=1e-05, momentum=0.1, affine=True, track_running_stats=True)\n",
      "      (conv3): Conv2d(512, 2048, kernel_size=(1, 1), stride=(1, 1), bias=False)\n",
      "      (bn3): BatchNorm2d(2048, eps=1e-05, momentum=0.1, affine=True, track_running_stats=True)\n",
      "      (relu): ReLU(inplace=True)\n",
      "      (downsample): Sequential(\n",
      "        (0): Conv2d(1024, 2048, kernel_size=(1, 1), stride=(2, 2), bias=False)\n",
      "        (1): BatchNorm2d(2048, eps=1e-05, momentum=0.1, affine=True, track_running_stats=True)\n",
      "      )\n",
      "    )\n",
      "    (1): Bottleneck(\n",
      "      (conv1): Conv2d(2048, 512, kernel_size=(1, 1), stride=(1, 1), bias=False)\n",
      "      (bn1): BatchNorm2d(512, eps=1e-05, momentum=0.1, affine=True, track_running_stats=True)\n",
      "      (conv2): Conv2d(512, 512, kernel_size=(3, 3), stride=(1, 1), padding=(1, 1), bias=False)\n",
      "      (bn2): BatchNorm2d(512, eps=1e-05, momentum=0.1, affine=True, track_running_stats=True)\n",
      "      (conv3): Conv2d(512, 2048, kernel_size=(1, 1), stride=(1, 1), bias=False)\n",
      "      (bn3): BatchNorm2d(2048, eps=1e-05, momentum=0.1, affine=True, track_running_stats=True)\n",
      "      (relu): ReLU(inplace=True)\n",
      "    )\n",
      "    (2): Bottleneck(\n",
      "      (conv1): Conv2d(2048, 512, kernel_size=(1, 1), stride=(1, 1), bias=False)\n",
      "      (bn1): BatchNorm2d(512, eps=1e-05, momentum=0.1, affine=True, track_running_stats=True)\n",
      "      (conv2): Conv2d(512, 512, kernel_size=(3, 3), stride=(1, 1), padding=(1, 1), bias=False)\n",
      "      (bn2): BatchNorm2d(512, eps=1e-05, momentum=0.1, affine=True, track_running_stats=True)\n",
      "      (conv3): Conv2d(512, 2048, kernel_size=(1, 1), stride=(1, 1), bias=False)\n",
      "      (bn3): BatchNorm2d(2048, eps=1e-05, momentum=0.1, affine=True, track_running_stats=True)\n",
      "      (relu): ReLU(inplace=True)\n",
      "    )\n",
      "  )\n",
      "  (avgpool): AdaptiveAvgPool2d(output_size=(1, 1))\n",
      "  (fc): Linear(in_features=2048, out_features=2, bias=True)\n",
      ")\n"
     ]
    }
   ],
   "source": [
    "model = Resnet50()\n",
    "\n",
    "print(model)"
   ]
  },
  {
   "cell_type": "markdown",
   "metadata": {
    "editable": false,
    "id": "-Zk_27AcIdoG"
   },
   "source": [
    "**Model training**"
   ]
  },
  {
   "cell_type": "code",
   "execution_count": 68,
   "metadata": {
    "editable": false,
    "execution": {
     "iopub.execute_input": "2024-11-22T12:25:59.204193Z",
     "iopub.status.busy": "2024-11-22T12:25:59.203850Z",
     "iopub.status.idle": "2024-11-22T12:25:59.211560Z",
     "shell.execute_reply": "2024-11-22T12:25:59.210703Z",
     "shell.execute_reply.started": "2024-11-22T12:25:59.204165Z"
    },
    "id": "3bQF7wf_I4v7",
    "trusted": true
   },
   "outputs": [],
   "source": [
    "import torch\n",
    "\n",
    "import torch.nn as nn\n",
    "\n",
    "import torchvision.models as models\n",
    "\n",
    "\n",
    "\n",
    "class customVGG16(nn.Module):\n",
    "\n",
    "    def __init__(self, num_classes=2):\n",
    "\n",
    "        super(customVGG16, self).__init__()\n",
    "\n",
    "\n",
    "\n",
    "        # Load the pre-trained VGG16 model\n",
    "\n",
    "        vgg16 = models.vgg16(pretrained=True)\n",
    "\n",
    "\n",
    "\n",
    "        # Extract features and avgpool layers\n",
    "\n",
    "        self.features = vgg16.features\n",
    "\n",
    "        self.avgpool = vgg16.avgpool\n",
    "\n",
    "\n",
    "\n",
    "        # Define a new classifier\n",
    "\n",
    "        self.classifier = nn.Sequential(\n",
    "\n",
    "            nn.Linear(512 * 7 * 7, 4096),  # Linear layer with input size 512 7 7 and output size 4096\n",
    "\n",
    "            nn.ReLU(),                    # ReLU activation function\n",
    "\n",
    "            nn.Dropout(),                 # Dropout\n",
    "\n",
    "            nn.Linear(4096, 4096),         # Another linear layer with input size 4096 and output size 4096\n",
    "\n",
    "            nn.ReLU(),                    # ReLU activation\n",
    "\n",
    "            nn.Dropout(),                 # Dropout layer\n",
    "\n",
    "            nn.Linear(4096, num_classes)  # Final Linear layer with output size equal to number of classes\n",
    "\n",
    "        )\n",
    "\n",
    "\n",
    "\n",
    "    # Forward Method (Make sure this is outside the __init__ method)\n",
    "\n",
    "    def forward(self, x):\n",
    "\n",
    "        # Pass input through the features layer\n",
    "\n",
    "        x = self.features(x)\n",
    "\n",
    "        # Pass through the AVGpool layer\n",
    "\n",
    "        x = self.avgpool(x)\n",
    "\n",
    "        # Reshape output to a 2D tensor\n",
    "\n",
    "        x = torch.flatten(x, 1)\n",
    "\n",
    "        # Pass through the classifier\n",
    "\n",
    "        x = self.classifier(x)\n",
    "\n",
    "\n",
    "\n",
    "        return x\n"
   ]
  },
  {
   "cell_type": "code",
   "execution_count": 69,
   "metadata": {
    "editable": false,
    "execution": {
     "iopub.execute_input": "2024-11-22T12:26:07.817963Z",
     "iopub.status.busy": "2024-11-22T12:26:07.817576Z",
     "iopub.status.idle": "2024-11-22T12:26:10.469101Z",
     "shell.execute_reply": "2024-11-22T12:26:10.468189Z",
     "shell.execute_reply.started": "2024-11-22T12:26:07.817933Z"
    },
    "id": "HWPsGmjsWySn",
    "trusted": true
   },
   "outputs": [
    {
     "name": "stdout",
     "output_type": "stream",
     "text": [
      "customVGG16(\n",
      "  (features): Sequential(\n",
      "    (0): Conv2d(3, 64, kernel_size=(3, 3), stride=(1, 1), padding=(1, 1))\n",
      "    (1): ReLU(inplace=True)\n",
      "    (2): Conv2d(64, 64, kernel_size=(3, 3), stride=(1, 1), padding=(1, 1))\n",
      "    (3): ReLU(inplace=True)\n",
      "    (4): MaxPool2d(kernel_size=2, stride=2, padding=0, dilation=1, ceil_mode=False)\n",
      "    (5): Conv2d(64, 128, kernel_size=(3, 3), stride=(1, 1), padding=(1, 1))\n",
      "    (6): ReLU(inplace=True)\n",
      "    (7): Conv2d(128, 128, kernel_size=(3, 3), stride=(1, 1), padding=(1, 1))\n",
      "    (8): ReLU(inplace=True)\n",
      "    (9): MaxPool2d(kernel_size=2, stride=2, padding=0, dilation=1, ceil_mode=False)\n",
      "    (10): Conv2d(128, 256, kernel_size=(3, 3), stride=(1, 1), padding=(1, 1))\n",
      "    (11): ReLU(inplace=True)\n",
      "    (12): Conv2d(256, 256, kernel_size=(3, 3), stride=(1, 1), padding=(1, 1))\n",
      "    (13): ReLU(inplace=True)\n",
      "    (14): Conv2d(256, 256, kernel_size=(3, 3), stride=(1, 1), padding=(1, 1))\n",
      "    (15): ReLU(inplace=True)\n",
      "    (16): MaxPool2d(kernel_size=2, stride=2, padding=0, dilation=1, ceil_mode=False)\n",
      "    (17): Conv2d(256, 512, kernel_size=(3, 3), stride=(1, 1), padding=(1, 1))\n",
      "    (18): ReLU(inplace=True)\n",
      "    (19): Conv2d(512, 512, kernel_size=(3, 3), stride=(1, 1), padding=(1, 1))\n",
      "    (20): ReLU(inplace=True)\n",
      "    (21): Conv2d(512, 512, kernel_size=(3, 3), stride=(1, 1), padding=(1, 1))\n",
      "    (22): ReLU(inplace=True)\n",
      "    (23): MaxPool2d(kernel_size=2, stride=2, padding=0, dilation=1, ceil_mode=False)\n",
      "    (24): Conv2d(512, 512, kernel_size=(3, 3), stride=(1, 1), padding=(1, 1))\n",
      "    (25): ReLU(inplace=True)\n",
      "    (26): Conv2d(512, 512, kernel_size=(3, 3), stride=(1, 1), padding=(1, 1))\n",
      "    (27): ReLU(inplace=True)\n",
      "    (28): Conv2d(512, 512, kernel_size=(3, 3), stride=(1, 1), padding=(1, 1))\n",
      "    (29): ReLU(inplace=True)\n",
      "    (30): MaxPool2d(kernel_size=2, stride=2, padding=0, dilation=1, ceil_mode=False)\n",
      "  )\n",
      "  (avgpool): AdaptiveAvgPool2d(output_size=(7, 7))\n",
      "  (classifier): Sequential(\n",
      "    (0): Linear(in_features=25088, out_features=4096, bias=True)\n",
      "    (1): ReLU()\n",
      "    (2): Dropout(p=0.5, inplace=False)\n",
      "    (3): Linear(in_features=4096, out_features=4096, bias=True)\n",
      "    (4): ReLU()\n",
      "    (5): Dropout(p=0.5, inplace=False)\n",
      "    (6): Linear(in_features=4096, out_features=2, bias=True)\n",
      "  )\n",
      ")\n"
     ]
    }
   ],
   "source": [
    "model = customVGG16()\n",
    "\n",
    "print(model)"
   ]
  },
  {
   "cell_type": "code",
   "execution_count": 70,
   "metadata": {
    "editable": false,
    "execution": {
     "iopub.execute_input": "2024-11-22T12:26:25.678725Z",
     "iopub.status.busy": "2024-11-22T12:26:25.677838Z",
     "iopub.status.idle": "2024-11-22T12:26:25.686114Z",
     "shell.execute_reply": "2024-11-22T12:26:25.685156Z",
     "shell.execute_reply.started": "2024-11-22T12:26:25.678659Z"
    },
    "id": "TLFdUfblbp16",
    "trusted": true
   },
   "outputs": [],
   "source": [
    "import numpy as np\n",
    "\n",
    "import torch\n",
    "\n",
    "\n",
    "\n",
    "class EarlyStopping:\n",
    "\n",
    "    def __init__(self, patience=5, verbose=False, delta=0, path='checkpoint.pt', trace_func=print):\n",
    "\n",
    "\n",
    "\n",
    "        self.patience = patience\n",
    "\n",
    "        self.verbose = verbose\n",
    "\n",
    "        self.delta = delta\n",
    "\n",
    "        self.path = path\n",
    "\n",
    "        self.trace_func = trace_func\n",
    "\n",
    "\n",
    "\n",
    "        self.counter = 0\n",
    "\n",
    "        self.best_score = None\n",
    "\n",
    "        self.early_stop = False\n",
    "\n",
    "        self.val_loss_min = np.Inf\n",
    "\n",
    "\n",
    "\n",
    "    def __call__(self, val_loss, model):\n",
    "\n",
    "        score = -val_loss\n",
    "\n",
    "\n",
    "\n",
    "        # Initialize best_score if not set, and check for improvement\n",
    "\n",
    "        if self.best_score is None:\n",
    "\n",
    "            self.best_score = score\n",
    "\n",
    "            self.save_checkpoint(val_loss, model)\n",
    "\n",
    "        elif score < self.best_score + self.delta:\n",
    "\n",
    "            self.counter += 1\n",
    "\n",
    "            if self.verbose:\n",
    "\n",
    "                self.trace_func(f\"EarlyStopping counter: {self.counter} out of {self.patience}\")\n",
    "\n",
    "            if self.counter >= self.patience:\n",
    "\n",
    "                self.early_stop = True\n",
    "\n",
    "        else:\n",
    "\n",
    "            self.best_score = score\n",
    "\n",
    "            self.save_checkpoint(val_loss, model)\n",
    "\n",
    "            self.counter = 0\n",
    "\n",
    "\n",
    "\n",
    "    def save_checkpoint(self, val_loss, model):\n",
    "\n",
    "        \"\"\"Saves model when validation loss decreases.\"\"\"\n",
    "\n",
    "        if self.verbose:\n",
    "\n",
    "            self.trace_func(f\"Validation loss decreased ({self.val_loss_min:.6f} --> {val_loss:.6f}). Saving model...\")\n",
    "\n",
    "        torch.save(model.state_dict(), self.path)\n",
    "\n",
    "        self.val_loss_min = val_loss\n"
   ]
  },
  {
   "cell_type": "markdown",
   "metadata": {
    "editable": false,
    "id": "qhtpWIpPNxea"
   },
   "source": [
    "training the VGG16 model"
   ]
  },
  {
   "cell_type": "code",
   "execution_count": 57,
   "metadata": {
    "editable": false,
    "execution": {
     "iopub.execute_input": "2024-11-22T09:49:25.703549Z",
     "iopub.status.busy": "2024-11-22T09:49:25.702897Z",
     "iopub.status.idle": "2024-11-22T09:49:25.707499Z",
     "shell.execute_reply": "2024-11-22T09:49:25.706526Z",
     "shell.execute_reply.started": "2024-11-22T09:49:25.703518Z"
    },
    "id": "7kxMCmb3rRyJ",
    "trusted": true
   },
   "outputs": [],
   "source": [
    "import torch\n",
    "\n",
    "\n",
    "\n",
    "import torch.nn.functional as F\n",
    "\n",
    "\n",
    "\n",
    "from tqdm import tqdm\n",
    "\n",
    "\n",
    "\n",
    "import torch.optim as optim\n",
    "\n",
    "\n",
    "\n",
    "from tqdm import tqdm"
   ]
  },
  {
   "cell_type": "code",
   "execution_count": 58,
   "metadata": {
    "editable": false,
    "execution": {
     "iopub.execute_input": "2024-11-22T09:49:30.638297Z",
     "iopub.status.busy": "2024-11-22T09:49:30.637949Z",
     "iopub.status.idle": "2024-11-22T09:49:30.678453Z",
     "shell.execute_reply": "2024-11-22T09:49:30.677744Z",
     "shell.execute_reply.started": "2024-11-22T09:49:30.638268Z"
    },
    "id": "B1ft5LBixIGF",
    "trusted": true
   },
   "outputs": [],
   "source": [
    "#no_cuda = not torch.cuda.is_available()  # Set to True if CUDA is not available\n",
    "\n",
    "#device = torch.device(\"cuda\" if torch.cuda.is_available() and not no_cuda else \"cpu\")\n",
    "\n",
    "#print(f\"Using device: {device}\")\n",
    "\n",
    "device = torch.device('cuda' if torch.cuda.is_available() else 'cpu')\n",
    "\n",
    "model = model.to(device)\n",
    "\n",
    "\n",
    "\n",
    "#device = torch.device(\"cpu\")"
   ]
  },
  {
   "cell_type": "code",
   "execution_count": 59,
   "metadata": {
    "editable": false,
    "execution": {
     "iopub.execute_input": "2024-11-22T09:49:37.224926Z",
     "iopub.status.busy": "2024-11-22T09:49:37.224555Z",
     "iopub.status.idle": "2024-11-22T09:49:37.229746Z",
     "shell.execute_reply": "2024-11-22T09:49:37.228539Z",
     "shell.execute_reply.started": "2024-11-22T09:49:37.224895Z"
    },
    "trusted": true
   },
   "outputs": [],
   "source": [
    "import torch\n",
    "import torch.nn.functional as F\n",
    "#from tqdm import tqdm #already imported in previous cell\n",
    "import torch.optim as optim\n",
    "#from tqdm import tqdm  #already imported in previous cell\n",
    "\n",
    "# Get the CPU device\n",
    "\n",
    "#device = torch.device(\"cpu\")\n",
    "\n",
    "#print(f\"Using device: {device}\")\n",
    "\n",
    "# ... rest of your code using 'device' for tensors ..."
   ]
  },
  {
   "cell_type": "code",
   "execution_count": 60,
   "metadata": {
    "editable": false,
    "execution": {
     "iopub.execute_input": "2024-11-22T09:49:42.579372Z",
     "iopub.status.busy": "2024-11-22T09:49:42.578756Z",
     "iopub.status.idle": "2024-11-22T09:49:42.585503Z",
     "shell.execute_reply": "2024-11-22T09:49:42.584677Z",
     "shell.execute_reply.started": "2024-11-22T09:49:42.579340Z"
    },
    "trusted": true
   },
   "outputs": [],
   "source": [
    "device = torch.device('cuda' if torch.cuda.is_available() else 'cpu')\n",
    "\n",
    "model = model.to(device)"
   ]
  },
  {
   "cell_type": "markdown",
   "metadata": {
    "editable": false,
    "id": "QVo-Hbt27MOP"
   },
   "source": [
    "train function"
   ]
  },
  {
   "cell_type": "code",
   "execution_count": 71,
   "metadata": {
    "editable": false,
    "execution": {
     "iopub.execute_input": "2024-11-22T12:27:27.233530Z",
     "iopub.status.busy": "2024-11-22T12:27:27.233170Z",
     "iopub.status.idle": "2024-11-22T12:27:27.241401Z",
     "shell.execute_reply": "2024-11-22T12:27:27.240526Z",
     "shell.execute_reply.started": "2024-11-22T12:27:27.233499Z"
    },
    "trusted": true
   },
   "outputs": [],
   "source": [
    "import torch\n",
    "from tqdm import tqdm\n",
    "import torch.nn.functional as F\n",
    "\n",
    "epoch = 0\n",
    "\n",
    "total_epochs = 50\n",
    "\n",
    "loader = train_loader  # Ensure this is a DataLoader instance for training data\n",
    "\n",
    "criterion = nn.CrossEntropyLoss()\n",
    "\n",
    "l2_decay = 0.01\n",
    "\n",
    "lr = 0.01  # Learning rate\n",
    "\n",
    "\n",
    "\n",
    "def train(epoch, model, num_epochs, loader, criterion, l2_decay):\n",
    "\n",
    "    learing_rate = max(lr*(0.1**(epoch//10)),1e-5)\n",
    "    optimizer = torch.optim.SGD(model.parameters(), lr= learing_rate, momentum=0.9, weight_decay=l2_decay)\n",
    "\n",
    "    model.train()\n",
    "\n",
    "    correct = 0\n",
    "    for data, label in tqdm(loader, desc=f'Epoch {epoch+1}/{num_epochs}', unit='batch'):\n",
    "        data = data.float().cuda()\n",
    "\n",
    "        label = label.long().cuda()\n",
    "\n",
    "        output = model(data)\n",
    "        optimizer.zero_grad()\n",
    "        loss = F.nll_loss(F.log_softmax(output, dim=1), label)\n",
    "        loss.backward()\n",
    "        optimizer.step()\n",
    "\n",
    "        pred = output.data.max(1)[1]\n",
    "        correct += pred.eq(label.data.view_as(pred)).cpu().sum()\n",
    "\n",
    "    print(f'train accuracy: {100. * correct / len(loader.dataset)}%')\n",
    "\n"
   ]
  },
  {
   "cell_type": "code",
   "execution_count": 72,
   "metadata": {
    "editable": false,
    "execution": {
     "iopub.execute_input": "2024-11-22T12:28:08.278616Z",
     "iopub.status.busy": "2024-11-22T12:28:08.278269Z",
     "iopub.status.idle": "2024-11-22T12:28:08.288466Z",
     "shell.execute_reply": "2024-11-22T12:28:08.287506Z",
     "shell.execute_reply.started": "2024-11-22T12:28:08.278588Z"
    },
    "trusted": true
   },
   "outputs": [],
   "source": [
    "from sklearn.metrics import roc_curve, auc as compute_auc  # Rename the imported 'auc' function\n",
    "import sklearn.metrics as metrics\n",
    "\n",
    "def validation(model, val_loader):\n",
    "    model.eval()  # Set model to evaluation mode\n",
    "    test_loss = 0\n",
    "    correct = 0\n",
    "    all_predictions = []  # Store all predictions\n",
    "    all_targets = []  # Store all targets\n",
    "    possibilities = None  # Store probabilities for AUC\n",
    "\n",
    "    for data, target in val_loader:\n",
    "        if torch.cuda.is_available():\n",
    "            data, target = data.cuda(), target.cuda()\n",
    "\n",
    "        val_output = model(data)\n",
    "\n",
    "        # Calculate test loss\n",
    "        test_loss += F.nll_loss(F.log_softmax(val_output, dim=1), target, reduction='sum').item()\n",
    "\n",
    "        # Get predictions and accumulate them\n",
    "        pred = val_output.data.max(1)[1]\n",
    "        all_predictions.extend(pred.cpu().numpy())  # Collect all predictions\n",
    "        all_targets.extend(target.cpu().numpy())  # Collect all target labels\n",
    "\n",
    "        # Calculate probabilities for AUC\n",
    "        possibility = F.softmax(val_output, dim=1).cpu().detach().numpy()\n",
    "        if possibilities is None:\n",
    "            possibilities = possibility\n",
    "        else:\n",
    "            possibilities = np.concatenate((possibilities, possibility), axis=0)\n",
    "\n",
    "        # Calculate the number of correct predictions\n",
    "        correct += pred.eq(target.data.view_as(pred)).cpu().sum()\n",
    "\n",
    "    # Compute confusion matrix\n",
    "    cm = metrics.confusion_matrix(all_targets, all_predictions)\n",
    "\n",
    "    # One-hot encode the labels for AUC computation\n",
    "    num_classes = val_output.shape[1]\n",
    "    label_onehot = np.eye(num_classes)[np.array(all_targets).astype(int)]\n",
    "\n",
    "    # Compute ROC curve and AUC\n",
    "    fpr, tpr, thresholds = roc_curve(label_onehot.ravel(), possibilities.ravel())\n",
    "    auc_score = compute_auc(fpr, tpr)  # Use 'compute_auc' to avoid conflicts\n",
    "\n",
    "    # Average test loss per sample\n",
    "    test_loss /= len(val_loader.dataset)\n",
    "\n",
    "    # Calculate specificity and sensitivity\n",
    "    specificity = 1 - fpr[1] if len(fpr) > 1 else 0\n",
    "    sensitivity = tpr[1] if len(tpr) > 1 else 0\n",
    "\n",
    "    print('Specificity: {:.4f}, Sensitivity: {:.4f}, AUC: {:.4f}'.format(specificity, sensitivity, auc_score))\n",
    "    print('\\nTest set: Average loss: {:.4f}, Accuracy: {:.2f}%\\n'.format(test_loss, 100. * correct / len(val_loader.dataset)))\n",
    "\n",
    "    return test_loss, 100. * correct / len(val_loader.dataset), cm, auc_score\n"
   ]
  },
  {
   "cell_type": "code",
   "execution_count": 73,
   "metadata": {
    "editable": false,
    "execution": {
     "iopub.execute_input": "2024-11-22T12:28:16.983189Z",
     "iopub.status.busy": "2024-11-22T12:28:16.982879Z",
     "iopub.status.idle": "2024-11-22T12:28:19.891925Z",
     "shell.execute_reply": "2024-11-22T12:28:19.891157Z",
     "shell.execute_reply.started": "2024-11-22T12:28:16.983164Z"
    },
    "id": "mcIlXpzChJ_7",
    "trusted": true
   },
   "outputs": [],
   "source": [
    "total_epochs = 50\n",
    "\n",
    "lr = 0.01\n",
    "\n",
    "momentum = 0.9\n",
    "\n",
    "no_cuda = False\n",
    "\n",
    "num_classes=2\n",
    "\n",
    "log_interval = 10\n",
    "\n",
    "l2_decay = 0.01\n",
    "\n",
    "model = customVGG16(num_classes=num_classes)\n",
    "\n",
    "model = model.to(device)\n",
    "\n",
    "\n",
    "\n",
    "criterion = nn.CrossEntropyLoss()"
   ]
  },
  {
   "cell_type": "code",
   "execution_count": 74,
   "metadata": {
    "editable": false,
    "execution": {
     "iopub.execute_input": "2024-11-22T12:28:31.633179Z",
     "iopub.status.busy": "2024-11-22T12:28:31.632583Z",
     "iopub.status.idle": "2024-11-22T13:48:35.103734Z",
     "shell.execute_reply": "2024-11-22T13:48:35.102570Z",
     "shell.execute_reply.started": "2024-11-22T12:28:31.633147Z"
    },
    "trusted": true
   },
   "outputs": [
    {
     "name": "stderr",
     "output_type": "stream",
     "text": [
      "Epoch 2/50: 100%|██████████| 639/639 [04:00<00:00,  2.66batch/s]\n"
     ]
    },
    {
     "name": "stdout",
     "output_type": "stream",
     "text": [
      "train accuracy: 77.22423553466797%\n",
      "Specificity: 1.0000, Sensitivity: 0.0005, AUC: 0.9151\n",
      "\n",
      "Test set: Average loss: 0.3936, Accuracy: 81.80%\n",
      "\n",
      "Validation loss decreased (inf --> 0.393575). Saving model...\n",
      "Model saved at: /kaggle/working/model/tumor_classification/vgg16/vgg16_epoch_1.pth\n",
      "Generating download link for the saved model...\n"
     ]
    },
    {
     "data": {
      "text/html": [
       "<a href='model/tumor_classification/vgg16/vgg16_epoch_1.pth' target='_blank'>model/tumor_classification/vgg16/vgg16_epoch_1.pth</a><br>"
      ],
      "text/plain": [
       "/kaggle/working/model/tumor_classification/vgg16/vgg16_epoch_1.pth"
      ]
     },
     "metadata": {},
     "output_type": "display_data"
    },
    {
     "name": "stderr",
     "output_type": "stream",
     "text": [
      "Epoch 3/50: 100%|██████████| 639/639 [03:38<00:00,  2.92batch/s]\n"
     ]
    },
    {
     "name": "stdout",
     "output_type": "stream",
     "text": [
      "train accuracy: 79.17196655273438%\n",
      "Specificity: 1.0000, Sensitivity: 0.0005, AUC: 0.8833\n",
      "\n",
      "Test set: Average loss: 0.4406, Accuracy: 78.93%\n",
      "\n",
      "EarlyStopping counter: 1 out of 20\n"
     ]
    },
    {
     "name": "stderr",
     "output_type": "stream",
     "text": [
      "Epoch 4/50: 100%|██████████| 639/639 [03:37<00:00,  2.94batch/s]\n"
     ]
    },
    {
     "name": "stdout",
     "output_type": "stream",
     "text": [
      "train accuracy: 78.99578857421875%\n",
      "Specificity: 1.0000, Sensitivity: 0.0005, AUC: 0.8945\n",
      "\n",
      "Test set: Average loss: 0.4294, Accuracy: 78.78%\n",
      "\n",
      "EarlyStopping counter: 2 out of 20\n"
     ]
    },
    {
     "name": "stderr",
     "output_type": "stream",
     "text": [
      "Epoch 5/50: 100%|██████████| 639/639 [03:39<00:00,  2.91batch/s]\n"
     ]
    },
    {
     "name": "stdout",
     "output_type": "stream",
     "text": [
      "train accuracy: 79.07898712158203%\n",
      "Specificity: 1.0000, Sensitivity: 0.0005, AUC: 0.8783\n",
      "\n",
      "Test set: Average loss: 0.4792, Accuracy: 76.02%\n",
      "\n",
      "EarlyStopping counter: 3 out of 20\n"
     ]
    },
    {
     "name": "stderr",
     "output_type": "stream",
     "text": [
      "Epoch 6/50: 100%|██████████| 639/639 [03:38<00:00,  2.92batch/s]\n"
     ]
    },
    {
     "name": "stdout",
     "output_type": "stream",
     "text": [
      "train accuracy: 78.61407470703125%\n",
      "Specificity: 1.0000, Sensitivity: 0.0005, AUC: 0.8573\n",
      "\n",
      "Test set: Average loss: 0.4630, Accuracy: 76.42%\n",
      "\n",
      "EarlyStopping counter: 4 out of 20\n"
     ]
    },
    {
     "name": "stderr",
     "output_type": "stream",
     "text": [
      "Epoch 7/50: 100%|██████████| 639/639 [03:38<00:00,  2.93batch/s]\n"
     ]
    },
    {
     "name": "stdout",
     "output_type": "stream",
     "text": [
      "train accuracy: 77.62063598632812%\n",
      "Specificity: 1.0000, Sensitivity: 0.0005, AUC: 0.8685\n",
      "\n",
      "Test set: Average loss: 0.4560, Accuracy: 78.83%\n",
      "\n",
      "EarlyStopping counter: 5 out of 20\n"
     ]
    },
    {
     "name": "stderr",
     "output_type": "stream",
     "text": [
      "Epoch 8/50:  59%|█████▉    | 379/639 [02:09<01:29,  2.92batch/s]"
     ]
    },
    {
     "name": "stdout",
     "output_type": "stream",
     "text": [
      "Specificity: 1.0000, Sensitivity: 0.0005, AUC: 0.8931\n",
      "\n",
      "Test set: Average loss: 0.4365, Accuracy: 79.39%\n",
      "\n",
      "EarlyStopping counter: 6 out of 20\n"
     ]
    },
    {
     "name": "stderr",
     "output_type": "stream",
     "text": [
      "Epoch 9/50: 100%|██████████| 639/639 [03:37<00:00,  2.94batch/s]\n"
     ]
    },
    {
     "name": "stdout",
     "output_type": "stream",
     "text": [
      "train accuracy: 77.71361541748047%\n",
      "Specificity: 1.0000, Sensitivity: 0.0005, AUC: 0.8906\n",
      "\n",
      "Test set: Average loss: 0.4625, Accuracy: 78.18%\n",
      "\n",
      "EarlyStopping counter: 7 out of 20\n"
     ]
    },
    {
     "name": "stderr",
     "output_type": "stream",
     "text": [
      "Epoch 10/50: 100%|██████████| 639/639 [03:36<00:00,  2.95batch/s]\n"
     ]
    },
    {
     "name": "stdout",
     "output_type": "stream",
     "text": [
      "train accuracy: 76.79846954345703%\n",
      "Specificity: 1.0000, Sensitivity: 0.0005, AUC: 0.7060\n",
      "\n",
      "Test set: Average loss: 0.6269, Accuracy: 61.14%\n",
      "\n",
      "EarlyStopping counter: 8 out of 20\n"
     ]
    },
    {
     "name": "stderr",
     "output_type": "stream",
     "text": [
      "Epoch 11/50: 100%|██████████| 639/639 [03:35<00:00,  2.96batch/s]\n"
     ]
    },
    {
     "name": "stdout",
     "output_type": "stream",
     "text": [
      "train accuracy: 80.08711242675781%\n",
      "Specificity: 1.0000, Sensitivity: 0.0005, AUC: 0.8699\n",
      "\n",
      "Test set: Average loss: 0.4456, Accuracy: 76.17%\n",
      "\n",
      "EarlyStopping counter: 9 out of 20\n"
     ]
    },
    {
     "name": "stderr",
     "output_type": "stream",
     "text": [
      "Epoch 12/50: 100%|██████████| 639/639 [03:36<00:00,  2.95batch/s]\n"
     ]
    },
    {
     "name": "stdout",
     "output_type": "stream",
     "text": [
      "train accuracy: 80.30243682861328%\n",
      "Specificity: 1.0000, Sensitivity: 0.0005, AUC: 0.8408\n",
      "\n",
      "Test set: Average loss: 0.4892, Accuracy: 74.16%\n",
      "\n",
      "EarlyStopping counter: 10 out of 20\n"
     ]
    },
    {
     "name": "stderr",
     "output_type": "stream",
     "text": [
      "Epoch 13/50: 100%|██████████| 639/639 [03:37<00:00,  2.94batch/s]\n"
     ]
    },
    {
     "name": "stdout",
     "output_type": "stream",
     "text": [
      "train accuracy: 80.78202819824219%\n",
      "Specificity: 1.0000, Sensitivity: 0.0005, AUC: 0.8190\n",
      "\n",
      "Test set: Average loss: 0.5137, Accuracy: 72.10%\n",
      "\n",
      "EarlyStopping counter: 11 out of 20\n"
     ]
    },
    {
     "name": "stderr",
     "output_type": "stream",
     "text": [
      "Epoch 14/50: 100%|██████████| 639/639 [03:37<00:00,  2.94batch/s]\n"
     ]
    },
    {
     "name": "stdout",
     "output_type": "stream",
     "text": [
      "train accuracy: 81.13438415527344%\n",
      "Specificity: 1.0000, Sensitivity: 0.0005, AUC: 0.8230\n",
      "\n",
      "Test set: Average loss: 0.5095, Accuracy: 73.25%\n",
      "\n",
      "EarlyStopping counter: 12 out of 20\n"
     ]
    },
    {
     "name": "stderr",
     "output_type": "stream",
     "text": [
      "Epoch 15/50: 100%|██████████| 639/639 [03:37<00:00,  2.94batch/s]\n"
     ]
    },
    {
     "name": "stdout",
     "output_type": "stream",
     "text": [
      "train accuracy: 81.41822814941406%\n",
      "Specificity: 1.0000, Sensitivity: 0.0005, AUC: 0.8821\n",
      "\n",
      "Test set: Average loss: 0.4225, Accuracy: 78.28%\n",
      "\n",
      "EarlyStopping counter: 13 out of 20\n"
     ]
    },
    {
     "name": "stderr",
     "output_type": "stream",
     "text": [
      "Epoch 16/50: 100%|██████████| 639/639 [03:38<00:00,  2.93batch/s]\n"
     ]
    },
    {
     "name": "stdout",
     "output_type": "stream",
     "text": [
      "train accuracy: 81.5650405883789%\n",
      "Specificity: 1.0000, Sensitivity: 0.0005, AUC: 0.8403\n",
      "\n",
      "Test set: Average loss: 0.4923, Accuracy: 76.32%\n",
      "\n",
      "EarlyStopping counter: 14 out of 20\n"
     ]
    },
    {
     "name": "stderr",
     "output_type": "stream",
     "text": [
      "Epoch 17/50: 100%|██████████| 639/639 [03:33<00:00,  2.99batch/s]\n"
     ]
    },
    {
     "name": "stdout",
     "output_type": "stream",
     "text": [
      "train accuracy: 81.59439849853516%\n",
      "Specificity: 1.0000, Sensitivity: 0.0005, AUC: 0.8901\n",
      "\n",
      "Test set: Average loss: 0.4176, Accuracy: 78.93%\n",
      "\n",
      "EarlyStopping counter: 15 out of 20\n"
     ]
    },
    {
     "name": "stderr",
     "output_type": "stream",
     "text": [
      "Epoch 18/50: 100%|██████████| 639/639 [03:34<00:00,  2.98batch/s]\n"
     ]
    },
    {
     "name": "stdout",
     "output_type": "stream",
     "text": [
      "train accuracy: 81.73632049560547%\n",
      "Specificity: 1.0000, Sensitivity: 0.0005, AUC: 0.8415\n",
      "\n",
      "Test set: Average loss: 0.4893, Accuracy: 73.86%\n",
      "\n",
      "EarlyStopping counter: 16 out of 20\n"
     ]
    },
    {
     "name": "stderr",
     "output_type": "stream",
     "text": [
      "Epoch 19/50: 100%|██████████| 639/639 [03:39<00:00,  2.91batch/s]\n"
     ]
    },
    {
     "name": "stdout",
     "output_type": "stream",
     "text": [
      "train accuracy: 81.86356353759766%\n",
      "Specificity: 1.0000, Sensitivity: 0.0005, AUC: 0.8442\n",
      "\n",
      "Test set: Average loss: 0.4845, Accuracy: 75.62%\n",
      "\n",
      "EarlyStopping counter: 17 out of 20\n"
     ]
    },
    {
     "name": "stderr",
     "output_type": "stream",
     "text": [
      "Epoch 20/50: 100%|██████████| 639/639 [03:37<00:00,  2.93batch/s]\n"
     ]
    },
    {
     "name": "stdout",
     "output_type": "stream",
     "text": [
      "train accuracy: 81.92228698730469%\n",
      "Specificity: 1.0000, Sensitivity: 0.0005, AUC: 0.8863\n",
      "\n",
      "Test set: Average loss: 0.4232, Accuracy: 78.43%\n",
      "\n",
      "EarlyStopping counter: 18 out of 20\n"
     ]
    },
    {
     "name": "stderr",
     "output_type": "stream",
     "text": [
      "Epoch 21/50: 100%|██████████| 639/639 [03:37<00:00,  2.94batch/s]\n"
     ]
    },
    {
     "name": "stdout",
     "output_type": "stream",
     "text": [
      "train accuracy: 83.05764770507812%\n",
      "Specificity: 1.0000, Sensitivity: 0.0005, AUC: 0.8656\n",
      "\n",
      "Test set: Average loss: 0.4510, Accuracy: 76.77%\n",
      "\n",
      "EarlyStopping counter: 19 out of 20\n"
     ]
    },
    {
     "name": "stderr",
     "output_type": "stream",
     "text": [
      "Epoch 22/50: 100%|██████████| 639/639 [03:36<00:00,  2.95batch/s]\n"
     ]
    },
    {
     "name": "stdout",
     "output_type": "stream",
     "text": [
      "train accuracy: 82.94020080566406%\n",
      "Specificity: 1.0000, Sensitivity: 0.0005, AUC: 0.8669\n",
      "\n",
      "Test set: Average loss: 0.4494, Accuracy: 77.58%\n",
      "\n",
      "EarlyStopping counter: 20 out of 20\n",
      "Early stopping\n",
      "Final model saved at: /kaggle/working/model/tumor_classification/vgg16/vgg16_final_epoch.pth\n",
      "Generating download link for the final model...\n"
     ]
    },
    {
     "data": {
      "text/html": [
       "<a href='model/tumor_classification/vgg16/vgg16_final_epoch.pth' target='_blank'>model/tumor_classification/vgg16/vgg16_final_epoch.pth</a><br>"
      ],
      "text/plain": [
       "/kaggle/working/model/tumor_classification/vgg16/vgg16_final_epoch.pth"
      ]
     },
     "metadata": {},
     "output_type": "display_data"
    }
   ],
   "source": [
    "import os\n",
    "from IPython.display import FileLink\n",
    "\n",
    "# Model training\n",
    "model.to(device)  \n",
    "\n",
    "best_accuracy = 0\n",
    "early_stop = EarlyStopping(patience=20, verbose=True)\n",
    "\n",
    "project_name = 'tumor_classification'\n",
    "model_name = 'vgg16'\n",
    "\n",
    "# Set Kaggle working directory\n",
    "os.chdir(r'/kaggle/working')\n",
    "\n",
    "for epoch in range(1, total_epochs + 1):\n",
    "    # Training step\n",
    "    train(epoch, model, total_epochs, train_loader, criterion, l2_decay)\n",
    "\n",
    "    # Validation step\n",
    "    with torch.no_grad():\n",
    "        test_loss, accuracy, cm, auc = validation(model, val_loader)\n",
    "\n",
    "    # Handle model state for single/multiple GPUs\n",
    "    model_state_dict = model.module.state_dict() if isinstance(model, nn.parallel.DistributedDataParallel) else model.state_dict()\n",
    "\n",
    "    # Save directory for models\n",
    "    model_save_dir = os.path.join('model', project_name, model_name)\n",
    "    if not os.path.exists(model_save_dir):\n",
    "        os.makedirs(model_save_dir)\n",
    "\n",
    "    # Early stopping check\n",
    "    early_stop(test_loss, model)\n",
    "\n",
    "    # Save the best model based on AUC\n",
    "    if auc > best_accuracy:\n",
    "        best_accuracy = auc\n",
    "        model_save_path = os.path.join(model_save_dir, f'{model_name}_epoch_{epoch}.pth')\n",
    "        torch.save(model_state_dict, model_save_path, _use_new_zipfile_serialization=False)\n",
    "        print(f\"Model saved at: {os.path.abspath(model_save_path)}\")\n",
    "\n",
    "        # Generate download link for Kaggle\n",
    "        print(\"Generating download link for the saved model...\")\n",
    "        display(FileLink(model_save_path))\n",
    "\n",
    "    # Stop training if early stopping is triggered\n",
    "    if early_stop.early_stop:\n",
    "        print(\"Early stopping\")\n",
    "        break\n",
    "\n",
    "# Save the model at the final epoch if early stopping is triggered\n",
    "final_model_save_path = os.path.join(model_save_dir, f'{model_name}_final_epoch.pth')\n",
    "torch.save(model_state_dict, final_model_save_path, _use_new_zipfile_serialization=False)\n",
    "print(f\"Final model saved at: {os.path.abspath(final_model_save_path)}\")\n",
    "\n",
    "# Generate download link for the final model\n",
    "print(\"Generating download link for the final model...\")\n",
    "display(FileLink(final_model_save_path))\n"
   ]
  },
  {
   "cell_type": "code",
   "execution_count": 75,
   "metadata": {
    "editable": false,
    "execution": {
     "iopub.execute_input": "2024-11-22T13:59:10.974622Z",
     "iopub.status.busy": "2024-11-22T13:59:10.973999Z",
     "iopub.status.idle": "2024-11-22T13:59:10.985503Z",
     "shell.execute_reply": "2024-11-22T13:59:10.984503Z",
     "shell.execute_reply.started": "2024-11-22T13:59:10.974588Z"
    },
    "id": "8-7MT-numHzb",
    "trusted": true
   },
   "outputs": [],
   "source": [
    "from sklearn import metrics\n",
    "\n",
    "from sklearn.metrics import roc_auc_score, roc_curve\n",
    "\n",
    "import torch\n",
    "\n",
    "import numpy as np\n",
    "\n",
    "import torch.nn.functional as F\n",
    "\n",
    "\n",
    "\n",
    "def test(model, test_loader):\n",
    "    name = 'test'\n",
    "    len_test_loader = len(test_loader.dataset)\n",
    "    model.eval()\n",
    "\n",
    "    test_loss = 0\n",
    "    correct = 0\n",
    "    possibilities = None\n",
    "    all_predictions = []\n",
    "    true_labels = []  # Collect true labels here\n",
    "    class_names = ['benign', 'malignant']\n",
    "\n",
    "    for data, target in test_loader:\n",
    "        if torch.cuda.is_available():\n",
    "            data, target = data.cuda(), target.cuda()\n",
    "\n",
    "        test_output = model(data)\n",
    "        test_loss += F.nll_loss(F.log_softmax(test_output, dim=1), target, reduction='sum').item()\n",
    "\n",
    "        pred = test_output.data.max(1)[1]\n",
    "        all_predictions.extend(pred.cpu().numpy())  # Collect predictions\n",
    "        true_labels.extend(target.cpu().numpy())  # Collect true labels\n",
    "\n",
    "        possibility = F.softmax(test_output, dim=1).cpu().data.numpy()\n",
    "        if possibilities is None:\n",
    "            possibilities = possibility\n",
    "        else:\n",
    "            possibilities = np.concatenate((possibilities, possibility), axis=0)\n",
    "\n",
    "        correct += pred.eq(target.data.view_as(pred)).cpu().sum()\n",
    "\n",
    "    # Ensure all_predictions and true_labels are flattened\n",
    "    all_predictions = np.array(all_predictions)\n",
    "    true_labels = np.array(true_labels)\n",
    "\n",
    "    # Classification metrics -> accuracy, F1 score\n",
    "    print(metrics.classification_report(true_labels, all_predictions, target_names=class_names, digits=4))\n",
    "\n",
    "    # Confusion matrix\n",
    "    cm = metrics.confusion_matrix(true_labels, all_predictions)\n",
    "    print(\"\\nConfusion Matrix:\\n\", cm)\n",
    "\n",
    "    # ROC Curve and AUC\n",
    "    num_classes = len(class_names)\n",
    "    label_onehot = np.eye(num_classes)[true_labels.astype(int)]\n",
    "    fpr, tpr, thresholds = roc_curve(label_onehot.ravel(), possibilities.ravel())\n",
    "    auc_value = roc_auc_score(label_onehot, possibilities, average=\"macro\")\n",
    "\n",
    "    # Specificity, Sensitivity, AUC\n",
    "    test_loss /= len_test_loader\n",
    "    print('Specificity: {:.4f}, Sensitivity: {:.4f}, AUC: {:.4f}'.format(1 - fpr[0], tpr[0], auc_value))\n",
    "    print('\\n{} set: Average loss: {:.4f}, Accuracy: {}/{} ({:.2f}%)\\n'.format(\n",
    "        name, test_loss, correct, len_test_loader, 100. * correct / len_test_loader))\n",
    "\n",
    "    #return 100. * correct / len_test_loader, test_loss, auc_value\n",
    "    return 100. * correct / len_test_loader, test_loss, auc_value, fpr, tpr\n",
    "\n"
   ]
  },
  {
   "cell_type": "code",
   "execution_count": 76,
   "metadata": {
    "editable": false,
    "execution": {
     "iopub.execute_input": "2024-11-22T13:59:18.065970Z",
     "iopub.status.busy": "2024-11-22T13:59:18.065156Z",
     "iopub.status.idle": "2024-11-22T13:59:59.902415Z",
     "shell.execute_reply": "2024-11-22T13:59:59.901340Z",
     "shell.execute_reply.started": "2024-11-22T13:59:18.065938Z"
    },
    "trusted": true
   },
   "outputs": [
    {
     "name": "stdout",
     "output_type": "stream",
     "text": [
      "              precision    recall  f1-score   support\n",
      "\n",
      "      benign     0.5640    0.5186    0.5403      1938\n",
      "   malignant     0.8159    0.8418    0.8287      4913\n",
      "\n",
      "    accuracy                         0.7504      6851\n",
      "   macro avg     0.6900    0.6802    0.6845      6851\n",
      "weighted avg     0.7447    0.7504    0.7471      6851\n",
      "\n",
      "\n",
      "Confusion Matrix:\n",
      " [[1005  933]\n",
      " [ 777 4136]]\n",
      "Specificity: 1.0000, Sensitivity: 0.0000, AUC: 0.7824\n",
      "\n",
      "test set: Average loss: 0.5217, Accuracy: 5141/6851 (75.04%)\n",
      "\n"
     ]
    },
    {
     "data": {
      "text/plain": [
       "(tensor(75.0401),\n",
       " 0.5216683387765048,\n",
       " 0.7824413105896049,\n",
       " array([0.        , 0.        , 0.        , ..., 0.98773902, 0.98773902,\n",
       "        1.        ]),\n",
       " array([0.00000000e+00, 1.45964093e-04, 1.22609838e-02, ...,\n",
       "        9.99708072e-01, 1.00000000e+00, 1.00000000e+00]))"
      ]
     },
     "execution_count": 76,
     "metadata": {},
     "output_type": "execute_result"
    }
   ],
   "source": [
    "test(model, test_loader)"
   ]
  },
  {
   "cell_type": "code",
   "execution_count": 77,
   "metadata": {
    "editable": false,
    "execution": {
     "iopub.execute_input": "2024-11-22T14:00:08.970420Z",
     "iopub.status.busy": "2024-11-22T14:00:08.970067Z",
     "iopub.status.idle": "2024-11-22T14:00:42.978535Z",
     "shell.execute_reply": "2024-11-22T14:00:42.977500Z",
     "shell.execute_reply.started": "2024-11-22T14:00:08.970388Z"
    },
    "trusted": true
   },
   "outputs": [
    {
     "name": "stdout",
     "output_type": "stream",
     "text": [
      "              precision    recall  f1-score   support\n",
      "\n",
      "      benign     0.5640    0.5186    0.5403      1938\n",
      "   malignant     0.8159    0.8418    0.8287      4913\n",
      "\n",
      "    accuracy                         0.7504      6851\n",
      "   macro avg     0.6900    0.6802    0.6845      6851\n",
      "weighted avg     0.7447    0.7504    0.7471      6851\n",
      "\n",
      "\n",
      "Confusion Matrix:\n",
      " [[1005  933]\n",
      " [ 777 4136]]\n",
      "Specificity: 1.0000, Sensitivity: 0.0000, AUC: 0.7824\n",
      "\n",
      "test set: Average loss: 0.5217, Accuracy: 5141/6851 (75.04%)\n",
      "\n"
     ]
    }
   ],
   "source": [
    "test_accuracy, test_loss, test_auc, fpr, tpr = test(model, test_loader)\n",
    "\n"
   ]
  },
  {
   "cell_type": "code",
   "execution_count": 78,
   "metadata": {
    "editable": false,
    "execution": {
     "iopub.execute_input": "2024-11-22T14:02:41.473974Z",
     "iopub.status.busy": "2024-11-22T14:02:41.473598Z",
     "iopub.status.idle": "2024-11-22T14:02:41.479580Z",
     "shell.execute_reply": "2024-11-22T14:02:41.478737Z",
     "shell.execute_reply.started": "2024-11-22T14:02:41.473944Z"
    },
    "trusted": true
   },
   "outputs": [],
   "source": [
    "import matplotlib.pyplot as plt\n",
    "\n",
    "def plot_auc(fpr, tpr, auc_value):\n",
    "    plt.figure(figsize=(5, 4))\n",
    "    plt.plot(fpr, tpr, color='blue', lw=2, label=f'AUC = {auc_value:.4f}')\n",
    "    plt.plot([0, 1], [0, 1], color='gray', linestyle='--', lw=1)  # Diagonal line\n",
    "    plt.xlabel('False Positive Rate')\n",
    "    plt.ylabel('True Positive Rate')\n",
    "    plt.title('Receiver Operating Characteristic (ROC) Curve')\n",
    "    plt.legend(loc='lower right')\n",
    "    plt.grid(alpha=0.3)\n",
    "    plt.show()   "
   ]
  },
  {
   "cell_type": "code",
   "execution_count": 79,
   "metadata": {
    "editable": false,
    "execution": {
     "iopub.execute_input": "2024-11-22T14:02:45.203726Z",
     "iopub.status.busy": "2024-11-22T14:02:45.202878Z",
     "iopub.status.idle": "2024-11-22T14:02:45.443133Z",
     "shell.execute_reply": "2024-11-22T14:02:45.442260Z",
     "shell.execute_reply.started": "2024-11-22T14:02:45.203657Z"
    },
    "trusted": true
   },
   "outputs": [
    {
     "data": {
      "image/png": "[encoded data removed]",
      "text/plain": [
       "<Figure size 500x400 with 1 Axes>"
      ]
     },
     "metadata": {},
     "output_type": "display_data"
    }
   ],
   "source": [
    "plot_auc(fpr, tpr, test_auc)"
   ]
  },
  {
   "cell_type": "code",
   "execution_count": 80,
   "metadata": {
    "editable": false,
    "execution": {
     "iopub.execute_input": "2024-11-22T14:02:49.797961Z",
     "iopub.status.busy": "2024-11-22T14:02:49.797056Z",
     "iopub.status.idle": "2024-11-22T14:02:49.802770Z",
     "shell.execute_reply": "2024-11-22T14:02:49.801884Z",
     "shell.execute_reply.started": "2024-11-22T14:02:49.797929Z"
    },
    "trusted": true
   },
   "outputs": [],
   "source": [
    "import seaborn as sns\n",
    "\n",
    "def plot_confusion_matrix(cm, class_names):\n",
    "    plt.figure(figsize=(5, 4))\n",
    "    sns.heatmap(cm, annot=True, fmt='d', cmap='Blues', xticklabels=class_names, yticklabels=class_names)\n",
    "    plt.xlabel('Predicted Labels')\n",
    "    plt.ylabel('True Labels')\n",
    "    plt.title('Confusion Matrix')\n",
    "    plt.show()\n"
   ]
  },
  {
   "cell_type": "code",
   "execution_count": 81,
   "metadata": {
    "editable": false,
    "execution": {
     "iopub.execute_input": "2024-11-22T14:02:53.812236Z",
     "iopub.status.busy": "2024-11-22T14:02:53.811887Z",
     "iopub.status.idle": "2024-11-22T14:02:54.047333Z",
     "shell.execute_reply": "2024-11-22T14:02:54.046453Z",
     "shell.execute_reply.started": "2024-11-22T14:02:53.812198Z"
    },
    "trusted": true
   },
   "outputs": [
    {
     "data": {
      "image/png": "[encoded data removed]",
      "text/plain": [
       "<Figure size 500x400 with 2 Axes>"
      ]
     },
     "metadata": {},
     "output_type": "display_data"
    }
   ],
   "source": [
    "plot_confusion_matrix(cm, class_names=['benign', 'malignant'])"
   ]
  },
  {
   "cell_type": "markdown",
   "metadata": {
    "editable": false
   },
   "source": [
    "resnet18"
   ]
  },
  {
   "cell_type": "code",
   "execution_count": null,
   "metadata": {
    "editable": false,
    "trusted": true
   },
   "outputs": [],
   "source": []
  },
  {
   "cell_type": "code",
   "execution_count": 26,
   "metadata": {
    "editable": false,
    "execution": {
     "iopub.execute_input": "2024-11-22T08:12:13.579910Z",
     "iopub.status.busy": "2024-11-22T08:12:13.579288Z",
     "iopub.status.idle": "2024-11-22T08:12:13.835246Z",
     "shell.execute_reply": "2024-11-22T08:12:13.834307Z",
     "shell.execute_reply.started": "2024-11-22T08:12:13.579876Z"
    },
    "trusted": true
   },
   "outputs": [
    {
     "name": "stderr",
     "output_type": "stream",
     "text": [
      "/opt/conda/lib/python3.10/site-packages/torchvision/models/_utils.py:208: UserWarning: The parameter 'pretrained' is deprecated since 0.13 and may be removed in the future, please use 'weights' instead.\n",
      "  warnings.warn(\n",
      "/opt/conda/lib/python3.10/site-packages/torchvision/models/_utils.py:223: UserWarning: Arguments other than a weight enum or `None` for 'weights' are deprecated since 0.13 and may be removed in the future. The current behavior is equivalent to passing `weights=ResNet18_Weights.IMAGENET1K_V1`. You can also use `weights=ResNet18_Weights.DEFAULT` to get the most up-to-date weights.\n",
      "  warnings.warn(msg)\n"
     ]
    }
   ],
   "source": [
    "import torch.nn as nn\n",
    "total_epochs = 50\n",
    "lr = 0.01\n",
    "momentum = 0.9\n",
    "no_cuda = False\n",
    "num_classes=2\n",
    "log_interval = 10\n",
    "l2_decay = 0.01\n",
    "model = Resnet18(num_classes=num_classes)\n",
    "model = model.to(device)\n",
    "criterion = nn.CrossEntropyLoss()"
   ]
  },
  {
   "cell_type": "code",
   "execution_count": 27,
   "metadata": {
    "editable": false,
    "execution": {
     "iopub.execute_input": "2024-11-22T08:12:20.775122Z",
     "iopub.status.busy": "2024-11-22T08:12:20.774367Z",
     "iopub.status.idle": "2024-11-22T09:02:56.820333Z",
     "shell.execute_reply": "2024-11-22T09:02:56.819324Z",
     "shell.execute_reply.started": "2024-11-22T08:12:20.775089Z"
    },
    "trusted": true
   },
   "outputs": [
    {
     "name": "stderr",
     "output_type": "stream",
     "text": [
      "Epoch 2/50: 100%|██████████| 639/639 [02:10<00:00,  4.89batch/s]\n"
     ]
    },
    {
     "name": "stdout",
     "output_type": "stream",
     "text": [
      "train accuracy: 80.0430679321289%\n",
      "Specificity: 1.0000, Sensitivity: 0.0005, AUC: 0.8532\n",
      "\n",
      "Test set: Average loss: 0.4656, Accuracy: 76.12%\n",
      "\n",
      "Validation loss decreased (inf --> 0.465628). Saving model...\n",
      "Model saved at: /kaggle/working/model/tumor_classification/resnet18/resnet18_epoch_1.pth\n",
      "Generating download link for the saved model...\n"
     ]
    },
    {
     "data": {
      "text/html": [
       "<a href='model/tumor_classification/resnet18/resnet18_epoch_1.pth' target='_blank'>model/tumor_classification/resnet18/resnet18_epoch_1.pth</a><br>"
      ],
      "text/plain": [
       "/kaggle/working/model/tumor_classification/resnet18/resnet18_epoch_1.pth"
      ]
     },
     "metadata": {},
     "output_type": "display_data"
    },
    {
     "name": "stderr",
     "output_type": "stream",
     "text": [
      "Epoch 3/50: 100%|██████████| 639/639 [01:35<00:00,  6.69batch/s]\n"
     ]
    },
    {
     "name": "stdout",
     "output_type": "stream",
     "text": [
      "train accuracy: 84.36429595947266%\n",
      "Specificity: 1.0000, Sensitivity: 0.0005, AUC: 0.8933\n",
      "\n",
      "Test set: Average loss: 0.3947, Accuracy: 77.63%\n",
      "\n",
      "Validation loss decreased (0.465628 --> 0.394697). Saving model...\n",
      "Model saved at: /kaggle/working/model/tumor_classification/resnet18/resnet18_epoch_2.pth\n",
      "Generating download link for the saved model...\n"
     ]
    },
    {
     "data": {
      "text/html": [
       "<a href='model/tumor_classification/resnet18/resnet18_epoch_2.pth' target='_blank'>model/tumor_classification/resnet18/resnet18_epoch_2.pth</a><br>"
      ],
      "text/plain": [
       "/kaggle/working/model/tumor_classification/resnet18/resnet18_epoch_2.pth"
      ]
     },
     "metadata": {},
     "output_type": "display_data"
    },
    {
     "name": "stderr",
     "output_type": "stream",
     "text": [
      "Epoch 4/50: 100%|██████████| 639/639 [01:35<00:00,  6.68batch/s]\n"
     ]
    },
    {
     "name": "stdout",
     "output_type": "stream",
     "text": [
      "train accuracy: 84.00704956054688%\n",
      "Specificity: 1.0000, Sensitivity: 0.0005, AUC: 0.8723\n",
      "\n",
      "Test set: Average loss: 0.4406, Accuracy: 78.13%\n",
      "\n",
      "EarlyStopping counter: 1 out of 20\n"
     ]
    },
    {
     "name": "stderr",
     "output_type": "stream",
     "text": [
      "Epoch 5/50: 100%|██████████| 639/639 [01:37<00:00,  6.53batch/s]\n"
     ]
    },
    {
     "name": "stdout",
     "output_type": "stream",
     "text": [
      "train accuracy: 84.18811798095703%\n",
      "Specificity: 1.0000, Sensitivity: 0.0005, AUC: 0.4876\n",
      "\n",
      "Test set: Average loss: 1.2073, Accuracy: 48.67%\n",
      "\n",
      "EarlyStopping counter: 2 out of 20\n"
     ]
    },
    {
     "name": "stderr",
     "output_type": "stream",
     "text": [
      "Epoch 6/50: 100%|██████████| 639/639 [01:32<00:00,  6.91batch/s]\n"
     ]
    },
    {
     "name": "stdout",
     "output_type": "stream",
     "text": [
      "train accuracy: 84.03640747070312%\n",
      "Specificity: 1.0000, Sensitivity: 0.0005, AUC: 0.9189\n",
      "\n",
      "Test set: Average loss: 0.3413, Accuracy: 81.30%\n",
      "\n",
      "Validation loss decreased (0.394697 --> 0.341299). Saving model...\n",
      "Model saved at: /kaggle/working/model/tumor_classification/resnet18/resnet18_epoch_5.pth\n",
      "Generating download link for the saved model...\n"
     ]
    },
    {
     "data": {
      "text/html": [
       "<a href='model/tumor_classification/resnet18/resnet18_epoch_5.pth' target='_blank'>model/tumor_classification/resnet18/resnet18_epoch_5.pth</a><br>"
      ],
      "text/plain": [
       "/kaggle/working/model/tumor_classification/resnet18/resnet18_epoch_5.pth"
      ]
     },
     "metadata": {},
     "output_type": "display_data"
    },
    {
     "name": "stderr",
     "output_type": "stream",
     "text": [
      "Epoch 7/50: 100%|██████████| 639/639 [01:32<00:00,  6.92batch/s]\n"
     ]
    },
    {
     "name": "stdout",
     "output_type": "stream",
     "text": [
      "train accuracy: 84.25173950195312%\n",
      "Specificity: 1.0000, Sensitivity: 0.0005, AUC: 0.9379\n",
      "\n",
      "Test set: Average loss: 0.3330, Accuracy: 84.77%\n",
      "\n",
      "Validation loss decreased (0.341299 --> 0.332961). Saving model...\n",
      "Model saved at: /kaggle/working/model/tumor_classification/resnet18/resnet18_epoch_6.pth\n",
      "Generating download link for the saved model...\n"
     ]
    },
    {
     "data": {
      "text/html": [
       "<a href='model/tumor_classification/resnet18/resnet18_epoch_6.pth' target='_blank'>model/tumor_classification/resnet18/resnet18_epoch_6.pth</a><br>"
      ],
      "text/plain": [
       "/kaggle/working/model/tumor_classification/resnet18/resnet18_epoch_6.pth"
      ]
     },
     "metadata": {},
     "output_type": "display_data"
    },
    {
     "name": "stderr",
     "output_type": "stream",
     "text": [
      "Epoch 8/50: 100%|██████████| 639/639 [01:31<00:00,  6.98batch/s]\n"
     ]
    },
    {
     "name": "stdout",
     "output_type": "stream",
     "text": [
      "train accuracy: 84.27620697021484%\n",
      "Specificity: 1.0000, Sensitivity: 0.0005, AUC: 0.9481\n",
      "\n",
      "Test set: Average loss: 0.2917, Accuracy: 86.98%\n",
      "\n",
      "Validation loss decreased (0.332961 --> 0.291685). Saving model...\n",
      "Model saved at: /kaggle/working/model/tumor_classification/resnet18/resnet18_epoch_7.pth\n",
      "Generating download link for the saved model...\n"
     ]
    },
    {
     "data": {
      "text/html": [
       "<a href='model/tumor_classification/resnet18/resnet18_epoch_7.pth' target='_blank'>model/tumor_classification/resnet18/resnet18_epoch_7.pth</a><br>"
      ],
      "text/plain": [
       "/kaggle/working/model/tumor_classification/resnet18/resnet18_epoch_7.pth"
      ]
     },
     "metadata": {},
     "output_type": "display_data"
    },
    {
     "name": "stderr",
     "output_type": "stream",
     "text": [
      "Epoch 9/50: 100%|██████████| 639/639 [01:31<00:00,  6.96batch/s]\n"
     ]
    },
    {
     "name": "stdout",
     "output_type": "stream",
     "text": [
      "train accuracy: 84.12449645996094%\n",
      "Specificity: 1.0000, Sensitivity: 0.0005, AUC: 0.9423\n",
      "\n",
      "Test set: Average loss: 0.3016, Accuracy: 84.21%\n",
      "\n",
      "EarlyStopping counter: 1 out of 20\n"
     ]
    },
    {
     "name": "stderr",
     "output_type": "stream",
     "text": [
      "Epoch 10/50: 100%|██████████| 639/639 [01:37<00:00,  6.55batch/s]\n"
     ]
    },
    {
     "name": "stdout",
     "output_type": "stream",
     "text": [
      "train accuracy: 84.30557250976562%\n",
      "Specificity: 1.0000, Sensitivity: 0.0005, AUC: 0.9013\n",
      "\n",
      "Test set: Average loss: 0.4052, Accuracy: 79.64%\n",
      "\n",
      "EarlyStopping counter: 2 out of 20\n"
     ]
    },
    {
     "name": "stderr",
     "output_type": "stream",
     "text": [
      "Epoch 11/50: 100%|██████████| 639/639 [01:38<00:00,  6.48batch/s]\n"
     ]
    },
    {
     "name": "stdout",
     "output_type": "stream",
     "text": [
      "train accuracy: 89.77684020996094%\n",
      "Specificity: 1.0000, Sensitivity: 0.0005, AUC: 0.9470\n",
      "\n",
      "Test set: Average loss: 0.2899, Accuracy: 84.92%\n",
      "\n",
      "Validation loss decreased (0.291685 --> 0.289891). Saving model...\n"
     ]
    },
    {
     "name": "stderr",
     "output_type": "stream",
     "text": [
      "Epoch 12/50: 100%|██████████| 639/639 [01:34<00:00,  6.74batch/s]\n"
     ]
    },
    {
     "name": "stdout",
     "output_type": "stream",
     "text": [
      "train accuracy: 91.20094299316406%\n",
      "Specificity: 1.0000, Sensitivity: 0.0005, AUC: 0.9443\n",
      "\n",
      "Test set: Average loss: 0.3051, Accuracy: 85.57%\n",
      "\n",
      "EarlyStopping counter: 1 out of 20\n"
     ]
    },
    {
     "name": "stderr",
     "output_type": "stream",
     "text": [
      "Epoch 13/50: 100%|██████████| 639/639 [01:35<00:00,  6.66batch/s]\n"
     ]
    },
    {
     "name": "stdout",
     "output_type": "stream",
     "text": [
      "train accuracy: 92.28736114501953%\n",
      "Specificity: 1.0000, Sensitivity: 0.0005, AUC: 0.9244\n",
      "\n",
      "Test set: Average loss: 0.3540, Accuracy: 82.15%\n",
      "\n",
      "EarlyStopping counter: 2 out of 20\n"
     ]
    },
    {
     "name": "stderr",
     "output_type": "stream",
     "text": [
      "Epoch 14/50: 100%|██████████| 639/639 [01:36<00:00,  6.62batch/s]\n"
     ]
    },
    {
     "name": "stdout",
     "output_type": "stream",
     "text": [
      "train accuracy: 92.92845153808594%\n",
      "Specificity: 1.0000, Sensitivity: 0.0005, AUC: 0.9447\n",
      "\n",
      "Test set: Average loss: 0.3123, Accuracy: 85.07%\n",
      "\n",
      "EarlyStopping counter: 3 out of 20\n"
     ]
    },
    {
     "name": "stderr",
     "output_type": "stream",
     "text": [
      "Epoch 15/50: 100%|██████████| 639/639 [01:31<00:00,  6.98batch/s]\n"
     ]
    },
    {
     "name": "stdout",
     "output_type": "stream",
     "text": [
      "train accuracy: 93.3786849975586%\n",
      "Specificity: 1.0000, Sensitivity: 0.0005, AUC: 0.9124\n",
      "\n",
      "Test set: Average loss: 0.4012, Accuracy: 80.54%\n",
      "\n",
      "EarlyStopping counter: 4 out of 20\n"
     ]
    },
    {
     "name": "stderr",
     "output_type": "stream",
     "text": [
      "Epoch 16/50: 100%|██████████| 639/639 [01:31<00:00,  6.99batch/s]\n"
     ]
    },
    {
     "name": "stdout",
     "output_type": "stream",
     "text": [
      "train accuracy: 93.60379791259766%\n",
      "Specificity: 1.0000, Sensitivity: 0.0005, AUC: 0.9192\n",
      "\n",
      "Test set: Average loss: 0.4054, Accuracy: 82.76%\n",
      "\n",
      "EarlyStopping counter: 5 out of 20\n"
     ]
    },
    {
     "name": "stderr",
     "output_type": "stream",
     "text": [
      "Epoch 17/50: 100%|██████████| 639/639 [01:32<00:00,  6.90batch/s]\n"
     ]
    },
    {
     "name": "stdout",
     "output_type": "stream",
     "text": [
      "train accuracy: 93.98062133789062%\n",
      "Specificity: 1.0000, Sensitivity: 0.0005, AUC: 0.9092\n",
      "\n",
      "Test set: Average loss: 0.4185, Accuracy: 83.31%\n",
      "\n",
      "EarlyStopping counter: 6 out of 20\n"
     ]
    },
    {
     "name": "stderr",
     "output_type": "stream",
     "text": [
      "Epoch 18/50: 100%|██████████| 639/639 [01:31<00:00,  7.01batch/s]\n"
     ]
    },
    {
     "name": "stdout",
     "output_type": "stream",
     "text": [
      "train accuracy: 94.11275482177734%\n",
      "Specificity: 1.0000, Sensitivity: 0.0005, AUC: 0.9342\n",
      "\n",
      "Test set: Average loss: 0.3364, Accuracy: 84.36%\n",
      "\n",
      "EarlyStopping counter: 7 out of 20\n"
     ]
    },
    {
     "name": "stderr",
     "output_type": "stream",
     "text": [
      "Epoch 19/50: 100%|██████████| 639/639 [01:30<00:00,  7.08batch/s]\n"
     ]
    },
    {
     "name": "stdout",
     "output_type": "stream",
     "text": [
      "train accuracy: 94.11764526367188%\n",
      "Specificity: 1.0000, Sensitivity: 0.0005, AUC: 0.9363\n",
      "\n",
      "Test set: Average loss: 0.3329, Accuracy: 84.31%\n",
      "\n",
      "EarlyStopping counter: 8 out of 20\n"
     ]
    },
    {
     "name": "stderr",
     "output_type": "stream",
     "text": [
      "Epoch 20/50: 100%|██████████| 639/639 [01:31<00:00,  6.96batch/s]\n"
     ]
    },
    {
     "name": "stdout",
     "output_type": "stream",
     "text": [
      "train accuracy: 94.27914428710938%\n",
      "Specificity: 1.0000, Sensitivity: 0.0005, AUC: 0.9145\n",
      "\n",
      "Test set: Average loss: 0.4155, Accuracy: 80.79%\n",
      "\n",
      "EarlyStopping counter: 9 out of 20\n"
     ]
    },
    {
     "name": "stderr",
     "output_type": "stream",
     "text": [
      "Epoch 21/50: 100%|██████████| 639/639 [01:31<00:00,  6.98batch/s]\n"
     ]
    },
    {
     "name": "stdout",
     "output_type": "stream",
     "text": [
      "train accuracy: 96.27581787109375%\n",
      "Specificity: 1.0000, Sensitivity: 0.0005, AUC: 0.9223\n",
      "\n",
      "Test set: Average loss: 0.3940, Accuracy: 83.06%\n",
      "\n",
      "EarlyStopping counter: 10 out of 20\n"
     ]
    },
    {
     "name": "stderr",
     "output_type": "stream",
     "text": [
      "Epoch 22/50: 100%|██████████| 639/639 [01:30<00:00,  7.04batch/s]\n"
     ]
    },
    {
     "name": "stdout",
     "output_type": "stream",
     "text": [
      "train accuracy: 96.80924224853516%\n",
      "Specificity: 1.0000, Sensitivity: 0.0005, AUC: 0.9281\n",
      "\n",
      "Test set: Average loss: 0.3849, Accuracy: 83.46%\n",
      "\n",
      "EarlyStopping counter: 11 out of 20\n"
     ]
    },
    {
     "name": "stderr",
     "output_type": "stream",
     "text": [
      "Epoch 23/50: 100%|██████████| 639/639 [01:29<00:00,  7.14batch/s]\n"
     ]
    },
    {
     "name": "stdout",
     "output_type": "stream",
     "text": [
      "train accuracy: 97.10286712646484%\n",
      "Specificity: 1.0000, Sensitivity: 0.0005, AUC: 0.9250\n",
      "\n",
      "Test set: Average loss: 0.3918, Accuracy: 82.96%\n",
      "\n",
      "EarlyStopping counter: 12 out of 20\n"
     ]
    },
    {
     "name": "stderr",
     "output_type": "stream",
     "text": [
      "Epoch 24/50: 100%|██████████| 639/639 [01:30<00:00,  7.04batch/s]\n"
     ]
    },
    {
     "name": "stdout",
     "output_type": "stream",
     "text": [
      "train accuracy: 97.18606567382812%\n",
      "Specificity: 1.0000, Sensitivity: 0.0005, AUC: 0.9260\n",
      "\n",
      "Test set: Average loss: 0.4020, Accuracy: 82.96%\n",
      "\n",
      "EarlyStopping counter: 13 out of 20\n"
     ]
    },
    {
     "name": "stderr",
     "output_type": "stream",
     "text": [
      "Epoch 25/50: 100%|██████████| 639/639 [01:30<00:00,  7.05batch/s]\n"
     ]
    },
    {
     "name": "stdout",
     "output_type": "stream",
     "text": [
      "train accuracy: 97.35734558105469%\n",
      "Specificity: 1.0000, Sensitivity: 0.0005, AUC: 0.9275\n",
      "\n",
      "Test set: Average loss: 0.3985, Accuracy: 83.56%\n",
      "\n",
      "EarlyStopping counter: 14 out of 20\n"
     ]
    },
    {
     "name": "stderr",
     "output_type": "stream",
     "text": [
      "Epoch 26/50: 100%|██████████| 639/639 [01:30<00:00,  7.04batch/s]\n"
     ]
    },
    {
     "name": "stdout",
     "output_type": "stream",
     "text": [
      "train accuracy: 97.4454345703125%\n",
      "Specificity: 1.0000, Sensitivity: 0.0005, AUC: 0.9242\n",
      "\n",
      "Test set: Average loss: 0.4136, Accuracy: 84.82%\n",
      "\n",
      "EarlyStopping counter: 15 out of 20\n"
     ]
    },
    {
     "name": "stderr",
     "output_type": "stream",
     "text": [
      "Epoch 27/50: 100%|██████████| 639/639 [01:33<00:00,  6.83batch/s]\n"
     ]
    },
    {
     "name": "stdout",
     "output_type": "stream",
     "text": [
      "train accuracy: 97.58245849609375%\n",
      "Specificity: 1.0000, Sensitivity: 0.0005, AUC: 0.9238\n",
      "\n",
      "Test set: Average loss: 0.4154, Accuracy: 82.91%\n",
      "\n",
      "EarlyStopping counter: 16 out of 20\n"
     ]
    },
    {
     "name": "stderr",
     "output_type": "stream",
     "text": [
      "Epoch 28/50: 100%|██████████| 639/639 [01:32<00:00,  6.94batch/s]\n"
     ]
    },
    {
     "name": "stdout",
     "output_type": "stream",
     "text": [
      "train accuracy: 97.69501495361328%\n",
      "Specificity: 1.0000, Sensitivity: 0.0005, AUC: 0.9326\n",
      "\n",
      "Test set: Average loss: 0.3871, Accuracy: 84.16%\n",
      "\n",
      "EarlyStopping counter: 17 out of 20\n"
     ]
    },
    {
     "name": "stderr",
     "output_type": "stream",
     "text": [
      "Epoch 29/50: 100%|██████████| 639/639 [01:36<00:00,  6.64batch/s]\n"
     ]
    },
    {
     "name": "stdout",
     "output_type": "stream",
     "text": [
      "train accuracy: 97.61671447753906%\n",
      "Specificity: 1.0000, Sensitivity: 0.0005, AUC: 0.9322\n",
      "\n",
      "Test set: Average loss: 0.3884, Accuracy: 84.57%\n",
      "\n",
      "EarlyStopping counter: 18 out of 20\n"
     ]
    },
    {
     "name": "stderr",
     "output_type": "stream",
     "text": [
      "Epoch 30/50: 100%|██████████| 639/639 [01:39<00:00,  6.41batch/s]\n"
     ]
    },
    {
     "name": "stdout",
     "output_type": "stream",
     "text": [
      "train accuracy: 97.82225799560547%\n",
      "Specificity: 1.0000, Sensitivity: 0.0005, AUC: 0.9247\n",
      "\n",
      "Test set: Average loss: 0.4117, Accuracy: 84.01%\n",
      "\n",
      "EarlyStopping counter: 19 out of 20\n"
     ]
    },
    {
     "name": "stderr",
     "output_type": "stream",
     "text": [
      "Epoch 31/50: 100%|██████████| 639/639 [01:38<00:00,  6.47batch/s]\n"
     ]
    },
    {
     "name": "stdout",
     "output_type": "stream",
     "text": [
      "train accuracy: 97.98374938964844%\n",
      "Specificity: 1.0000, Sensitivity: 0.0005, AUC: 0.9277\n",
      "\n",
      "Test set: Average loss: 0.4094, Accuracy: 84.06%\n",
      "\n",
      "EarlyStopping counter: 20 out of 20\n",
      "Early stopping\n",
      "Final model saved at: /kaggle/working/model/tumor_classification/resnet18/resnet18_final_epoch.pth\n",
      "Generating download link for the final model...\n"
     ]
    },
    {
     "data": {
      "text/html": [
       "<a href='model/tumor_classification/resnet18/resnet18_final_epoch.pth' target='_blank'>model/tumor_classification/resnet18/resnet18_final_epoch.pth</a><br>"
      ],
      "text/plain": [
       "/kaggle/working/model/tumor_classification/resnet18/resnet18_final_epoch.pth"
      ]
     },
     "metadata": {},
     "output_type": "display_data"
    }
   ],
   "source": [
    "import os\n",
    "from IPython.display import FileLink\n",
    "\n",
    "# Model training\n",
    "model.to(device)  \n",
    "\n",
    "best_accuracy = 0\n",
    "early_stop = EarlyStopping(patience=20, verbose=True)\n",
    "\n",
    "project_name = 'tumor_classification'\n",
    "model_name = 'resnet18'\n",
    "\n",
    "# Set Kaggle working directory\n",
    "os.chdir(r'/kaggle/working')\n",
    "\n",
    "for epoch in range(1, total_epochs + 1):\n",
    "    # Training step\n",
    "    train(epoch, model, total_epochs, train_loader, criterion, l2_decay)\n",
    "\n",
    "    # Validation step\n",
    "    with torch.no_grad():\n",
    "        test_loss, accuracy, cm, auc = validation(model, val_loader)\n",
    "\n",
    "    # Handle model state for single/multiple GPUs\n",
    "    model_state_dict = model.module.state_dict() if isinstance(model, nn.parallel.DistributedDataParallel) else model.state_dict()\n",
    "\n",
    "    # Save directory for models\n",
    "    model_save_dir = os.path.join('model', project_name, model_name)\n",
    "    if not os.path.exists(model_save_dir):\n",
    "        os.makedirs(model_save_dir)\n",
    "\n",
    "    # Early stopping check\n",
    "    early_stop(test_loss, model)\n",
    "\n",
    "    # Save the best model based on AUC\n",
    "    if auc > best_accuracy:\n",
    "        best_accuracy = auc\n",
    "        model_save_path = os.path.join(model_save_dir, f'{model_name}_epoch_{epoch}.pth')\n",
    "        torch.save(model_state_dict, model_save_path, _use_new_zipfile_serialization=False)\n",
    "        print(f\"Model saved at: {os.path.abspath(model_save_path)}\")\n",
    "\n",
    "        # Generate download link for Kaggle\n",
    "        print(\"Generating download link for the saved model...\")\n",
    "        display(FileLink(model_save_path))\n",
    "\n",
    "    # Stop training if early stopping is triggered\n",
    "    if early_stop.early_stop:\n",
    "        print(\"Early stopping\")\n",
    "        break\n",
    "\n",
    "# Save the model at the final epoch if early stopping is triggered\n",
    "final_model_save_path = os.path.join(model_save_dir, f'{model_name}_final_epoch.pth')\n",
    "torch.save(model_state_dict, final_model_save_path, _use_new_zipfile_serialization=False)\n",
    "print(f\"Final model saved at: {os.path.abspath(final_model_save_path)}\")\n",
    "\n",
    "# Generate download link for the final model\n",
    "print(\"Generating download link for the final model...\")\n",
    "display(FileLink(final_model_save_path))\n"
   ]
  },
  {
   "cell_type": "code",
   "execution_count": 30,
   "metadata": {
    "editable": false,
    "execution": {
     "iopub.execute_input": "2024-11-22T09:16:25.807876Z",
     "iopub.status.busy": "2024-11-22T09:16:25.807410Z",
     "iopub.status.idle": "2024-11-22T09:16:25.822801Z",
     "shell.execute_reply": "2024-11-22T09:16:25.821747Z",
     "shell.execute_reply.started": "2024-11-22T09:16:25.807833Z"
    },
    "trusted": true
   },
   "outputs": [],
   "source": [
    "from sklearn import metrics\n",
    "\n",
    "from sklearn.metrics import roc_auc_score, roc_curve\n",
    "\n",
    "import torch\n",
    "\n",
    "import numpy as np\n",
    "\n",
    "import torch.nn.functional as F\n",
    "\n",
    "\n",
    "\n",
    "def test(model, test_loader):\n",
    "    name = 'test'\n",
    "    len_test_loader = len(test_loader.dataset)\n",
    "    model.eval()\n",
    "\n",
    "    test_loss = 0\n",
    "    correct = 0\n",
    "    possibilities = None\n",
    "    all_predictions = []\n",
    "    true_labels = []  # Collect true labels here\n",
    "    class_names = ['benign', 'malignant']\n",
    "\n",
    "    for data, target in test_loader:\n",
    "        if torch.cuda.is_available():\n",
    "            data, target = data.cuda(), target.cuda()\n",
    "\n",
    "        test_output = model(data)\n",
    "        test_loss += F.nll_loss(F.log_softmax(test_output, dim=1), target, reduction='sum').item()\n",
    "\n",
    "        pred = test_output.data.max(1)[1]\n",
    "        all_predictions.extend(pred.cpu().numpy())  # Collect predictions\n",
    "        true_labels.extend(target.cpu().numpy())  # Collect true labels\n",
    "\n",
    "        possibility = F.softmax(test_output, dim=1).cpu().data.numpy()\n",
    "        if possibilities is None:\n",
    "            possibilities = possibility\n",
    "        else:\n",
    "            possibilities = np.concatenate((possibilities, possibility), axis=0)\n",
    "\n",
    "        correct += pred.eq(target.data.view_as(pred)).cpu().sum()\n",
    "\n",
    "    # Ensure all_predictions and true_labels are flattened\n",
    "    all_predictions = np.array(all_predictions)\n",
    "    true_labels = np.array(true_labels)\n",
    "\n",
    "    # Classification metrics -> accuracy, F1 score\n",
    "    print(metrics.classification_report(true_labels, all_predictions, target_names=class_names, digits=4))\n",
    "\n",
    "    # Confusion matrix\n",
    "    cm = metrics.confusion_matrix(true_labels, all_predictions)\n",
    "    print(\"\\nConfusion Matrix:\\n\", cm)\n",
    "\n",
    "    # ROC Curve and AUC\n",
    "    num_classes = len(class_names)\n",
    "    label_onehot = np.eye(num_classes)[true_labels.astype(int)]\n",
    "    fpr, tpr, thresholds = roc_curve(label_onehot.ravel(), possibilities.ravel())\n",
    "    auc_value = roc_auc_score(label_onehot, possibilities, average=\"macro\")\n",
    "\n",
    "    # Specificity, Sensitivity, AUC\n",
    "    test_loss /= len_test_loader\n",
    "    print('Specificity: {:.4f}, Sensitivity: {:.4f}, AUC: {:.4f}'.format(1 - fpr[0], tpr[0], auc_value))\n",
    "    print('\\n{} set: Average loss: {:.4f}, Accuracy: {}/{} ({:.2f}%)\\n'.format(\n",
    "        name, test_loss, correct, len_test_loader, 100. * correct / len_test_loader))\n",
    "\n",
    "    #return 100. * correct / len_test_loader, test_loss, auc_value\n",
    "    return 100. * correct / len_test_loader, test_loss, auc_value, fpr, tpr\n",
    "\n"
   ]
  },
  {
   "cell_type": "code",
   "execution_count": 31,
   "metadata": {
    "editable": false,
    "execution": {
     "iopub.execute_input": "2024-11-22T09:16:31.030474Z",
     "iopub.status.busy": "2024-11-22T09:16:31.030154Z",
     "iopub.status.idle": "2024-11-22T09:17:16.058848Z",
     "shell.execute_reply": "2024-11-22T09:17:16.057864Z",
     "shell.execute_reply.started": "2024-11-22T09:16:31.030448Z"
    },
    "trusted": true
   },
   "outputs": [
    {
     "name": "stdout",
     "output_type": "stream",
     "text": [
      "              precision    recall  f1-score   support\n",
      "\n",
      "      benign     0.6338    0.4546    0.5294      1938\n",
      "   malignant     0.8064    0.8964    0.8490      4913\n",
      "\n",
      "    accuracy                         0.7714      6851\n",
      "   macro avg     0.7201    0.6755    0.6892      6851\n",
      "weighted avg     0.7576    0.7714    0.7586      6851\n",
      "\n",
      "\n",
      "Confusion Matrix:\n",
      " [[ 881 1057]\n",
      " [ 509 4404]]\n",
      "Specificity: 1.0000, Sensitivity: 0.0000, AUC: 0.8084\n",
      "\n",
      "test set: Average loss: 0.6559, Accuracy: 5285/6851 (77.14%)\n",
      "\n"
     ]
    }
   ],
   "source": [
    "test_accuracy, test_loss, test_auc, fpr, tpr = test(model, test_loader)"
   ]
  },
  {
   "cell_type": "code",
   "execution_count": 34,
   "metadata": {
    "editable": false,
    "execution": {
     "iopub.execute_input": "2024-11-22T09:19:26.475336Z",
     "iopub.status.busy": "2024-11-22T09:19:26.474719Z",
     "iopub.status.idle": "2024-11-22T09:19:26.817074Z",
     "shell.execute_reply": "2024-11-22T09:19:26.816282Z",
     "shell.execute_reply.started": "2024-11-22T09:19:26.475302Z"
    },
    "trusted": true
   },
   "outputs": [
    {
     "data": {
      "image/png": "[encoded data removed]",
      "text/plain": [
       "<Figure size 500x400 with 1 Axes>"
      ]
     },
     "metadata": {},
     "output_type": "display_data"
    },
    {
     "data": {
      "image/png": "[encoded data removed]",
      "text/plain": [
       "<Figure size 500x400 with 2 Axes>"
      ]
     },
     "metadata": {},
     "output_type": "display_data"
    }
   ],
   "source": [
    "import matplotlib.pyplot as plt\n",
    "\n",
    "def plot_auc(fpr, tpr, auc_value):\n",
    "    plt.figure(figsize=(5, 4))\n",
    "    plt.plot(fpr, tpr, color='blue', lw=2, label=f'AUC = {auc_value:.4f}')\n",
    "    plt.plot([0, 1], [0, 1], color='gray', linestyle='--', lw=1)  # Diagonal line\n",
    "    plt.xlabel('False Positive Rate')\n",
    "    plt.ylabel('True Positive Rate')\n",
    "    plt.title('Receiver Operating Characteristic (ROC) Curve')\n",
    "    plt.legend(loc='lower right')\n",
    "    plt.grid(alpha=0.3)\n",
    "    plt.show()   \n",
    "plot_auc(fpr, tpr, test_auc)\n",
    "\n",
    "import seaborn as sns\n",
    "\n",
    "def plot_confusion_matrix(cm, class_names):\n",
    "    plt.figure(figsize=(5, 4))\n",
    "    sns.heatmap(cm, annot=True, fmt='d', cmap='pink', xticklabels=class_names, yticklabels=class_names)\n",
    "    plt.xlabel('Predicted Labels')\n",
    "    plt.ylabel('True Labels')\n",
    "    plt.title('Confusion Matrix')\n",
    "    plt.show()\n",
    "plot_confusion_matrix(cm, class_names=['benign', 'malignant'])    "
   ]
  },
  {
   "cell_type": "markdown",
   "metadata": {
    "editable": false
   },
   "source": [
    "resnet 50"
   ]
  },
  {
   "cell_type": "code",
   "execution_count": 52,
   "metadata": {
    "editable": false,
    "execution": {
     "iopub.execute_input": "2024-11-22T09:48:24.938746Z",
     "iopub.status.busy": "2024-11-22T09:48:24.937909Z",
     "iopub.status.idle": "2024-11-22T09:48:25.367611Z",
     "shell.execute_reply": "2024-11-22T09:48:25.366730Z",
     "shell.execute_reply.started": "2024-11-22T09:48:24.938701Z"
    },
    "trusted": true
   },
   "outputs": [
    {
     "name": "stderr",
     "output_type": "stream",
     "text": [
      "/opt/conda/lib/python3.10/site-packages/torchvision/models/_utils.py:208: UserWarning: The parameter 'pretrained' is deprecated since 0.13 and may be removed in the future, please use 'weights' instead.\n",
      "  warnings.warn(\n",
      "/opt/conda/lib/python3.10/site-packages/torchvision/models/_utils.py:223: UserWarning: Arguments other than a weight enum or `None` for 'weights' are deprecated since 0.13 and may be removed in the future. The current behavior is equivalent to passing `weights=ResNet50_Weights.IMAGENET1K_V1`. You can also use `weights=ResNet50_Weights.DEFAULT` to get the most up-to-date weights.\n",
      "  warnings.warn(msg)\n"
     ]
    },
    {
     "name": "stdout",
     "output_type": "stream",
     "text": [
      "ResNet50 Model:\n",
      "ResNet(\n",
      "  (conv1): Conv2d(3, 64, kernel_size=(7, 7), stride=(2, 2), padding=(3, 3), bias=False)\n",
      "  (bn1): BatchNorm2d(64, eps=1e-05, momentum=0.1, affine=True, track_running_stats=True)\n",
      "  (relu): ReLU(inplace=True)\n",
      "  (maxpool): MaxPool2d(kernel_size=3, stride=2, padding=1, dilation=1, ceil_mode=False)\n",
      "  (layer1): Sequential(\n",
      "    (0): Bottleneck(\n",
      "      (conv1): Conv2d(64, 64, kernel_size=(1, 1), stride=(1, 1), bias=False)\n",
      "      (bn1): BatchNorm2d(64, eps=1e-05, momentum=0.1, affine=True, track_running_stats=True)\n",
      "      (conv2): Conv2d(64, 64, kernel_size=(3, 3), stride=(1, 1), padding=(1, 1), bias=False)\n",
      "      (bn2): BatchNorm2d(64, eps=1e-05, momentum=0.1, affine=True, track_running_stats=True)\n",
      "      (conv3): Conv2d(64, 256, kernel_size=(1, 1), stride=(1, 1), bias=False)\n",
      "      (bn3): BatchNorm2d(256, eps=1e-05, momentum=0.1, affine=True, track_running_stats=True)\n",
      "      (relu): ReLU(inplace=True)\n",
      "      (downsample): Sequential(\n",
      "        (0): Conv2d(64, 256, kernel_size=(1, 1), stride=(1, 1), bias=False)\n",
      "        (1): BatchNorm2d(256, eps=1e-05, momentum=0.1, affine=True, track_running_stats=True)\n",
      "      )\n",
      "    )\n",
      "    (1): Bottleneck(\n",
      "      (conv1): Conv2d(256, 64, kernel_size=(1, 1), stride=(1, 1), bias=False)\n",
      "      (bn1): BatchNorm2d(64, eps=1e-05, momentum=0.1, affine=True, track_running_stats=True)\n",
      "      (conv2): Conv2d(64, 64, kernel_size=(3, 3), stride=(1, 1), padding=(1, 1), bias=False)\n",
      "      (bn2): BatchNorm2d(64, eps=1e-05, momentum=0.1, affine=True, track_running_stats=True)\n",
      "      (conv3): Conv2d(64, 256, kernel_size=(1, 1), stride=(1, 1), bias=False)\n",
      "      (bn3): BatchNorm2d(256, eps=1e-05, momentum=0.1, affine=True, track_running_stats=True)\n",
      "      (relu): ReLU(inplace=True)\n",
      "    )\n",
      "    (2): Bottleneck(\n",
      "      (conv1): Conv2d(256, 64, kernel_size=(1, 1), stride=(1, 1), bias=False)\n",
      "      (bn1): BatchNorm2d(64, eps=1e-05, momentum=0.1, affine=True, track_running_stats=True)\n",
      "      (conv2): Conv2d(64, 64, kernel_size=(3, 3), stride=(1, 1), padding=(1, 1), bias=False)\n",
      "      (bn2): BatchNorm2d(64, eps=1e-05, momentum=0.1, affine=True, track_running_stats=True)\n",
      "      (conv3): Conv2d(64, 256, kernel_size=(1, 1), stride=(1, 1), bias=False)\n",
      "      (bn3): BatchNorm2d(256, eps=1e-05, momentum=0.1, affine=True, track_running_stats=True)\n",
      "      (relu): ReLU(inplace=True)\n",
      "    )\n",
      "  )\n",
      "  (layer2): Sequential(\n",
      "    (0): Bottleneck(\n",
      "      (conv1): Conv2d(256, 128, kernel_size=(1, 1), stride=(1, 1), bias=False)\n",
      "      (bn1): BatchNorm2d(128, eps=1e-05, momentum=0.1, affine=True, track_running_stats=True)\n",
      "      (conv2): Conv2d(128, 128, kernel_size=(3, 3), stride=(2, 2), padding=(1, 1), bias=False)\n",
      "      (bn2): BatchNorm2d(128, eps=1e-05, momentum=0.1, affine=True, track_running_stats=True)\n",
      "      (conv3): Conv2d(128, 512, kernel_size=(1, 1), stride=(1, 1), bias=False)\n",
      "      (bn3): BatchNorm2d(512, eps=1e-05, momentum=0.1, affine=True, track_running_stats=True)\n",
      "      (relu): ReLU(inplace=True)\n",
      "      (downsample): Sequential(\n",
      "        (0): Conv2d(256, 512, kernel_size=(1, 1), stride=(2, 2), bias=False)\n",
      "        (1): BatchNorm2d(512, eps=1e-05, momentum=0.1, affine=True, track_running_stats=True)\n",
      "      )\n",
      "    )\n",
      "    (1): Bottleneck(\n",
      "      (conv1): Conv2d(512, 128, kernel_size=(1, 1), stride=(1, 1), bias=False)\n",
      "      (bn1): BatchNorm2d(128, eps=1e-05, momentum=0.1, affine=True, track_running_stats=True)\n",
      "      (conv2): Conv2d(128, 128, kernel_size=(3, 3), stride=(1, 1), padding=(1, 1), bias=False)\n",
      "      (bn2): BatchNorm2d(128, eps=1e-05, momentum=0.1, affine=True, track_running_stats=True)\n",
      "      (conv3): Conv2d(128, 512, kernel_size=(1, 1), stride=(1, 1), bias=False)\n",
      "      (bn3): BatchNorm2d(512, eps=1e-05, momentum=0.1, affine=True, track_running_stats=True)\n",
      "      (relu): ReLU(inplace=True)\n",
      "    )\n",
      "    (2): Bottleneck(\n",
      "      (conv1): Conv2d(512, 128, kernel_size=(1, 1), stride=(1, 1), bias=False)\n",
      "      (bn1): BatchNorm2d(128, eps=1e-05, momentum=0.1, affine=True, track_running_stats=True)\n",
      "      (conv2): Conv2d(128, 128, kernel_size=(3, 3), stride=(1, 1), padding=(1, 1), bias=False)\n",
      "      (bn2): BatchNorm2d(128, eps=1e-05, momentum=0.1, affine=True, track_running_stats=True)\n",
      "      (conv3): Conv2d(128, 512, kernel_size=(1, 1), stride=(1, 1), bias=False)\n",
      "      (bn3): BatchNorm2d(512, eps=1e-05, momentum=0.1, affine=True, track_running_stats=True)\n",
      "      (relu): ReLU(inplace=True)\n",
      "    )\n",
      "    (3): Bottleneck(\n",
      "      (conv1): Conv2d(512, 128, kernel_size=(1, 1), stride=(1, 1), bias=False)\n",
      "      (bn1): BatchNorm2d(128, eps=1e-05, momentum=0.1, affine=True, track_running_stats=True)\n",
      "      (conv2): Conv2d(128, 128, kernel_size=(3, 3), stride=(1, 1), padding=(1, 1), bias=False)\n",
      "      (bn2): BatchNorm2d(128, eps=1e-05, momentum=0.1, affine=True, track_running_stats=True)\n",
      "      (conv3): Conv2d(128, 512, kernel_size=(1, 1), stride=(1, 1), bias=False)\n",
      "      (bn3): BatchNorm2d(512, eps=1e-05, momentum=0.1, affine=True, track_running_stats=True)\n",
      "      (relu): ReLU(inplace=True)\n",
      "    )\n",
      "  )\n",
      "  (layer3): Sequential(\n",
      "    (0): Bottleneck(\n",
      "      (conv1): Conv2d(512, 256, kernel_size=(1, 1), stride=(1, 1), bias=False)\n",
      "      (bn1): BatchNorm2d(256, eps=1e-05, momentum=0.1, affine=True, track_running_stats=True)\n",
      "      (conv2): Conv2d(256, 256, kernel_size=(3, 3), stride=(2, 2), padding=(1, 1), bias=False)\n",
      "      (bn2): BatchNorm2d(256, eps=1e-05, momentum=0.1, affine=True, track_running_stats=True)\n",
      "      (conv3): Conv2d(256, 1024, kernel_size=(1, 1), stride=(1, 1), bias=False)\n",
      "      (bn3): BatchNorm2d(1024, eps=1e-05, momentum=0.1, affine=True, track_running_stats=True)\n",
      "      (relu): ReLU(inplace=True)\n",
      "      (downsample): Sequential(\n",
      "        (0): Conv2d(512, 1024, kernel_size=(1, 1), stride=(2, 2), bias=False)\n",
      "        (1): BatchNorm2d(1024, eps=1e-05, momentum=0.1, affine=True, track_running_stats=True)\n",
      "      )\n",
      "    )\n",
      "    (1): Bottleneck(\n",
      "      (conv1): Conv2d(1024, 256, kernel_size=(1, 1), stride=(1, 1), bias=False)\n",
      "      (bn1): BatchNorm2d(256, eps=1e-05, momentum=0.1, affine=True, track_running_stats=True)\n",
      "      (conv2): Conv2d(256, 256, kernel_size=(3, 3), stride=(1, 1), padding=(1, 1), bias=False)\n",
      "      (bn2): BatchNorm2d(256, eps=1e-05, momentum=0.1, affine=True, track_running_stats=True)\n",
      "      (conv3): Conv2d(256, 1024, kernel_size=(1, 1), stride=(1, 1), bias=False)\n",
      "      (bn3): BatchNorm2d(1024, eps=1e-05, momentum=0.1, affine=True, track_running_stats=True)\n",
      "      (relu): ReLU(inplace=True)\n",
      "    )\n",
      "    (2): Bottleneck(\n",
      "      (conv1): Conv2d(1024, 256, kernel_size=(1, 1), stride=(1, 1), bias=False)\n",
      "      (bn1): BatchNorm2d(256, eps=1e-05, momentum=0.1, affine=True, track_running_stats=True)\n",
      "      (conv2): Conv2d(256, 256, kernel_size=(3, 3), stride=(1, 1), padding=(1, 1), bias=False)\n",
      "      (bn2): BatchNorm2d(256, eps=1e-05, momentum=0.1, affine=True, track_running_stats=True)\n",
      "      (conv3): Conv2d(256, 1024, kernel_size=(1, 1), stride=(1, 1), bias=False)\n",
      "      (bn3): BatchNorm2d(1024, eps=1e-05, momentum=0.1, affine=True, track_running_stats=True)\n",
      "      (relu): ReLU(inplace=True)\n",
      "    )\n",
      "    (3): Bottleneck(\n",
      "      (conv1): Conv2d(1024, 256, kernel_size=(1, 1), stride=(1, 1), bias=False)\n",
      "      (bn1): BatchNorm2d(256, eps=1e-05, momentum=0.1, affine=True, track_running_stats=True)\n",
      "      (conv2): Conv2d(256, 256, kernel_size=(3, 3), stride=(1, 1), padding=(1, 1), bias=False)\n",
      "      (bn2): BatchNorm2d(256, eps=1e-05, momentum=0.1, affine=True, track_running_stats=True)\n",
      "      (conv3): Conv2d(256, 1024, kernel_size=(1, 1), stride=(1, 1), bias=False)\n",
      "      (bn3): BatchNorm2d(1024, eps=1e-05, momentum=0.1, affine=True, track_running_stats=True)\n",
      "      (relu): ReLU(inplace=True)\n",
      "    )\n",
      "    (4): Bottleneck(\n",
      "      (conv1): Conv2d(1024, 256, kernel_size=(1, 1), stride=(1, 1), bias=False)\n",
      "      (bn1): BatchNorm2d(256, eps=1e-05, momentum=0.1, affine=True, track_running_stats=True)\n",
      "      (conv2): Conv2d(256, 256, kernel_size=(3, 3), stride=(1, 1), padding=(1, 1), bias=False)\n",
      "      (bn2): BatchNorm2d(256, eps=1e-05, momentum=0.1, affine=True, track_running_stats=True)\n",
      "      (conv3): Conv2d(256, 1024, kernel_size=(1, 1), stride=(1, 1), bias=False)\n",
      "      (bn3): BatchNorm2d(1024, eps=1e-05, momentum=0.1, affine=True, track_running_stats=True)\n",
      "      (relu): ReLU(inplace=True)\n",
      "    )\n",
      "    (5): Bottleneck(\n",
      "      (conv1): Conv2d(1024, 256, kernel_size=(1, 1), stride=(1, 1), bias=False)\n",
      "      (bn1): BatchNorm2d(256, eps=1e-05, momentum=0.1, affine=True, track_running_stats=True)\n",
      "      (conv2): Conv2d(256, 256, kernel_size=(3, 3), stride=(1, 1), padding=(1, 1), bias=False)\n",
      "      (bn2): BatchNorm2d(256, eps=1e-05, momentum=0.1, affine=True, track_running_stats=True)\n",
      "      (conv3): Conv2d(256, 1024, kernel_size=(1, 1), stride=(1, 1), bias=False)\n",
      "      (bn3): BatchNorm2d(1024, eps=1e-05, momentum=0.1, affine=True, track_running_stats=True)\n",
      "      (relu): ReLU(inplace=True)\n",
      "    )\n",
      "  )\n",
      "  (layer4): Sequential(\n",
      "    (0): Bottleneck(\n",
      "      (conv1): Conv2d(1024, 512, kernel_size=(1, 1), stride=(1, 1), bias=False)\n",
      "      (bn1): BatchNorm2d(512, eps=1e-05, momentum=0.1, affine=True, track_running_stats=True)\n",
      "      (conv2): Conv2d(512, 512, kernel_size=(3, 3), stride=(2, 2), padding=(1, 1), bias=False)\n",
      "      (bn2): BatchNorm2d(512, eps=1e-05, momentum=0.1, affine=True, track_running_stats=True)\n",
      "      (conv3): Conv2d(512, 2048, kernel_size=(1, 1), stride=(1, 1), bias=False)\n",
      "      (bn3): BatchNorm2d(2048, eps=1e-05, momentum=0.1, affine=True, track_running_stats=True)\n",
      "      (relu): ReLU(inplace=True)\n",
      "      (downsample): Sequential(\n",
      "        (0): Conv2d(1024, 2048, kernel_size=(1, 1), stride=(2, 2), bias=False)\n",
      "        (1): BatchNorm2d(2048, eps=1e-05, momentum=0.1, affine=True, track_running_stats=True)\n",
      "      )\n",
      "    )\n",
      "    (1): Bottleneck(\n",
      "      (conv1): Conv2d(2048, 512, kernel_size=(1, 1), stride=(1, 1), bias=False)\n",
      "      (bn1): BatchNorm2d(512, eps=1e-05, momentum=0.1, affine=True, track_running_stats=True)\n",
      "      (conv2): Conv2d(512, 512, kernel_size=(3, 3), stride=(1, 1), padding=(1, 1), bias=False)\n",
      "      (bn2): BatchNorm2d(512, eps=1e-05, momentum=0.1, affine=True, track_running_stats=True)\n",
      "      (conv3): Conv2d(512, 2048, kernel_size=(1, 1), stride=(1, 1), bias=False)\n",
      "      (bn3): BatchNorm2d(2048, eps=1e-05, momentum=0.1, affine=True, track_running_stats=True)\n",
      "      (relu): ReLU(inplace=True)\n",
      "    )\n",
      "    (2): Bottleneck(\n",
      "      (conv1): Conv2d(2048, 512, kernel_size=(1, 1), stride=(1, 1), bias=False)\n",
      "      (bn1): BatchNorm2d(512, eps=1e-05, momentum=0.1, affine=True, track_running_stats=True)\n",
      "      (conv2): Conv2d(512, 512, kernel_size=(3, 3), stride=(1, 1), padding=(1, 1), bias=False)\n",
      "      (bn2): BatchNorm2d(512, eps=1e-05, momentum=0.1, affine=True, track_running_stats=True)\n",
      "      (conv3): Conv2d(512, 2048, kernel_size=(1, 1), stride=(1, 1), bias=False)\n",
      "      (bn3): BatchNorm2d(2048, eps=1e-05, momentum=0.1, affine=True, track_running_stats=True)\n",
      "      (relu): ReLU(inplace=True)\n",
      "    )\n",
      "  )\n",
      "  (avgpool): AdaptiveAvgPool2d(output_size=(1, 1))\n",
      "  (fc): Linear(in_features=2048, out_features=1000, bias=True)\n",
      ")\n"
     ]
    }
   ],
   "source": [
    "import torch\n",
    "import torchvision.models as models\n",
    "\n",
    "# For ResNet18\n",
    "resnet50 = models.resnet50(pretrained=True)\n",
    "resnet50.eval()  # Set the model to evaluation mode\n",
    "print(\"ResNet50 Model:\")\n",
    "print(resnet50)"
   ]
  },
  {
   "cell_type": "code",
   "execution_count": 53,
   "metadata": {
    "editable": false,
    "execution": {
     "iopub.execute_input": "2024-11-22T09:48:33.704120Z",
     "iopub.status.busy": "2024-11-22T09:48:33.703772Z",
     "iopub.status.idle": "2024-11-22T09:48:33.708354Z",
     "shell.execute_reply": "2024-11-22T09:48:33.707430Z",
     "shell.execute_reply.started": "2024-11-22T09:48:33.704090Z"
    },
    "trusted": true
   },
   "outputs": [],
   "source": [
    "import torch\n",
    "\n",
    "import torch.nn as nn\n",
    "\n",
    "import torchvision.models as models"
   ]
  },
  {
   "cell_type": "code",
   "execution_count": 54,
   "metadata": {
    "editable": false,
    "execution": {
     "iopub.execute_input": "2024-11-22T09:48:37.698805Z",
     "iopub.status.busy": "2024-11-22T09:48:37.698460Z",
     "iopub.status.idle": "2024-11-22T09:48:37.705909Z",
     "shell.execute_reply": "2024-11-22T09:48:37.704975Z",
     "shell.execute_reply.started": "2024-11-22T09:48:37.698774Z"
    },
    "trusted": true
   },
   "outputs": [],
   "source": [
    "class Resnet50(nn.Module):\n",
    "    def __init__(self, num_classes=2):\n",
    "        super(Resnet50, self).__init__()\n",
    "        model_resnet50 = models.resnet50(pretrained=True)\n",
    "        self.conv1 = model_resnet50.conv1\n",
    "        self.bn1 = model_resnet50.bn1\n",
    "        self.relu = model_resnet50.relu\n",
    "        self.maxpool = model_resnet50.maxpool\n",
    "        self.layer1 = model_resnet50.layer1\n",
    "        self.layer2 = model_resnet50.layer2\n",
    "        self.layer3 = model_resnet50.layer3\n",
    "        self.layer4 = model_resnet50.layer4\n",
    "        self.avgpool = model_resnet50.avgpool\n",
    "        self.features = model_resnet50.fc.in_features\n",
    "        self.fc = nn.Linear(self.features, num_classes)\n",
    "\n",
    "    def forward(self, x):\n",
    "        x = self.conv1(x)\n",
    "        x = self.bn1(x)\n",
    "        x = self.relu(x)\n",
    "        x = self.maxpool(x)\n",
    "        x = self.layer1(x)\n",
    "        x = self.layer2(x)\n",
    "        x = self.layer3(x)\n",
    "        x = self.layer4(x)\n",
    "        x = self.avgpool(x)\n",
    "        x = x.view(x.size(0), -1)\n",
    "        x = self.fc(x)\n",
    "        return x\n"
   ]
  },
  {
   "cell_type": "code",
   "execution_count": 55,
   "metadata": {
    "editable": false,
    "execution": {
     "iopub.execute_input": "2024-11-22T09:48:42.388045Z",
     "iopub.status.busy": "2024-11-22T09:48:42.387659Z",
     "iopub.status.idle": "2024-11-22T09:48:42.817233Z",
     "shell.execute_reply": "2024-11-22T09:48:42.816263Z",
     "shell.execute_reply.started": "2024-11-22T09:48:42.388016Z"
    },
    "trusted": true
   },
   "outputs": [
    {
     "name": "stdout",
     "output_type": "stream",
     "text": [
      "Resnet50(\n",
      "  (conv1): Conv2d(3, 64, kernel_size=(7, 7), stride=(2, 2), padding=(3, 3), bias=False)\n",
      "  (bn1): BatchNorm2d(64, eps=1e-05, momentum=0.1, affine=True, track_running_stats=True)\n",
      "  (relu): ReLU(inplace=True)\n",
      "  (maxpool): MaxPool2d(kernel_size=3, stride=2, padding=1, dilation=1, ceil_mode=False)\n",
      "  (layer1): Sequential(\n",
      "    (0): Bottleneck(\n",
      "      (conv1): Conv2d(64, 64, kernel_size=(1, 1), stride=(1, 1), bias=False)\n",
      "      (bn1): BatchNorm2d(64, eps=1e-05, momentum=0.1, affine=True, track_running_stats=True)\n",
      "      (conv2): Conv2d(64, 64, kernel_size=(3, 3), stride=(1, 1), padding=(1, 1), bias=False)\n",
      "      (bn2): BatchNorm2d(64, eps=1e-05, momentum=0.1, affine=True, track_running_stats=True)\n",
      "      (conv3): Conv2d(64, 256, kernel_size=(1, 1), stride=(1, 1), bias=False)\n",
      "      (bn3): BatchNorm2d(256, eps=1e-05, momentum=0.1, affine=True, track_running_stats=True)\n",
      "      (relu): ReLU(inplace=True)\n",
      "      (downsample): Sequential(\n",
      "        (0): Conv2d(64, 256, kernel_size=(1, 1), stride=(1, 1), bias=False)\n",
      "        (1): BatchNorm2d(256, eps=1e-05, momentum=0.1, affine=True, track_running_stats=True)\n",
      "      )\n",
      "    )\n",
      "    (1): Bottleneck(\n",
      "      (conv1): Conv2d(256, 64, kernel_size=(1, 1), stride=(1, 1), bias=False)\n",
      "      (bn1): BatchNorm2d(64, eps=1e-05, momentum=0.1, affine=True, track_running_stats=True)\n",
      "      (conv2): Conv2d(64, 64, kernel_size=(3, 3), stride=(1, 1), padding=(1, 1), bias=False)\n",
      "      (bn2): BatchNorm2d(64, eps=1e-05, momentum=0.1, affine=True, track_running_stats=True)\n",
      "      (conv3): Conv2d(64, 256, kernel_size=(1, 1), stride=(1, 1), bias=False)\n",
      "      (bn3): BatchNorm2d(256, eps=1e-05, momentum=0.1, affine=True, track_running_stats=True)\n",
      "      (relu): ReLU(inplace=True)\n",
      "    )\n",
      "    (2): Bottleneck(\n",
      "      (conv1): Conv2d(256, 64, kernel_size=(1, 1), stride=(1, 1), bias=False)\n",
      "      (bn1): BatchNorm2d(64, eps=1e-05, momentum=0.1, affine=True, track_running_stats=True)\n",
      "      (conv2): Conv2d(64, 64, kernel_size=(3, 3), stride=(1, 1), padding=(1, 1), bias=False)\n",
      "      (bn2): BatchNorm2d(64, eps=1e-05, momentum=0.1, affine=True, track_running_stats=True)\n",
      "      (conv3): Conv2d(64, 256, kernel_size=(1, 1), stride=(1, 1), bias=False)\n",
      "      (bn3): BatchNorm2d(256, eps=1e-05, momentum=0.1, affine=True, track_running_stats=True)\n",
      "      (relu): ReLU(inplace=True)\n",
      "    )\n",
      "  )\n",
      "  (layer2): Sequential(\n",
      "    (0): Bottleneck(\n",
      "      (conv1): Conv2d(256, 128, kernel_size=(1, 1), stride=(1, 1), bias=False)\n",
      "      (bn1): BatchNorm2d(128, eps=1e-05, momentum=0.1, affine=True, track_running_stats=True)\n",
      "      (conv2): Conv2d(128, 128, kernel_size=(3, 3), stride=(2, 2), padding=(1, 1), bias=False)\n",
      "      (bn2): BatchNorm2d(128, eps=1e-05, momentum=0.1, affine=True, track_running_stats=True)\n",
      "      (conv3): Conv2d(128, 512, kernel_size=(1, 1), stride=(1, 1), bias=False)\n",
      "      (bn3): BatchNorm2d(512, eps=1e-05, momentum=0.1, affine=True, track_running_stats=True)\n",
      "      (relu): ReLU(inplace=True)\n",
      "      (downsample): Sequential(\n",
      "        (0): Conv2d(256, 512, kernel_size=(1, 1), stride=(2, 2), bias=False)\n",
      "        (1): BatchNorm2d(512, eps=1e-05, momentum=0.1, affine=True, track_running_stats=True)\n",
      "      )\n",
      "    )\n",
      "    (1): Bottleneck(\n",
      "      (conv1): Conv2d(512, 128, kernel_size=(1, 1), stride=(1, 1), bias=False)\n",
      "      (bn1): BatchNorm2d(128, eps=1e-05, momentum=0.1, affine=True, track_running_stats=True)\n",
      "      (conv2): Conv2d(128, 128, kernel_size=(3, 3), stride=(1, 1), padding=(1, 1), bias=False)\n",
      "      (bn2): BatchNorm2d(128, eps=1e-05, momentum=0.1, affine=True, track_running_stats=True)\n",
      "      (conv3): Conv2d(128, 512, kernel_size=(1, 1), stride=(1, 1), bias=False)\n",
      "      (bn3): BatchNorm2d(512, eps=1e-05, momentum=0.1, affine=True, track_running_stats=True)\n",
      "      (relu): ReLU(inplace=True)\n",
      "    )\n",
      "    (2): Bottleneck(\n",
      "      (conv1): Conv2d(512, 128, kernel_size=(1, 1), stride=(1, 1), bias=False)\n",
      "      (bn1): BatchNorm2d(128, eps=1e-05, momentum=0.1, affine=True, track_running_stats=True)\n",
      "      (conv2): Conv2d(128, 128, kernel_size=(3, 3), stride=(1, 1), padding=(1, 1), bias=False)\n",
      "      (bn2): BatchNorm2d(128, eps=1e-05, momentum=0.1, affine=True, track_running_stats=True)\n",
      "      (conv3): Conv2d(128, 512, kernel_size=(1, 1), stride=(1, 1), bias=False)\n",
      "      (bn3): BatchNorm2d(512, eps=1e-05, momentum=0.1, affine=True, track_running_stats=True)\n",
      "      (relu): ReLU(inplace=True)\n",
      "    )\n",
      "    (3): Bottleneck(\n",
      "      (conv1): Conv2d(512, 128, kernel_size=(1, 1), stride=(1, 1), bias=False)\n",
      "      (bn1): BatchNorm2d(128, eps=1e-05, momentum=0.1, affine=True, track_running_stats=True)\n",
      "      (conv2): Conv2d(128, 128, kernel_size=(3, 3), stride=(1, 1), padding=(1, 1), bias=False)\n",
      "      (bn2): BatchNorm2d(128, eps=1e-05, momentum=0.1, affine=True, track_running_stats=True)\n",
      "      (conv3): Conv2d(128, 512, kernel_size=(1, 1), stride=(1, 1), bias=False)\n",
      "      (bn3): BatchNorm2d(512, eps=1e-05, momentum=0.1, affine=True, track_running_stats=True)\n",
      "      (relu): ReLU(inplace=True)\n",
      "    )\n",
      "  )\n",
      "  (layer3): Sequential(\n",
      "    (0): Bottleneck(\n",
      "      (conv1): Conv2d(512, 256, kernel_size=(1, 1), stride=(1, 1), bias=False)\n",
      "      (bn1): BatchNorm2d(256, eps=1e-05, momentum=0.1, affine=True, track_running_stats=True)\n",
      "      (conv2): Conv2d(256, 256, kernel_size=(3, 3), stride=(2, 2), padding=(1, 1), bias=False)\n",
      "      (bn2): BatchNorm2d(256, eps=1e-05, momentum=0.1, affine=True, track_running_stats=True)\n",
      "      (conv3): Conv2d(256, 1024, kernel_size=(1, 1), stride=(1, 1), bias=False)\n",
      "      (bn3): BatchNorm2d(1024, eps=1e-05, momentum=0.1, affine=True, track_running_stats=True)\n",
      "      (relu): ReLU(inplace=True)\n",
      "      (downsample): Sequential(\n",
      "        (0): Conv2d(512, 1024, kernel_size=(1, 1), stride=(2, 2), bias=False)\n",
      "        (1): BatchNorm2d(1024, eps=1e-05, momentum=0.1, affine=True, track_running_stats=True)\n",
      "      )\n",
      "    )\n",
      "    (1): Bottleneck(\n",
      "      (conv1): Conv2d(1024, 256, kernel_size=(1, 1), stride=(1, 1), bias=False)\n",
      "      (bn1): BatchNorm2d(256, eps=1e-05, momentum=0.1, affine=True, track_running_stats=True)\n",
      "      (conv2): Conv2d(256, 256, kernel_size=(3, 3), stride=(1, 1), padding=(1, 1), bias=False)\n",
      "      (bn2): BatchNorm2d(256, eps=1e-05, momentum=0.1, affine=True, track_running_stats=True)\n",
      "      (conv3): Conv2d(256, 1024, kernel_size=(1, 1), stride=(1, 1), bias=False)\n",
      "      (bn3): BatchNorm2d(1024, eps=1e-05, momentum=0.1, affine=True, track_running_stats=True)\n",
      "      (relu): ReLU(inplace=True)\n",
      "    )\n",
      "    (2): Bottleneck(\n",
      "      (conv1): Conv2d(1024, 256, kernel_size=(1, 1), stride=(1, 1), bias=False)\n",
      "      (bn1): BatchNorm2d(256, eps=1e-05, momentum=0.1, affine=True, track_running_stats=True)\n",
      "      (conv2): Conv2d(256, 256, kernel_size=(3, 3), stride=(1, 1), padding=(1, 1), bias=False)\n",
      "      (bn2): BatchNorm2d(256, eps=1e-05, momentum=0.1, affine=True, track_running_stats=True)\n",
      "      (conv3): Conv2d(256, 1024, kernel_size=(1, 1), stride=(1, 1), bias=False)\n",
      "      (bn3): BatchNorm2d(1024, eps=1e-05, momentum=0.1, affine=True, track_running_stats=True)\n",
      "      (relu): ReLU(inplace=True)\n",
      "    )\n",
      "    (3): Bottleneck(\n",
      "      (conv1): Conv2d(1024, 256, kernel_size=(1, 1), stride=(1, 1), bias=False)\n",
      "      (bn1): BatchNorm2d(256, eps=1e-05, momentum=0.1, affine=True, track_running_stats=True)\n",
      "      (conv2): Conv2d(256, 256, kernel_size=(3, 3), stride=(1, 1), padding=(1, 1), bias=False)\n",
      "      (bn2): BatchNorm2d(256, eps=1e-05, momentum=0.1, affine=True, track_running_stats=True)\n",
      "      (conv3): Conv2d(256, 1024, kernel_size=(1, 1), stride=(1, 1), bias=False)\n",
      "      (bn3): BatchNorm2d(1024, eps=1e-05, momentum=0.1, affine=True, track_running_stats=True)\n",
      "      (relu): ReLU(inplace=True)\n",
      "    )\n",
      "    (4): Bottleneck(\n",
      "      (conv1): Conv2d(1024, 256, kernel_size=(1, 1), stride=(1, 1), bias=False)\n",
      "      (bn1): BatchNorm2d(256, eps=1e-05, momentum=0.1, affine=True, track_running_stats=True)\n",
      "      (conv2): Conv2d(256, 256, kernel_size=(3, 3), stride=(1, 1), padding=(1, 1), bias=False)\n",
      "      (bn2): BatchNorm2d(256, eps=1e-05, momentum=0.1, affine=True, track_running_stats=True)\n",
      "      (conv3): Conv2d(256, 1024, kernel_size=(1, 1), stride=(1, 1), bias=False)\n",
      "      (bn3): BatchNorm2d(1024, eps=1e-05, momentum=0.1, affine=True, track_running_stats=True)\n",
      "      (relu): ReLU(inplace=True)\n",
      "    )\n",
      "    (5): Bottleneck(\n",
      "      (conv1): Conv2d(1024, 256, kernel_size=(1, 1), stride=(1, 1), bias=False)\n",
      "      (bn1): BatchNorm2d(256, eps=1e-05, momentum=0.1, affine=True, track_running_stats=True)\n",
      "      (conv2): Conv2d(256, 256, kernel_size=(3, 3), stride=(1, 1), padding=(1, 1), bias=False)\n",
      "      (bn2): BatchNorm2d(256, eps=1e-05, momentum=0.1, affine=True, track_running_stats=True)\n",
      "      (conv3): Conv2d(256, 1024, kernel_size=(1, 1), stride=(1, 1), bias=False)\n",
      "      (bn3): BatchNorm2d(1024, eps=1e-05, momentum=0.1, affine=True, track_running_stats=True)\n",
      "      (relu): ReLU(inplace=True)\n",
      "    )\n",
      "  )\n",
      "  (layer4): Sequential(\n",
      "    (0): Bottleneck(\n",
      "      (conv1): Conv2d(1024, 512, kernel_size=(1, 1), stride=(1, 1), bias=False)\n",
      "      (bn1): BatchNorm2d(512, eps=1e-05, momentum=0.1, affine=True, track_running_stats=True)\n",
      "      (conv2): Conv2d(512, 512, kernel_size=(3, 3), stride=(2, 2), padding=(1, 1), bias=False)\n",
      "      (bn2): BatchNorm2d(512, eps=1e-05, momentum=0.1, affine=True, track_running_stats=True)\n",
      "      (conv3): Conv2d(512, 2048, kernel_size=(1, 1), stride=(1, 1), bias=False)\n",
      "      (bn3): BatchNorm2d(2048, eps=1e-05, momentum=0.1, affine=True, track_running_stats=True)\n",
      "      (relu): ReLU(inplace=True)\n",
      "      (downsample): Sequential(\n",
      "        (0): Conv2d(1024, 2048, kernel_size=(1, 1), stride=(2, 2), bias=False)\n",
      "        (1): BatchNorm2d(2048, eps=1e-05, momentum=0.1, affine=True, track_running_stats=True)\n",
      "      )\n",
      "    )\n",
      "    (1): Bottleneck(\n",
      "      (conv1): Conv2d(2048, 512, kernel_size=(1, 1), stride=(1, 1), bias=False)\n",
      "      (bn1): BatchNorm2d(512, eps=1e-05, momentum=0.1, affine=True, track_running_stats=True)\n",
      "      (conv2): Conv2d(512, 512, kernel_size=(3, 3), stride=(1, 1), padding=(1, 1), bias=False)\n",
      "      (bn2): BatchNorm2d(512, eps=1e-05, momentum=0.1, affine=True, track_running_stats=True)\n",
      "      (conv3): Conv2d(512, 2048, kernel_size=(1, 1), stride=(1, 1), bias=False)\n",
      "      (bn3): BatchNorm2d(2048, eps=1e-05, momentum=0.1, affine=True, track_running_stats=True)\n",
      "      (relu): ReLU(inplace=True)\n",
      "    )\n",
      "    (2): Bottleneck(\n",
      "      (conv1): Conv2d(2048, 512, kernel_size=(1, 1), stride=(1, 1), bias=False)\n",
      "      (bn1): BatchNorm2d(512, eps=1e-05, momentum=0.1, affine=True, track_running_stats=True)\n",
      "      (conv2): Conv2d(512, 512, kernel_size=(3, 3), stride=(1, 1), padding=(1, 1), bias=False)\n",
      "      (bn2): BatchNorm2d(512, eps=1e-05, momentum=0.1, affine=True, track_running_stats=True)\n",
      "      (conv3): Conv2d(512, 2048, kernel_size=(1, 1), stride=(1, 1), bias=False)\n",
      "      (bn3): BatchNorm2d(2048, eps=1e-05, momentum=0.1, affine=True, track_running_stats=True)\n",
      "      (relu): ReLU(inplace=True)\n",
      "    )\n",
      "  )\n",
      "  (avgpool): AdaptiveAvgPool2d(output_size=(1, 1))\n",
      "  (fc): Linear(in_features=2048, out_features=2, bias=True)\n",
      ")\n"
     ]
    }
   ],
   "source": [
    "model = Resnet50()\n",
    "\n",
    "print(model)"
   ]
  },
  {
   "cell_type": "markdown",
   "metadata": {
    "editable": false
   },
   "source": [
    "next run \n",
    "1 early stop\n",
    "2 train fun\n",
    "3 val fun"
   ]
  },
  {
   "cell_type": "code",
   "execution_count": 63,
   "metadata": {
    "editable": false,
    "execution": {
     "iopub.execute_input": "2024-11-22T09:51:01.334327Z",
     "iopub.status.busy": "2024-11-22T09:51:01.333958Z",
     "iopub.status.idle": "2024-11-22T09:51:01.790819Z",
     "shell.execute_reply": "2024-11-22T09:51:01.790010Z",
     "shell.execute_reply.started": "2024-11-22T09:51:01.334296Z"
    },
    "trusted": true
   },
   "outputs": [],
   "source": [
    "import torch.nn as nn\n",
    "total_epochs = 50\n",
    "lr = 0.01\n",
    "momentum = 0.9\n",
    "no_cuda = False\n",
    "num_classes=2\n",
    "log_interval = 10\n",
    "l2_decay = 0.01\n",
    "#model = customVGG16(num_classes=num_classes)\n",
    "model = Resnet50(num_classes=num_classes)\n",
    "model = model.to(device)\n",
    "criterion = nn.CrossEntropyLoss()"
   ]
  },
  {
   "cell_type": "code",
   "execution_count": 64,
   "metadata": {
    "editable": false,
    "execution": {
     "iopub.execute_input": "2024-11-22T09:51:50.394820Z",
     "iopub.status.busy": "2024-11-22T09:51:50.394467Z",
     "iopub.status.idle": "2024-11-22T11:35:11.590242Z",
     "shell.execute_reply": "2024-11-22T11:35:11.589437Z",
     "shell.execute_reply.started": "2024-11-22T09:51:50.394794Z"
    },
    "trusted": true
   },
   "outputs": [
    {
     "name": "stderr",
     "output_type": "stream",
     "text": [
      "Epoch 2/50:  47%|████▋     | 299/639 [01:17<01:26,  3.91batch/s]"
     ]
    },
    {
     "name": "stdout",
     "output_type": "stream",
     "text": [
      "Specificity: 1.0000, Sensitivity: 0.0010, AUC: 0.9208\n",
      "\n",
      "Test set: Average loss: 0.3608, Accuracy: 83.36%\n",
      "\n",
      "Validation loss decreased (inf --> 0.360777). Saving model...\n",
      "Model saved at: /kaggle/working/model/tumor_classification_3/resnet50/resnet50_epoch_1.pth\n",
      "Generating download link for the saved model...\n"
     ]
    },
    {
     "data": {
      "text/html": [
       "<a href='model/tumor_classification_3/resnet50/resnet50_epoch_1.pth' target='_blank'>model/tumor_classification_3/resnet50/resnet50_epoch_1.pth</a><br>"
      ],
      "text/plain": [
       "/kaggle/working/model/tumor_classification_3/resnet50/resnet50_epoch_1.pth"
      ]
     },
     "metadata": {},
     "output_type": "display_data"
    },
    {
     "name": "stderr",
     "output_type": "stream",
     "text": [
      "Epoch 3/50: 100%|██████████| 639/639 [02:42<00:00,  3.93batch/s]\n"
     ]
    },
    {
     "name": "stdout",
     "output_type": "stream",
     "text": [
      "train accuracy: 84.04619598388672%\n",
      "Specificity: 1.0000, Sensitivity: 0.0005, AUC: 0.5886\n",
      "\n",
      "Test set: Average loss: 0.7599, Accuracy: 50.58%\n",
      "\n",
      "EarlyStopping counter: 1 out of 20\n"
     ]
    },
    {
     "name": "stderr",
     "output_type": "stream",
     "text": [
      "Epoch 4/50: 100%|██████████| 639/639 [02:43<00:00,  3.91batch/s]\n"
     ]
    },
    {
     "name": "stdout",
     "output_type": "stream",
     "text": [
      "train accuracy: 82.80806732177734%\n",
      "Specificity: 1.0000, Sensitivity: 0.0005, AUC: 0.7872\n",
      "\n",
      "Test set: Average loss: 0.5384, Accuracy: 67.82%\n",
      "\n",
      "EarlyStopping counter: 2 out of 20\n"
     ]
    },
    {
     "name": "stderr",
     "output_type": "stream",
     "text": [
      "Epoch 5/50: 100%|██████████| 639/639 [02:43<00:00,  3.90batch/s]\n"
     ]
    },
    {
     "name": "stdout",
     "output_type": "stream",
     "text": [
      "train accuracy: 81.28609466552734%\n",
      "Specificity: 1.0000, Sensitivity: 0.0005, AUC: 0.6439\n",
      "\n",
      "Test set: Average loss: 0.7001, Accuracy: 58.17%\n",
      "\n",
      "EarlyStopping counter: 3 out of 20\n"
     ]
    },
    {
     "name": "stderr",
     "output_type": "stream",
     "text": [
      "Epoch 6/50: 100%|██████████| 639/639 [02:45<00:00,  3.87batch/s]\n"
     ]
    },
    {
     "name": "stdout",
     "output_type": "stream",
     "text": [
      "train accuracy: 80.91905975341797%\n",
      "Specificity: 0.9995, Sensitivity: 0.0000, AUC: 0.6265\n",
      "\n",
      "Test set: Average loss: 0.9081, Accuracy: 60.99%\n",
      "\n",
      "EarlyStopping counter: 4 out of 20\n"
     ]
    },
    {
     "name": "stderr",
     "output_type": "stream",
     "text": [
      "Epoch 7/50: 100%|██████████| 639/639 [02:43<00:00,  3.91batch/s]\n"
     ]
    },
    {
     "name": "stdout",
     "output_type": "stream",
     "text": [
      "train accuracy: 80.53733825683594%\n",
      "Specificity: 1.0000, Sensitivity: 0.0005, AUC: 0.8718\n",
      "\n",
      "Test set: Average loss: 0.4547, Accuracy: 78.33%\n",
      "\n",
      "EarlyStopping counter: 5 out of 20\n"
     ]
    },
    {
     "name": "stderr",
     "output_type": "stream",
     "text": [
      "Epoch 8/50: 100%|██████████| 639/639 [02:43<00:00,  3.91batch/s]\n"
     ]
    },
    {
     "name": "stdout",
     "output_type": "stream",
     "text": [
      "train accuracy: 80.4345703125%\n",
      "Specificity: 1.0000, Sensitivity: 0.0005, AUC: 0.8319\n",
      "\n",
      "Test set: Average loss: 0.4932, Accuracy: 73.00%\n",
      "\n",
      "EarlyStopping counter: 6 out of 20\n"
     ]
    },
    {
     "name": "stderr",
     "output_type": "stream",
     "text": [
      "Epoch 9/50: 100%|██████████| 639/639 [02:43<00:00,  3.91batch/s]\n"
     ]
    },
    {
     "name": "stdout",
     "output_type": "stream",
     "text": [
      "train accuracy: 80.4884033203125%\n",
      "Specificity: 1.0000, Sensitivity: 0.0005, AUC: 0.8918\n",
      "\n",
      "Test set: Average loss: 0.4075, Accuracy: 77.83%\n",
      "\n",
      "EarlyStopping counter: 7 out of 20\n"
     ]
    },
    {
     "name": "stderr",
     "output_type": "stream",
     "text": [
      "Epoch 10/50: 100%|██████████| 639/639 [02:42<00:00,  3.94batch/s]\n"
     ]
    },
    {
     "name": "stdout",
     "output_type": "stream",
     "text": [
      "train accuracy: 80.34648132324219%\n",
      "Specificity: 1.0000, Sensitivity: 0.0005, AUC: 0.8836\n",
      "\n",
      "Test set: Average loss: 0.4339, Accuracy: 81.05%\n",
      "\n",
      "EarlyStopping counter: 8 out of 20\n"
     ]
    },
    {
     "name": "stderr",
     "output_type": "stream",
     "text": [
      "Epoch 11/50: 100%|██████████| 639/639 [02:43<00:00,  3.91batch/s]\n"
     ]
    },
    {
     "name": "stdout",
     "output_type": "stream",
     "text": [
      "train accuracy: 84.73133087158203%\n",
      "Specificity: 1.0000, Sensitivity: 0.0005, AUC: 0.9087\n",
      "\n",
      "Test set: Average loss: 0.3810, Accuracy: 81.45%\n",
      "\n",
      "EarlyStopping counter: 9 out of 20\n"
     ]
    },
    {
     "name": "stderr",
     "output_type": "stream",
     "text": [
      "Epoch 12/50: 100%|██████████| 639/639 [02:45<00:00,  3.87batch/s]\n"
     ]
    },
    {
     "name": "stdout",
     "output_type": "stream",
     "text": [
      "train accuracy: 86.21904754638672%\n",
      "Specificity: 1.0000, Sensitivity: 0.0005, AUC: 0.9387\n",
      "\n",
      "Test set: Average loss: 0.3144, Accuracy: 83.31%\n",
      "\n",
      "Validation loss decreased (0.360777 --> 0.314363). Saving model...\n",
      "Model saved at: /kaggle/working/model/tumor_classification_3/resnet50/resnet50_epoch_11.pth\n",
      "Generating download link for the saved model...\n"
     ]
    },
    {
     "data": {
      "text/html": [
       "<a href='model/tumor_classification_3/resnet50/resnet50_epoch_11.pth' target='_blank'>model/tumor_classification_3/resnet50/resnet50_epoch_11.pth</a><br>"
      ],
      "text/plain": [
       "/kaggle/working/model/tumor_classification_3/resnet50/resnet50_epoch_11.pth"
      ]
     },
     "metadata": {},
     "output_type": "display_data"
    },
    {
     "name": "stderr",
     "output_type": "stream",
     "text": [
      "Epoch 13/50: 100%|██████████| 639/639 [02:49<00:00,  3.77batch/s]\n"
     ]
    },
    {
     "name": "stdout",
     "output_type": "stream",
     "text": [
      "train accuracy: 86.88949584960938%\n",
      "Specificity: 1.0000, Sensitivity: 0.0005, AUC: 0.9370\n",
      "\n",
      "Test set: Average loss: 0.3182, Accuracy: 82.30%\n",
      "\n",
      "EarlyStopping counter: 1 out of 20\n"
     ]
    },
    {
     "name": "stderr",
     "output_type": "stream",
     "text": [
      "Epoch 14/50: 100%|██████████| 639/639 [02:44<00:00,  3.90batch/s]\n"
     ]
    },
    {
     "name": "stdout",
     "output_type": "stream",
     "text": [
      "train accuracy: 87.7263412475586%\n",
      "Specificity: 1.0000, Sensitivity: 0.0005, AUC: 0.9389\n",
      "\n",
      "Test set: Average loss: 0.3137, Accuracy: 85.37%\n",
      "\n",
      "Validation loss decreased (0.314363 --> 0.313726). Saving model...\n",
      "Model saved at: /kaggle/working/model/tumor_classification_3/resnet50/resnet50_epoch_13.pth\n",
      "Generating download link for the saved model...\n"
     ]
    },
    {
     "data": {
      "text/html": [
       "<a href='model/tumor_classification_3/resnet50/resnet50_epoch_13.pth' target='_blank'>model/tumor_classification_3/resnet50/resnet50_epoch_13.pth</a><br>"
      ],
      "text/plain": [
       "/kaggle/working/model/tumor_classification_3/resnet50/resnet50_epoch_13.pth"
      ]
     },
     "metadata": {},
     "output_type": "display_data"
    },
    {
     "name": "stderr",
     "output_type": "stream",
     "text": [
      "Epoch 15/50: 100%|██████████| 639/639 [02:43<00:00,  3.92batch/s]\n"
     ]
    },
    {
     "name": "stdout",
     "output_type": "stream",
     "text": [
      "train accuracy: 87.89762115478516%\n",
      "Specificity: 1.0000, Sensitivity: 0.0005, AUC: 0.9039\n",
      "\n",
      "Test set: Average loss: 0.3859, Accuracy: 79.19%\n",
      "\n",
      "EarlyStopping counter: 1 out of 20\n"
     ]
    },
    {
     "name": "stderr",
     "output_type": "stream",
     "text": [
      "Epoch 16/50: 100%|██████████| 639/639 [02:44<00:00,  3.89batch/s]\n"
     ]
    },
    {
     "name": "stdout",
     "output_type": "stream",
     "text": [
      "train accuracy: 87.97103118896484%\n",
      "Specificity: 1.0000, Sensitivity: 0.0005, AUC: 0.9286\n",
      "\n",
      "Test set: Average loss: 0.3431, Accuracy: 84.36%\n",
      "\n",
      "EarlyStopping counter: 2 out of 20\n"
     ]
    },
    {
     "name": "stderr",
     "output_type": "stream",
     "text": [
      "Epoch 17/50: 100%|██████████| 639/639 [02:42<00:00,  3.92batch/s]\n"
     ]
    },
    {
     "name": "stdout",
     "output_type": "stream",
     "text": [
      "train accuracy: 88.5338134765625%\n",
      "Specificity: 1.0000, Sensitivity: 0.0005, AUC: 0.9521\n",
      "\n",
      "Test set: Average loss: 0.2765, Accuracy: 85.22%\n",
      "\n",
      "Validation loss decreased (0.313726 --> 0.276504). Saving model...\n",
      "Model saved at: /kaggle/working/model/tumor_classification_3/resnet50/resnet50_epoch_16.pth\n",
      "Generating download link for the saved model...\n"
     ]
    },
    {
     "data": {
      "text/html": [
       "<a href='model/tumor_classification_3/resnet50/resnet50_epoch_16.pth' target='_blank'>model/tumor_classification_3/resnet50/resnet50_epoch_16.pth</a><br>"
      ],
      "text/plain": [
       "/kaggle/working/model/tumor_classification_3/resnet50/resnet50_epoch_16.pth"
      ]
     },
     "metadata": {},
     "output_type": "display_data"
    },
    {
     "name": "stderr",
     "output_type": "stream",
     "text": [
      "Epoch 18/50: 100%|██████████| 639/639 [02:42<00:00,  3.93batch/s]\n"
     ]
    },
    {
     "name": "stdout",
     "output_type": "stream",
     "text": [
      "train accuracy: 88.44083404541016%\n",
      "Specificity: 1.0000, Sensitivity: 0.0005, AUC: 0.9309\n",
      "\n",
      "Test set: Average loss: 0.3452, Accuracy: 84.67%\n",
      "\n",
      "EarlyStopping counter: 1 out of 20\n"
     ]
    },
    {
     "name": "stderr",
     "output_type": "stream",
     "text": [
      "Epoch 19/50: 100%|██████████| 639/639 [02:43<00:00,  3.92batch/s]\n"
     ]
    },
    {
     "name": "stdout",
     "output_type": "stream",
     "text": [
      "train accuracy: 88.89595794677734%\n",
      "Specificity: 1.0000, Sensitivity: 0.0005, AUC: 0.9028\n",
      "\n",
      "Test set: Average loss: 0.3969, Accuracy: 79.89%\n",
      "\n",
      "EarlyStopping counter: 2 out of 20\n"
     ]
    },
    {
     "name": "stderr",
     "output_type": "stream",
     "text": [
      "Epoch 20/50: 100%|██████████| 639/639 [02:42<00:00,  3.92batch/s]\n"
     ]
    },
    {
     "name": "stdout",
     "output_type": "stream",
     "text": [
      "train accuracy: 88.95957946777344%\n",
      "Specificity: 1.0000, Sensitivity: 0.0005, AUC: 0.9212\n",
      "\n",
      "Test set: Average loss: 0.3576, Accuracy: 83.61%\n",
      "\n",
      "EarlyStopping counter: 3 out of 20\n"
     ]
    },
    {
     "name": "stderr",
     "output_type": "stream",
     "text": [
      "Epoch 21/50: 100%|██████████| 639/639 [02:45<00:00,  3.86batch/s]\n"
     ]
    },
    {
     "name": "stdout",
     "output_type": "stream",
     "text": [
      "train accuracy: 90.97582244873047%\n",
      "Specificity: 1.0000, Sensitivity: 0.0005, AUC: 0.9411\n",
      "\n",
      "Test set: Average loss: 0.3108, Accuracy: 85.37%\n",
      "\n",
      "EarlyStopping counter: 4 out of 20\n"
     ]
    },
    {
     "name": "stderr",
     "output_type": "stream",
     "text": [
      "Epoch 22/50: 100%|██████████| 639/639 [02:46<00:00,  3.85batch/s]\n"
     ]
    },
    {
     "name": "stdout",
     "output_type": "stream",
     "text": [
      "train accuracy: 91.70500183105469%\n",
      "Specificity: 1.0000, Sensitivity: 0.0005, AUC: 0.9451\n",
      "\n",
      "Test set: Average loss: 0.3030, Accuracy: 86.32%\n",
      "\n",
      "EarlyStopping counter: 5 out of 20\n"
     ]
    },
    {
     "name": "stderr",
     "output_type": "stream",
     "text": [
      "Epoch 23/50: 100%|██████████| 639/639 [02:44<00:00,  3.90batch/s]\n"
     ]
    },
    {
     "name": "stdout",
     "output_type": "stream",
     "text": [
      "train accuracy: 92.09650421142578%\n",
      "Specificity: 1.0000, Sensitivity: 0.0005, AUC: 0.9257\n",
      "\n",
      "Test set: Average loss: 0.3560, Accuracy: 84.62%\n",
      "\n",
      "EarlyStopping counter: 6 out of 20\n"
     ]
    },
    {
     "name": "stderr",
     "output_type": "stream",
     "text": [
      "Epoch 24/50: 100%|██████████| 639/639 [02:45<00:00,  3.86batch/s]\n"
     ]
    },
    {
     "name": "stdout",
     "output_type": "stream",
     "text": [
      "train accuracy: 92.1748046875%\n",
      "Specificity: 1.0000, Sensitivity: 0.0005, AUC: 0.9366\n",
      "\n",
      "Test set: Average loss: 0.3382, Accuracy: 85.52%\n",
      "\n",
      "EarlyStopping counter: 7 out of 20\n"
     ]
    },
    {
     "name": "stderr",
     "output_type": "stream",
     "text": [
      "Epoch 25/50: 100%|██████████| 639/639 [02:43<00:00,  3.91batch/s]\n"
     ]
    },
    {
     "name": "stdout",
     "output_type": "stream",
     "text": [
      "train accuracy: 92.49779510498047%\n",
      "Specificity: 1.0000, Sensitivity: 0.0005, AUC: 0.9373\n",
      "\n",
      "Test set: Average loss: 0.3293, Accuracy: 85.17%\n",
      "\n",
      "EarlyStopping counter: 8 out of 20\n"
     ]
    },
    {
     "name": "stderr",
     "output_type": "stream",
     "text": [
      "Epoch 26/50: 100%|██████████| 639/639 [02:43<00:00,  3.90batch/s]\n"
     ]
    },
    {
     "name": "stdout",
     "output_type": "stream",
     "text": [
      "train accuracy: 92.10629272460938%\n",
      "Specificity: 1.0000, Sensitivity: 0.0005, AUC: 0.9336\n",
      "\n",
      "Test set: Average loss: 0.3412, Accuracy: 85.32%\n",
      "\n",
      "EarlyStopping counter: 9 out of 20\n"
     ]
    },
    {
     "name": "stderr",
     "output_type": "stream",
     "text": [
      "Epoch 27/50: 100%|██████████| 639/639 [02:48<00:00,  3.79batch/s]\n"
     ]
    },
    {
     "name": "stdout",
     "output_type": "stream",
     "text": [
      "train accuracy: 92.60057067871094%\n",
      "Specificity: 1.0000, Sensitivity: 0.0005, AUC: 0.9391\n",
      "\n",
      "Test set: Average loss: 0.3264, Accuracy: 85.62%\n",
      "\n",
      "EarlyStopping counter: 10 out of 20\n"
     ]
    },
    {
     "name": "stderr",
     "output_type": "stream",
     "text": [
      "Epoch 28/50: 100%|██████████| 639/639 [02:45<00:00,  3.86batch/s]\n"
     ]
    },
    {
     "name": "stdout",
     "output_type": "stream",
     "text": [
      "train accuracy: 92.7816390991211%\n",
      "Specificity: 1.0000, Sensitivity: 0.0005, AUC: 0.9238\n",
      "\n",
      "Test set: Average loss: 0.3732, Accuracy: 83.66%\n",
      "\n",
      "EarlyStopping counter: 11 out of 20\n"
     ]
    },
    {
     "name": "stderr",
     "output_type": "stream",
     "text": [
      "Epoch 29/50: 100%|██████████| 639/639 [02:43<00:00,  3.90batch/s]\n"
     ]
    },
    {
     "name": "stdout",
     "output_type": "stream",
     "text": [
      "train accuracy: 92.81100463867188%\n",
      "Specificity: 1.0000, Sensitivity: 0.0005, AUC: 0.9202\n",
      "\n",
      "Test set: Average loss: 0.3663, Accuracy: 83.16%\n",
      "\n",
      "EarlyStopping counter: 12 out of 20\n"
     ]
    },
    {
     "name": "stderr",
     "output_type": "stream",
     "text": [
      "Epoch 30/50: 100%|██████████| 639/639 [02:43<00:00,  3.91batch/s]\n"
     ]
    },
    {
     "name": "stdout",
     "output_type": "stream",
     "text": [
      "train accuracy: 93.16825103759766%\n",
      "Specificity: 1.0000, Sensitivity: 0.0005, AUC: 0.9274\n",
      "\n",
      "Test set: Average loss: 0.3639, Accuracy: 85.37%\n",
      "\n",
      "EarlyStopping counter: 13 out of 20\n"
     ]
    },
    {
     "name": "stderr",
     "output_type": "stream",
     "text": [
      "Epoch 31/50: 100%|██████████| 639/639 [02:42<00:00,  3.92batch/s]\n"
     ]
    },
    {
     "name": "stdout",
     "output_type": "stream",
     "text": [
      "train accuracy: 93.56954193115234%\n",
      "Specificity: 1.0000, Sensitivity: 0.0005, AUC: 0.9328\n",
      "\n",
      "Test set: Average loss: 0.3489, Accuracy: 85.47%\n",
      "\n",
      "EarlyStopping counter: 14 out of 20\n"
     ]
    },
    {
     "name": "stderr",
     "output_type": "stream",
     "text": [
      "Epoch 32/50: 100%|██████████| 639/639 [02:46<00:00,  3.84batch/s]\n"
     ]
    },
    {
     "name": "stdout",
     "output_type": "stream",
     "text": [
      "train accuracy: 93.69677734375%\n",
      "Specificity: 1.0000, Sensitivity: 0.0005, AUC: 0.9320\n",
      "\n",
      "Test set: Average loss: 0.3530, Accuracy: 84.92%\n",
      "\n",
      "EarlyStopping counter: 15 out of 20\n"
     ]
    },
    {
     "name": "stderr",
     "output_type": "stream",
     "text": [
      "Epoch 33/50: 100%|██████████| 639/639 [02:43<00:00,  3.92batch/s]\n"
     ]
    },
    {
     "name": "stdout",
     "output_type": "stream",
     "text": [
      "train accuracy: 93.30038452148438%\n",
      "Specificity: 1.0000, Sensitivity: 0.0005, AUC: 0.9323\n",
      "\n",
      "Test set: Average loss: 0.3563, Accuracy: 85.02%\n",
      "\n",
      "EarlyStopping counter: 16 out of 20\n"
     ]
    },
    {
     "name": "stderr",
     "output_type": "stream",
     "text": [
      "Epoch 34/50: 100%|██████████| 639/639 [02:43<00:00,  3.92batch/s]\n"
     ]
    },
    {
     "name": "stdout",
     "output_type": "stream",
     "text": [
      "train accuracy: 93.59400939941406%\n",
      "Specificity: 1.0000, Sensitivity: 0.0005, AUC: 0.9320\n",
      "\n",
      "Test set: Average loss: 0.3558, Accuracy: 85.37%\n",
      "\n",
      "EarlyStopping counter: 17 out of 20\n"
     ]
    },
    {
     "name": "stderr",
     "output_type": "stream",
     "text": [
      "Epoch 35/50: 100%|██████████| 639/639 [02:42<00:00,  3.94batch/s]\n"
     ]
    },
    {
     "name": "stdout",
     "output_type": "stream",
     "text": [
      "train accuracy: 93.50102996826172%\n",
      "Specificity: 1.0000, Sensitivity: 0.0005, AUC: 0.9226\n",
      "\n",
      "Test set: Average loss: 0.3835, Accuracy: 83.91%\n",
      "\n",
      "EarlyStopping counter: 18 out of 20\n"
     ]
    },
    {
     "name": "stderr",
     "output_type": "stream",
     "text": [
      "Epoch 37/50: 100%|██████████| 639/639 [02:43<00:00,  3.91batch/s]\n"
     ]
    },
    {
     "name": "stdout",
     "output_type": "stream",
     "text": [
      "train accuracy: 93.60379791259766%\n",
      "Specificity: 1.0000, Sensitivity: 0.0005, AUC: 0.9308\n",
      "\n",
      "Test set: Average loss: 0.3641, Accuracy: 84.97%\n",
      "\n",
      "EarlyStopping counter: 20 out of 20\n",
      "Early stopping\n",
      "Final model saved at: /kaggle/working/model/tumor_classification_3/resnet50/resnet50_final_epoch.pth\n",
      "Generating download link for the final model...\n"
     ]
    },
    {
     "data": {
      "text/html": [
       "<a href='model/tumor_classification_3/resnet50/resnet50_final_epoch.pth' target='_blank'>model/tumor_classification_3/resnet50/resnet50_final_epoch.pth</a><br>"
      ],
      "text/plain": [
       "/kaggle/working/model/tumor_classification_3/resnet50/resnet50_final_epoch.pth"
      ]
     },
     "metadata": {},
     "output_type": "display_data"
    }
   ],
   "source": [
    "import os\n",
    "from IPython.display import FileLink\n",
    "\n",
    "# Model training\n",
    "model.to(device)  \n",
    "\n",
    "best_accuracy = 0\n",
    "early_stop = EarlyStopping(patience=20, verbose=True)\n",
    "\n",
    "project_name = 'tumor_classification_3'\n",
    "model_name = 'resnet50'\n",
    "\n",
    "# Set Kaggle working directory\n",
    "os.chdir(r'/kaggle/working')\n",
    "\n",
    "for epoch in range(1, total_epochs + 1):\n",
    "    # Training step\n",
    "    train(epoch, model, total_epochs, train_loader, criterion, l2_decay)\n",
    "\n",
    "    # Validation step\n",
    "    with torch.no_grad():\n",
    "        test_loss, accuracy, cm, auc = validation(model, val_loader)\n",
    "\n",
    "    # Handle model state for single/multiple GPUs\n",
    "    model_state_dict = model.module.state_dict() if isinstance(model, nn.parallel.DistributedDataParallel) else model.state_dict()\n",
    "\n",
    "    # Save directory for models\n",
    "    model_save_dir = os.path.join('model', project_name, model_name)\n",
    "    if not os.path.exists(model_save_dir):\n",
    "        os.makedirs(model_save_dir)\n",
    "\n",
    "    # Early stopping check\n",
    "    early_stop(test_loss, model)\n",
    "\n",
    "    # Save the best model based on AUC\n",
    "    if auc > best_accuracy:\n",
    "        best_accuracy = auc\n",
    "        model_save_path = os.path.join(model_save_dir, f'{model_name}_epoch_{epoch}.pth')\n",
    "        torch.save(model_state_dict, model_save_path, _use_new_zipfile_serialization=False)\n",
    "        print(f\"Model saved at: {os.path.abspath(model_save_path)}\")\n",
    "\n",
    "        # Generate download link for Kaggle\n",
    "        print(\"Generating download link for the saved model...\")\n",
    "        display(FileLink(model_save_path))\n",
    "\n",
    "    # Stop training if early stopping is triggered\n",
    "    if early_stop.early_stop:\n",
    "        print(\"Early stopping\")\n",
    "        break\n",
    "\n",
    "# Save the model at the final epoch if early stopping is triggered\n",
    "final_model_save_path = os.path.join(model_save_dir, f'{model_name}_final_epoch.pth')\n",
    "torch.save(model_state_dict, final_model_save_path, _use_new_zipfile_serialization=False)\n",
    "print(f\"Final model saved at: {os.path.abspath(final_model_save_path)}\")\n",
    "\n",
    "# Generate download link for the final model\n",
    "print(\"Generating download link for the final model...\")\n",
    "display(FileLink(final_model_save_path))\n"
   ]
  },
  {
   "cell_type": "code",
   "execution_count": 65,
   "metadata": {
    "editable": false,
    "execution": {
     "iopub.execute_input": "2024-11-22T11:43:48.173743Z",
     "iopub.status.busy": "2024-11-22T11:43:48.173011Z",
     "iopub.status.idle": "2024-11-22T11:43:48.183594Z",
     "shell.execute_reply": "2024-11-22T11:43:48.182724Z",
     "shell.execute_reply.started": "2024-11-22T11:43:48.173704Z"
    },
    "trusted": true
   },
   "outputs": [],
   "source": [
    "from sklearn import metrics\n",
    "\n",
    "from sklearn.metrics import roc_auc_score, roc_curve\n",
    "\n",
    "import torch\n",
    "\n",
    "import numpy as np\n",
    "\n",
    "import torch.nn.functional as F\n",
    "\n",
    "\n",
    "\n",
    "def test(model, test_loader):\n",
    "    name = 'test'\n",
    "    len_test_loader = len(test_loader.dataset)\n",
    "    model.eval()\n",
    "\n",
    "    test_loss = 0\n",
    "    correct = 0\n",
    "    possibilities = None\n",
    "    all_predictions = []\n",
    "    true_labels = []  # Collect true labels here\n",
    "    class_names = ['benign', 'malignant']\n",
    "\n",
    "    for data, target in test_loader:\n",
    "        if torch.cuda.is_available():\n",
    "            data, target = data.cuda(), target.cuda()\n",
    "\n",
    "        test_output = model(data)\n",
    "        test_loss += F.nll_loss(F.log_softmax(test_output, dim=1), target, reduction='sum').item()\n",
    "\n",
    "        pred = test_output.data.max(1)[1]\n",
    "        all_predictions.extend(pred.cpu().numpy())  # Collect predictions\n",
    "        true_labels.extend(target.cpu().numpy())  # Collect true labels\n",
    "\n",
    "        possibility = F.softmax(test_output, dim=1).cpu().data.numpy()\n",
    "        if possibilities is None:\n",
    "            possibilities = possibility\n",
    "        else:\n",
    "            possibilities = np.concatenate((possibilities, possibility), axis=0)\n",
    "\n",
    "        correct += pred.eq(target.data.view_as(pred)).cpu().sum()\n",
    "\n",
    "    # Ensure all_predictions and true_labels are flattened\n",
    "    all_predictions = np.array(all_predictions)\n",
    "    true_labels = np.array(true_labels)\n",
    "\n",
    "    # Classification metrics -> accuracy, F1 score\n",
    "    print(metrics.classification_report(true_labels, all_predictions, target_names=class_names, digits=4))\n",
    "\n",
    "    # Confusion matrix\n",
    "    cm = metrics.confusion_matrix(true_labels, all_predictions)\n",
    "    print(\"\\nConfusion Matrix:\\n\", cm)\n",
    "\n",
    "    # ROC Curve and AUC\n",
    "    num_classes = len(class_names)\n",
    "    label_onehot = np.eye(num_classes)[true_labels.astype(int)]\n",
    "    fpr, tpr, thresholds = roc_curve(label_onehot.ravel(), possibilities.ravel())\n",
    "    auc_value = roc_auc_score(label_onehot, possibilities, average=\"macro\")\n",
    "\n",
    "    # Specificity, Sensitivity, AUC\n",
    "    test_loss /= len_test_loader\n",
    "    print('Specificity: {:.4f}, Sensitivity: {:.4f}, AUC: {:.4f}'.format(1 - fpr[0], tpr[0], auc_value))\n",
    "    print('\\n{} set: Average loss: {:.4f}, Accuracy: {}/{} ({:.2f}%)\\n'.format(\n",
    "        name, test_loss, correct, len_test_loader, 100. * correct / len_test_loader))\n",
    "\n",
    "    #return 100. * correct / len_test_loader, test_loss, auc_value\n",
    "    return 100. * correct / len_test_loader, test_loss, auc_value, fpr, tpr\n",
    "\n"
   ]
  },
  {
   "cell_type": "code",
   "execution_count": 47,
   "metadata": {
    "editable": false,
    "execution": {
     "iopub.execute_input": "2024-11-21T12:23:21.159759Z",
     "iopub.status.busy": "2024-11-21T12:23:21.159033Z",
     "iopub.status.idle": "2024-11-21T12:23:54.723085Z",
     "shell.execute_reply": "2024-11-21T12:23:54.722202Z",
     "shell.execute_reply.started": "2024-11-21T12:23:21.159725Z"
    },
    "trusted": true
   },
   "outputs": [
    {
     "name": "stdout",
     "output_type": "stream",
     "text": [
      "              precision    recall  f1-score   support\n",
      "\n",
      "      benign     0.5913    0.4912    0.5366      1938\n",
      "   malignant     0.8119    0.8661    0.8381      4913\n",
      "\n",
      "    accuracy                         0.7600      6851\n",
      "   macro avg     0.7016    0.6786    0.6874      6851\n",
      "weighted avg     0.7495    0.7600    0.7528      6851\n",
      "\n",
      "\n",
      "Confusion Matrix:\n",
      " [[ 952  986]\n",
      " [ 658 4255]]\n",
      "Specificity: 1.0000, Sensitivity: 0.0000, AUC: 0.7912\n",
      "\n",
      "test set: Average loss: 0.6254, Accuracy: 5207/6851 (76.00%)\n",
      "\n"
     ]
    }
   ],
   "source": [
    "test_accuracy, test_loss, test_auc, fpr, tpr = test(model, test_loader)"
   ]
  },
  {
   "cell_type": "code",
   "execution_count": 66,
   "metadata": {
    "editable": false,
    "execution": {
     "iopub.execute_input": "2024-11-22T11:44:15.467065Z",
     "iopub.status.busy": "2024-11-22T11:44:15.466312Z",
     "iopub.status.idle": "2024-11-22T11:44:15.802183Z",
     "shell.execute_reply": "2024-11-22T11:44:15.801382Z",
     "shell.execute_reply.started": "2024-11-22T11:44:15.467031Z"
    },
    "trusted": true
   },
   "outputs": [
    {
     "data": {
      "image/png": "[encoded data removed]",
      "text/plain": [
       "<Figure size 500x400 with 1 Axes>"
      ]
     },
     "metadata": {},
     "output_type": "display_data"
    },
    {
     "data": {
      "image/png": "[encoded data removed]",
      "text/plain": [
       "<Figure size 500x400 with 2 Axes>"
      ]
     },
     "metadata": {},
     "output_type": "display_data"
    }
   ],
   "source": [
    "import matplotlib.pyplot as plt\n",
    "\n",
    "def plot_auc(fpr, tpr, auc_value):\n",
    "    plt.figure(figsize=(5, 4))\n",
    "    plt.plot(fpr, tpr, color='blue', lw=2, label=f'AUC = {auc_value:.4f}')\n",
    "    plt.plot([0, 1], [0, 1], color='gray', linestyle='--', lw=1)  # Diagonal line\n",
    "    plt.xlabel('False Positive Rate')\n",
    "    plt.ylabel('True Positive Rate')\n",
    "    plt.title('Receiver Operating Characteristic (ROC) Curve')\n",
    "    plt.legend(loc='lower right')\n",
    "    plt.grid(alpha=0.3)\n",
    "    plt.show()   \n",
    "plot_auc(fpr, tpr, test_auc)\n",
    "\n",
    "import seaborn as sns\n",
    "\n",
    "def plot_confusion_matrix(cm, class_names):\n",
    "    plt.figure(figsize=(5, 4))\n",
    "    sns.heatmap(cm, annot=True, fmt='d', cmap='pink', xticklabels=class_names, yticklabels=class_names)\n",
    "    plt.xlabel('Predicted Labels')\n",
    "    plt.ylabel('True Labels')\n",
    "    plt.title('Confusion Matrix')\n",
    "    plt.show()\n",
    "plot_confusion_matrix(cm, class_names=['benign', 'malignant'])    "
   ]
  }
 ],
 "metadata": {
  "accelerator": "TPU",
  "colab": {
   "authorship_tag": "ABX9TyMINi9kggaIyOLXoXv/LeqD",
   "gpuType": "V28",
   "mount_file_id": "14LWwAD_E4klL0zzK1LyQH6yFhEdZhnX1",
   "private_outputs": true,
   "provenance": []
  },
  "kaggle": {
   "accelerator": "gpu",
   "dataSources": [
    {
     "datasetId": 6129129,
     "sourceId": 9963874,
     "sourceType": "datasetVersion"
    },
    {
     "datasetId": 6137077,
     "sourceId": 9974648,
     "sourceType": "datasetVersion"
    }
   ],
   "dockerImageVersionId": 30787,
   "isGpuEnabled": true,
   "isInternetEnabled": true,
   "language": "python",
   "sourceType": "notebook"
  },
  "kernelspec": {
   "display_name": "Python 3",
   "language": "python",
   "name": "python3"
  },
  "language_info": {
   "codemirror_mode": {
    "name": "ipython",
    "version": 3
   },
   "file_extension": ".py",
   "mimetype": "text/x-python",
   "name": "python",
   "nbconvert_exporter": "python",
   "pygments_lexer": "ipython3",
   "version": "3.10.14"
  }
 },
 "nbformat": 4,
 "nbformat_minor": 4
}
